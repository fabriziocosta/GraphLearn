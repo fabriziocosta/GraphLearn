{
 "cells": [
  {
   "cell_type": "code",
   "execution_count": 1,
   "metadata": {
    "collapsed": false
   },
   "outputs": [
    {
     "name": "stdout",
     "output_type": "stream",
     "text": [
      "/home/ikea/GraphLearn/example\r\n"
     ]
    }
   ],
   "source": [
    "%load_ext autoreload\n",
    "%autoreload 2\n",
    "from eden.util import configure_logging\n",
    "import logging\n",
    "configure_logging(logging.getLogger(),verbosity=1)\n",
    "%matplotlib inline\n",
    "!pwd"
   ]
  },
  {
   "cell_type": "code",
   "execution_count": 2,
   "metadata": {
    "collapsed": false
   },
   "outputs": [],
   "source": [
    "# get data\n",
    "from eden.converter.graph.gspan import gspan_to_eden\n",
    "from itertools import islice\n",
    "\n",
    "\n",
    "def clean(graphs):\n",
    "    for g in graphs:\n",
    "        for n,d in g.nodes(data=True):\n",
    "            d.pop('weight')\n",
    "        yield g\n",
    "\n",
    "def get_graphs(dataset_fname='bursi.pos.gspan', size=100):\n",
    "    return  clean(islice(gspan_to_eden(dataset_fname),size))\n",
    "\n",
    "\n",
    "#dataset_names = !cat NCI60/names\n",
    "#dataset = dataset_names[4]\n",
    "#dataset_fname = 'NCI60/' + dataset + '_orig_pos.gspan'\n",
    "#print 'Working with dataset: %s' % dataset \n"
   ]
  },
  {
   "cell_type": "code",
   "execution_count": 3,
   "metadata": {
    "collapsed": false,
    "scrolled": false
   },
   "outputs": [
    {
     "ename": "ImportError",
     "evalue": "No module named rna_my_abstract",
     "output_type": "error",
     "traceback": [
      "\u001b[1;31m---------------------------------------------------------------------------\u001b[0m",
      "\u001b[1;31mImportError\u001b[0m                               Traceback (most recent call last)",
      "\u001b[1;32m<ipython-input-3-e13034fefa6d>\u001b[0m in \u001b[0;36m<module>\u001b[1;34m()\u001b[0m\n\u001b[0;32m      1\u001b[0m \u001b[1;34m'''DEBUGGING VECTORIZA'''\u001b[0m\u001b[1;33m\u001b[0m\u001b[0m\n\u001b[0;32m      2\u001b[0m \u001b[1;32mfrom\u001b[0m \u001b[0mgraphlearn\u001b[0m\u001b[1;33m.\u001b[0m\u001b[0mutils\u001b[0m \u001b[1;32mimport\u001b[0m \u001b[0mdraw\u001b[0m\u001b[1;33m\u001b[0m\u001b[0m\n\u001b[1;32m----> 3\u001b[1;33m \u001b[1;32mimport\u001b[0m \u001b[0mgraphlearn\u001b[0m\u001b[1;33m.\u001b[0m\u001b[0mabstract_graphs\u001b[0m\u001b[1;33m.\u001b[0m\u001b[0mmolecules\u001b[0m \u001b[1;32mas\u001b[0m \u001b[0mmole\u001b[0m\u001b[1;33m\u001b[0m\u001b[0m\n\u001b[0m\u001b[0;32m      4\u001b[0m \u001b[1;32mfrom\u001b[0m \u001b[0mgraphlearn\u001b[0m\u001b[1;33m.\u001b[0m\u001b[0mgraphlearn\u001b[0m \u001b[1;32mimport\u001b[0m \u001b[0mGraphLearnSampler\u001b[0m \u001b[1;32mas\u001b[0m \u001b[0mGLS\u001b[0m\u001b[1;33m\u001b[0m\u001b[0m\n\u001b[0;32m      5\u001b[0m \u001b[1;32mfrom\u001b[0m \u001b[0meden\u001b[0m\u001b[1;33m.\u001b[0m\u001b[0mgraph\u001b[0m \u001b[1;32mimport\u001b[0m \u001b[0mVectorizer\u001b[0m\u001b[1;33m\u001b[0m\u001b[0m\n",
      "\u001b[1;32m/home/ikea/GraphLearn/example/graphlearn/abstract_graphs/molecules.py\u001b[0m in \u001b[0;36m<module>\u001b[1;34m()\u001b[0m\n\u001b[1;32m----> 1\u001b[1;33m \u001b[1;32mimport\u001b[0m \u001b[0mgraphlearn\u001b[0m\u001b[1;33m.\u001b[0m\u001b[0mabstract_graphs\u001b[0m\u001b[1;33m.\u001b[0m\u001b[0mrna_my_abstract\u001b[0m\u001b[1;33m\u001b[0m\u001b[0m\n\u001b[0m\u001b[0;32m      2\u001b[0m \u001b[1;32mfrom\u001b[0m \u001b[0mubergraphlearn\u001b[0m \u001b[1;32mimport\u001b[0m \u001b[0mUberGraphWrapper\u001b[0m\u001b[1;33m\u001b[0m\u001b[0m\n\u001b[0;32m      3\u001b[0m \u001b[1;32mimport\u001b[0m \u001b[0mubergraphlearn\u001b[0m\u001b[1;33m\u001b[0m\u001b[0m\n\u001b[0;32m      4\u001b[0m \u001b[1;32mimport\u001b[0m \u001b[0mnetworkx\u001b[0m \u001b[1;32mas\u001b[0m \u001b[0mnx\u001b[0m\u001b[1;33m\u001b[0m\u001b[0m\n\u001b[0;32m      5\u001b[0m \u001b[1;32mimport\u001b[0m \u001b[0mgraphlearn\u001b[0m\u001b[1;33m.\u001b[0m\u001b[0mutils\u001b[0m\u001b[1;33m.\u001b[0m\u001b[0mdraw\u001b[0m \u001b[1;32mas\u001b[0m \u001b[0mdraw\u001b[0m\u001b[1;33m\u001b[0m\u001b[0m\n",
      "\u001b[1;31mImportError\u001b[0m: No module named rna_my_abstract"
     ]
    }
   ],
   "source": [
    "'''DEBUGGING VECTORIZA'''\n",
    "from graphlearn.utils import draw\n",
    "import graphlearn.abstract_graphs.molecules as mole\n",
    "from graphlearn.graphlearn import GraphLearnSampler as GLS\n",
    "from eden.graph import Vectorizer\n",
    "\n",
    "vectorizer=Vectorizer()\n",
    "graphs=get_graphs()\n",
    "g=graphs.next()\n",
    "g=vectorizer._graph_preprocessing(g)\n",
    "\n",
    "\n",
    "gm=mole.MolecularGraphWrapper(g,vectorizer,base_thickness_list=[2])\n",
    "gn=gm.graph(nested=True)\n",
    "\n",
    "#gn=vectorizer._graph_preprocessing(gn)\n",
    "#gn=vectorizer._edge_to_vertex_transform(gn)\n",
    "draw.graphlearn(gn,size=20)\n",
    "v=vectorizer.transform_single(gn)"
   ]
  },
  {
   "cell_type": "code",
   "execution_count": null,
   "metadata": {
    "collapsed": false,
    "scrolled": false
   },
   "outputs": [],
   "source": [
    "'''TESTING EXTRACTION AND GRAPHMANAGER'''\n",
    "from graphlearn.utils import draw\n",
    "import graphlearn.abstract_graphs.molecules as mole\n",
    "from graphlearn.graphlearn import GraphLearnSampler as GLS\n",
    "from eden.graph import Vectorizer\n",
    "\n",
    "vectorizer=Vectorizer()\n",
    "\n",
    "print 'DEMONSTRATING GRAPH MANAGER'\n",
    "graphs=get_graphs()\n",
    "\n",
    "for i in range(2):\n",
    "    print 'grammar example %d' % i\n",
    "    g=graphs.next()\n",
    "    gm=mole.MolecularGraphWrapper(g,vectorizer,base_thickness_list=[2])\n",
    "    #g=gm.graph(nested=True)\n",
    "    #print g.nodes(data=True)\n",
    "    #g.node[0].pop('weight')\n",
    "    #vec=vectorizer.transform_single(g)\n",
    "    draw.graphlearn([gm.graph(nested=True),gm.abstract_graph(),gm.base_graph()], size = 15,vertex_label = 'label',contract=False)\n",
    "\n",
    "    \n",
    "print 'DEMONSTRATING EXTRACTION'  \n",
    "radius_list=[0,2]\n",
    "thickness_list=[2,4]\n",
    "base_thickness_list=[2]\n",
    "argz=(gm,radius_list,thickness_list,Vectorizer(),2**20-1,lambda x,y:True, base_thickness_list)\n",
    "\n",
    "cips=gm.all_core_interface_pairs(thickness_list=[2],radius_list=[0,1],hash_bitmask=2**20-1)\n",
    "draw.graphlearn(cips[0][0].graph, contract=False)\n",
    "\n",
    "\n",
    "g=gm.graph(nested=False)\n",
    "print 'test', g.nodes(data=True)[0][1]\n",
    "#g.node[0].pop('weight')\n",
    "vec=vectorizer.transform_single(g)"
   ]
  },
  {
   "cell_type": "code",
   "execution_count": null,
   "metadata": {
    "collapsed": false,
    "scrolled": false
   },
   "outputs": [],
   "source": [
    "%%time\n",
    "'''\n",
    "learning a grammar\n",
    "'''\n",
    "import graphlearn.abstract_graphs.molecules as mole\n",
    "from graphlearn.graphlearn import GraphLearnSampler as GLS\n",
    "graphs = get_graphs()\n",
    "sampler=GLS(radius_list=[0,1],thickness_list=[1], min_cip_count=1, min_interface_count=2, graphwrapper=mole.GraphWrapper(base_thickness_list=[2]))\n",
    "sampler.fit(graphs,n_jobs=1,batch_size=1)\n",
    "sampler.save('tmp/mole_ubergrammar.ge')\n",
    "\n",
    "\n"
   ]
  },
  {
   "cell_type": "code",
   "execution_count": null,
   "metadata": {
    "collapsed": false,
    "scrolled": false
   },
   "outputs": [],
   "source": [
    "#draw production rules\n",
    "draw.draw_grammar(sampler.lsgg.productions,n_productions=5,n_graphs_per_production=5,\n",
    "                     n_graphs_per_line=5, size=9, contract=True,\n",
    "                     colormap='Paired', invert_colormap=False,node_border=1,\n",
    "                     vertex_alpha=0.6, edge_alpha=0.5, node_size=450, abstract_interface=True)\n",
    "\n",
    "    "
   ]
  },
  {
   "cell_type": "code",
   "execution_count": null,
   "metadata": {
    "collapsed": false,
    "scrolled": false
   },
   "outputs": [],
   "source": [
    "%%time\n",
    "'''\n",
    "Molecule sampling\n",
    "'''\n",
    "import os\n",
    "os.nice(19)\n",
    "import graphlearn.utils.draw as draw\n",
    "import graphlearn.abstract_graphs.molecules as mole\n",
    "import itertools\n",
    "#sampler=mole.MolecularSampler()\n",
    "#sampler.load('tmp/mole_ubergrammar.ge')\n",
    "graphs = get_graphs()\n",
    "\n",
    "id_start=15\n",
    "id_end=id_start+9\n",
    "graphs = itertools.islice(graphs,id_start,id_end)\n",
    "n_steps=100\n",
    "\n",
    "graphs = sampler.sample(graphs,\n",
    "                        n_samples=5,\n",
    "                        batch_size=1,\n",
    "                        n_steps=n_steps,\n",
    "                        n_jobs=4,\n",
    "                        quick_skip_orig_cip=True,\n",
    "                        probabilistic_core_choice=False,\n",
    "                        burnin=0,\n",
    "                        improving_threshold=0.5,\n",
    "                        max_core_size_diff=5,\n",
    "                        select_cip_max_tries=100,\n",
    "                        keep_duplicates=True,\n",
    "                        omit_seed=False)\n",
    "\n",
    " \n",
    "scores=[]\n",
    "ids=range(id_start,id_end)\n",
    "for i,graph in enumerate(graphs):\n",
    "    print 'Graph id: %d'%(ids[i])\n",
    "    scores.append(graph.graph['sampling_info']['score_history'])\n",
    "    path_graphs = graph.graph['sampling_info']['graphs_history']\n",
    "    \n",
    "\n",
    "    path_graphs= list(path_graphs)\n",
    "    draw.graphlearn(path_graphs,\n",
    "                           n_graphs_per_line=5, size=10, \n",
    "                           colormap='Paired', invert_colormap=False,node_border=0.5, vertex_color='color_level',\n",
    "                           vertex_alpha=0.5, edge_alpha=0.7, node_size=450,edge_label='label',\n",
    "                          headlinehook= draw.get_score_of_graph\n",
    "                          )\n",
    "    "
   ]
  },
  {
   "cell_type": "code",
   "execution_count": null,
   "metadata": {
    "collapsed": false
   },
   "outputs": [],
   "source": [
    "%matplotlib inline\n",
    "from itertools import islice\n",
    "import numpy as np\n",
    "import matplotlib.pyplot as plt\n",
    "step=1\n",
    "num_graphs_per_plot=3\n",
    "num_plots=np.ceil([len(scores)/num_graphs_per_plot])\n",
    "for i in range(num_plots):\n",
    "    plt.figure(figsize=(10,5))\n",
    "    for j,score in enumerate(scores[i*num_graphs_per_plot:i*num_graphs_per_plot+num_graphs_per_plot]):\n",
    "        data = list(islice(score,None, None, step))\n",
    "        plt.plot(data, label='graph %d'%(j+i*num_graphs_per_plot+id_start))\n",
    "    plt.legend(loc='lower right')\n",
    "    plt.grid()\n",
    "    plt.ylim(-0.1,1.1)\n",
    "    plt.show()"
   ]
  },
  {
   "cell_type": "code",
   "execution_count": null,
   "metadata": {
    "collapsed": false,
    "scrolled": false
   },
   "outputs": [],
   "source": [
    "\n",
    "import networkx as nx\n",
    "import graphlearn.utils.draw as draw\n",
    "from eden.graph import Vectorizer\n",
    "\n",
    "v=Vectorizer()\n",
    "def getpathgraph(labels):\n",
    "    nlabels= len(labels)\n",
    "    G=nx.path_graph(nlabels)\n",
    "    for e in range(nlabels):\n",
    "        G.node[e]['label']=labels[e]\n",
    "    for e in range(nlabels-1):\n",
    "        G.edge[e][e+1]['label']='.'\n",
    "    return G\n",
    "\n",
    "g=getpathgraph(\"ABC\")\n",
    "\n",
    "g= v._edge_to_vertex_transform(g)\n",
    "\n",
    "draw.graphlearn_draw(g,contract=False,show_direction=True)\n",
    "\n",
    "g2=nx.DiGraph(g)\n",
    "#draw.display(g2,contract=False,vertex_label='id')\n",
    "\n",
    "for n,d in g2.nodes(data=True):\n",
    "    if 'edge' in d:\n",
    "        if d['label']=='.':\n",
    "            ns=g2.neighbors(n)\n",
    "            g2.remove_edge(ns[1],n)\n",
    "            g2.remove_edge(n,ns[0])\n",
    "          \n",
    "       \n",
    "#g2 = g2.to_undirected()\n",
    "draw.graphlearn_draw(g2,contract=False,vertex_label='id',show_direction=True)\n",
    "g2.edges()\n",
    "for n in g2.nodes():\n",
    "    print n,g2.neighbors(n)\n",
    "print isinstance(g2, nx.DiGraph) "
   ]
  },
  {
   "cell_type": "code",
   "execution_count": null,
   "metadata": {
    "collapsed": false
   },
   "outputs": [],
   "source": [
    "g2.edges(0,data=True)"
   ]
  },
  {
   "cell_type": "code",
   "execution_count": null,
   "metadata": {
    "collapsed": false
   },
   "outputs": [],
   "source": [
    "asd = g2.subgraph(range(2)).copy()"
   ]
  },
  {
   "cell_type": "code",
   "execution_count": null,
   "metadata": {
    "collapsed": false
   },
   "outputs": [],
   "source": []
  },
  {
   "cell_type": "code",
   "execution_count": null,
   "metadata": {
    "collapsed": false
   },
   "outputs": [],
   "source": [
    "class A(object):\n",
    "    def __init__(self,a=123):\n",
    "        self.a=a\n",
    "        \n",
    "        \n",
    "class B(A):\n",
    "    def __init__(self,b=122):\n",
    "        super(B,self).__init__(b)\n",
    "        \n",
    "        \n",
    "\n",
    "class C(A):\n",
    "    def __init__(self,c=121):\n",
    "        super(C,self).__init__(c)\n",
    "        \n",
    "        \n",
    "c=C()\n",
    "c.a\n",
    "        \n",
    "        \n",
    "        \n",
    "    \n",
    "    "
   ]
  },
  {
   "cell_type": "code",
   "execution_count": null,
   "metadata": {
    "collapsed": false
   },
   "outputs": [],
   "source": [
    "import networkx as nx \n",
    "\n",
    "dg= nx.DiGraph()\n",
    "type(dg) == nx.DiGraph"
   ]
  },
  {
   "cell_type": "code",
   "execution_count": null,
   "metadata": {
    "collapsed": false
   },
   "outputs": [],
   "source": [
    "# testin cycle stuff\n",
    "import networkx as nx\n",
    "import graphlearn.utils.draw as draw\n",
    "import graphlearn.feasibility as feas\n",
    "from eden.graph import Vectorizer\n",
    "v=Vectorizer()\n",
    "%matplotlib inline\n",
    "\n",
    "\n",
    "def find_all_cycles(G, source=None, cycle_length_limit=None):\n",
    "    \"\"\"forked from networkx dfs_edges function. Assumes nodes are integers, or at least\n",
    "    types which work with min() and > .\"\"\"\n",
    "    if source is None:\n",
    "        # produce edges for all components\n",
    "        nodes=[i[0] for i in nx.connected_components(G)]\n",
    "    else:\n",
    "        # produce edges for components with source\n",
    "        nodes=[source]\n",
    "    # extra variables for cycle detection:\n",
    "    cycle_stack = []\n",
    "    output_cycles = set()\n",
    "    \n",
    "    def get_hashable_cycle(cycle):\n",
    "        \"\"\"cycle as a tuple in a deterministic order.\"\"\"\n",
    "        m = min(cycle)\n",
    "        mi = cycle.index(m)\n",
    "        mi_plus_1 = mi + 1 if mi < len(cycle) - 1 else 0\n",
    "        if cycle[mi-1] > cycle[mi_plus_1]:\n",
    "            result = cycle[mi:] + cycle[:mi]\n",
    "        else:\n",
    "            result = list(reversed(cycle[:mi_plus_1])) + list(reversed(cycle[mi_plus_1:]))\n",
    "        return tuple(result)\n",
    "    \n",
    "    for start in nodes:\n",
    "        if start in cycle_stack:\n",
    "            continue\n",
    "        cycle_stack.append(start)\n",
    "        \n",
    "        stack = [(start,iter(G[start]))]\n",
    "        while stack:\n",
    "            parent,children = stack[-1]\n",
    "            try:\n",
    "                child = next(children)\n",
    "                \n",
    "                if child not in cycle_stack:\n",
    "                    cycle_stack.append(child)\n",
    "                    stack.append((child,iter(G[child])))\n",
    "                else:\n",
    "                    i = cycle_stack.index(child)\n",
    "                    if i < len(cycle_stack) - 2: \n",
    "                      output_cycles.add(get_hashable_cycle(cycle_stack[i:]))\n",
    "                \n",
    "            except StopIteration:\n",
    "                stack.pop()\n",
    "                cycle_stack.pop()\n",
    "    \n",
    "    return [list(i) for i in output_cycles]\n",
    "\n",
    "\n",
    "def getpathgraph(labels):\n",
    "    nlabels= len(labels)\n",
    "    G=nx.path_graph(nlabels)\n",
    "    for e in range(nlabels):\n",
    "        G.node[e]['label']=labels[e]\n",
    "    for e in range(nlabels-1):\n",
    "        G.edge[e][e+1]['label']='.'\n",
    "    return G\n",
    "\n",
    "#g=getpathgraph(\"ABC\")\n",
    "\n",
    "#g= v._edge_to_vertex_transform(g)\n",
    "\n",
    "#draw.graphlearn_draw(g,contract=False,show_direction=True)\n",
    "\n",
    "\n",
    "#draw.display(g2,contract=False,vertex_label='id')\n",
    "\n",
    "g=nx.cycle_graph(10)\n",
    "g.add_edge(2,7)\n",
    "g.add_edge(10,0)\n",
    "\n",
    "draw.graphlearn_draw(g, vertex_label='id')\n",
    "\n",
    "\n",
    "feas.rooted_problem_cycle(g,2,4)"
   ]
  },
  {
   "cell_type": "code",
   "execution_count": null,
   "metadata": {
    "collapsed": false
   },
   "outputs": [],
   "source": [
    "\"\"\"\n",
    "proving my point ..  about tee\n",
    "\"\"\"\n",
    "%time\n",
    "def getit():\n",
    "    for x in xrange(9999999999):\n",
    "        yield x\n",
    "        \n",
    "import itertools\n",
    "g=getit()\n",
    "a,b= itertools.tee(g)\n",
    "\n",
    "for i in xrange(99999999):\n",
    "    z=a.next()\n",
    "\n",
    "\n",
    "\n"
   ]
  },
  {
   "cell_type": "code",
   "execution_count": null,
   "metadata": {
    "collapsed": false,
    "scrolled": false
   },
   "outputs": [],
   "source": [
    "from eden.graph import Vectorizer\n",
    "import networkx as nx\n",
    "from graphlearn.utils import draw\n",
    "\n",
    "# create graph, label everything\n",
    "g=nx.cycle_graph(5)\n",
    "for n,d in g.nodes(data=True):\n",
    "    d['label']=str(n)\n",
    "for a,b,d in g.edges(data=True):\n",
    "    d['label']='edge'\n",
    "    \n",
    "# get a vectorizer\n",
    "vec=Vectorizer()\n",
    "\n",
    "# alter graph a little\n",
    "g=vec._edge_to_vertex_transform(g)\n",
    "\n",
    "g.add_node(100, label='ubernode',node=True)\n",
    "g.add_node(110, label='ubernode',edge=True)\n",
    "g.add_node(111, label='ubernode',edge=True)\n",
    "\n",
    "\n",
    "g.add_edge(100,110,nesting=True,label='edge')\n",
    "g.add_edge(100,111,nesting=True,label='edge')\n",
    "\n",
    "g.add_edge(110,0,nesting=True,label='edge')\n",
    "g.add_edge(111,6,nesting=True,label='edge')\n",
    "\n",
    "\n",
    "\n",
    "g.add_node(101, label='ubernode',edge=True)\n",
    "g.add_edge(100,101)\n",
    "g.add_node(102, label='ubernode',node=True)\n",
    "g.add_edge(102,101)\n",
    "\n",
    "\n",
    "draw.graphlearn(g, size= 20)\n",
    "#g=vec._graph_preprocessing(g)\n",
    "#draw.graphlearn(g)\n",
    "\n",
    "print nx.info(g)\n",
    "\n",
    "print type(vec.transform_single(g))\n",
    "\n",
    "\n"
   ]
  },
  {
   "cell_type": "code",
   "execution_count": null,
   "metadata": {
    "collapsed": false
   },
   "outputs": [],
   "source": [
    "\n",
    "\n",
    "\n",
    "\n",
    "\n"
   ]
  },
  {
   "cell_type": "code",
   "execution_count": null,
   "metadata": {
    "collapsed": true
   },
   "outputs": [],
   "source": []
  }
 ],
 "metadata": {
  "kernelspec": {
   "display_name": "Python 2",
   "language": "python",
   "name": "python2"
  },
  "language_info": {
   "codemirror_mode": {
    "name": "ipython",
    "version": 2
   },
   "file_extension": ".py",
   "mimetype": "text/x-python",
   "name": "python",
   "nbconvert_exporter": "python",
   "pygments_lexer": "ipython2",
   "version": "2.7.9"
  }
 },
 "nbformat": 4,
 "nbformat_minor": 0
}
