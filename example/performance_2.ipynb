{
 "cells": [
  {
   "cell_type": "code",
   "execution_count": null,
   "metadata": {
    "collapsed": false
   },
   "outputs": [],
   "source": [
    "#here we test all the components."
   ]
  },
  {
   "cell_type": "code",
   "execution_count": null,
   "metadata": {
    "collapsed": false
   },
   "outputs": [],
   "source": [
    "'''\n",
    "second performance test\n",
    "'''\n",
    "%time\n",
    "import sys\n",
    "sys.path.append('..')\n",
    "%matplotlib inline\n",
    "# you might need this:\n",
    "#import matplotlib\n",
    "#matplotlib.use('Agg')\n",
    "\n",
    "from eden.converter.graph.gspan import gspan_to_eden\n",
    "from graphlearn.graphlearn import GraphLearnSampler\n",
    "import itertools\n",
    "from eden.graph import Vectorizer\n",
    "import matplotlib.pyplot as plt\n",
    "\n",
    "from eden.util import fit_estimator,fit , random_bipartition_iter,estimate\n",
    "import random\n",
    "from eden.util import selection_iterator as picker\n",
    "from sklearn.linear_model import SGDClassifier\n",
    "\n",
    "vect=Vectorizer(complexity = 3)\n",
    "#2401 positives and 1936 negatives\n",
    "NUMPOS=2401\n",
    "NUMNEG=1936\n",
    "\n",
    "######################## testing ##############################\n",
    "\n",
    "def train_estimator_and_evaluate_testsets(pos_original,neg_original,pos_augmented,neg_augmented,test_pos,test_neg):\n",
    "\n",
    "    # create graph sets...orig augmented and sampled\n",
    "    pos_orig,pos_orig_ = itertools.tee(pos_original,2)\n",
    "    neg_orig,neg_orig_ = itertools.tee(neg_original,2)\n",
    "    \n",
    "    pos_augmented , pos_sampled = itertools.tee(pos_augmented)\n",
    "    neg_augmented , neg_sampled = itertools.tee(neg_augmented)\n",
    "    \n",
    "    pos_augmented = itertools.chain(pos_augmented,pos_orig_)\n",
    "    neg_augmented = itertools.chain(neg_augmented,neg_orig_)\n",
    "\n",
    "    res=[]\n",
    "    for (iterpos,iterneg) in [(pos_orig, neg_orig,vect),( pos_augmented, neg_augmented),(pos_sampled,neg_sampeled)]:\n",
    "        test_pos,p=itertools.tee(test_pos)\n",
    "        test_neg,n=itertools.tee(test_neg)\n",
    "        res.append(estimate(p,n,fit(iterpos,iterneg,vect),vect)[1])\n",
    "    return res\n",
    "\n",
    "\n",
    "############ sampelr ###########\n",
    "def unpack(graphs):\n",
    "    for graphlist in graphs:\n",
    "        yield graphlist[0]\n",
    "\n",
    "def sample(graphs):\n",
    "\n",
    "    sampler =GraphLearnSampler()\n",
    "    sampler.fit(graphs)\n",
    "    return unpack(sampler.sample(graphs_,\n",
    "                        same_radius=False,\n",
    "                        same_core_size=False,\n",
    "                        sampling_interval=9999,\n",
    "                        select_cip_max_tries=100,\n",
    "                        batch_size=30,\n",
    "                        n_steps=100,\n",
    "                        n_jobs=1,\n",
    "                        annealing_factor=0.9\n",
    "                        ))\n",
    "\n",
    "\n"
   ]
  },
  {
   "cell_type": "code",
   "execution_count": null,
   "metadata": {
    "collapsed": false
   },
   "outputs": [],
   "source": [
    "%time\n",
    "\n",
    "# initializing \n",
    "graphs_pos= gspan_to_eden('bursi.pos.gspan')\n",
    "graphs_neg= gspan_to_eden('bursi.neg.gspan')\n",
    "originals=[]\n",
    "improved=[]\n",
    "only_new=[]\n",
    "\n",
    "percentages=[.2,.4,.6,.8,1]\n",
    "percentages=[.1]\n",
    "\n",
    "for perc in percentages:\n",
    "\n",
    "    ######### first we generate all the iterators ###########\n",
    "    # copy the mega set\n",
    "    graphs_pos, graphs_pos_ = itertools.tee(graphs_pos,2)\n",
    "    graphs_neg, graphs_neg_ = itertools.tee(graphs_neg,2)\n",
    "\n",
    "\n",
    "    # use shuffled list to create test and sample set\n",
    "    pos,pos_test = random_bipartition_iter(graphs_pos_,0.7*perc)\n",
    "    pos,pos_= itertools.tee(pos)\n",
    "    neg,neg_test = random_bipartition_iter(graphs_neg_,0.7*perc)\n",
    "    neg,neg_= itertools.tee(neg)\n",
    " \n",
    "    ############### then we sample #####################\n",
    "    improved_neg= sample(neg)\n",
    "    improved_pos= sample(pos)\n",
    "    \n",
    "    \n",
    "    ######### and last we evaluate ###########\n",
    "    print 'evaluating..'\n",
    "    aug,ori,new=train_estimator_and_evaluate_testsets( pos_,neg_,improved_pos, improved_neg, postest,negtest)\n",
    "    improved.append(aug)\n",
    "    originals.append(ori)\n",
    "    only_new.append(new)\n",
    "    print \"done:\"+str(perc)\n",
    "    print \"*\"*80\n",
    "\n",
    "print improved\n",
    "print originals\n",
    "# draw \n",
    "t = range(len(percentages))\n",
    "plt.plot(t,originals ,'bs')\n",
    "plt.plot(t, improved ,'g^')\n",
    "plt.savefig('zomg2.png')\n"
   ]
  },
  {
   "cell_type": "code",
   "execution_count": null,
   "metadata": {
    "collapsed": false
   },
   "outputs": [],
   "source": []
  },
  {
   "cell_type": "code",
   "execution_count": null,
   "metadata": {
    "collapsed": true
   },
   "outputs": [],
   "source": []
  }
 ],
 "metadata": {
  "kernelspec": {
   "display_name": "Python 2",
   "language": "python",
   "name": "python2"
  },
  "language_info": {
   "codemirror_mode": {
    "name": "ipython",
    "version": 2
   },
   "file_extension": ".py",
   "mimetype": "text/x-python",
   "name": "python",
   "nbconvert_exporter": "python",
   "pygments_lexer": "ipython2",
   "version": "2.7.6"
  }
 },
 "nbformat": 4,
 "nbformat_minor": 0
}
