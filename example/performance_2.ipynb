{
 "cells": [
  {
   "cell_type": "code",
   "execution_count": null,
   "metadata": {
    "collapsed": false
   },
   "outputs": [],
   "source": [
    "#here we test all the components."
   ]
  },
  {
   "cell_type": "code",
   "execution_count": 9,
   "metadata": {
    "collapsed": false
   },
   "outputs": [
    {
     "name": "stdout",
     "output_type": "stream",
     "text": [
      "CPU times: user 0 ns, sys: 0 ns, total: 0 ns\n",
      "Wall time: 7.87 µs\n"
     ]
    }
   ],
   "source": [
    "'''\n",
    "second performance test\n",
    "'''\n",
    "%time\n",
    "import sys\n",
    "sys.path.append('..')\n",
    "%matplotlib inline\n",
    "# you might need this:\n",
    "#import matplotlib\n",
    "#matplotlib.use('Agg')\n",
    "\n",
    "from eden.converter.graph.gspan import gspan_to_eden\n",
    "from graphlearn.graphlearn import GraphLearnSampler\n",
    "import itertools\n",
    "from eden.graph import Vectorizer\n",
    "import matplotlib.pyplot as plt\n",
    "\n",
    "from eden.util import fit_estimator,fit , random_bipartition_iter,estimate\n",
    "import random\n",
    "from eden.util import selection_iterator as picker\n",
    "from sklearn.linear_model import SGDClassifier\n",
    "\n",
    "vect=Vectorizer(complexity = 3)\n",
    "#2401 positives and 1936 negatives\n",
    "NUMPOS=2401\n",
    "NUMNEG=1936\n",
    "\n",
    "######################## testing ##############################\n",
    "\n",
    "def train_estimator_and_evaluate_testsets(pos_original,neg_original,pos_augmented,neg_augmented,test_pos,test_neg):\n",
    "\n",
    "    # create graph sets...orig augmented and sampled\n",
    "    pos_orig,pos_orig_ = itertools.tee(pos_original,2)\n",
    "    neg_orig,neg_orig_ = itertools.tee(neg_original,2)\n",
    "    \n",
    "    pos_augmented , pos_sampled = itertools.tee(pos_augmented)\n",
    "    neg_augmented , neg_sampled = itertools.tee(neg_augmented)\n",
    "    \n",
    "    pos_augmented = itertools.chain(pos_augmented,pos_orig_)\n",
    "    neg_augmented = itertools.chain(neg_augmented,neg_orig_)\n",
    "\n",
    "    res=[]\n",
    "    for (iterpos,iterneg) in [(pos_orig, neg_orig),( pos_augmented, neg_augmented),(pos_sampled,neg_sampled)]:\n",
    "        test_pos,p=itertools.tee(test_pos)\n",
    "        test_neg,n=itertools.tee(test_neg)\n",
    "      \n",
    "        res.append(estimate(p,n,fit(iterpos,iterneg,vect,n_jobs=-1),vect)[1])\n",
    "    return res\n",
    "\n",
    "\n",
    "############ sampelr ###########\n",
    "def unpack(graphs):\n",
    "    for graphlist in graphs:\n",
    "        yield graphlist[0]\n",
    "\n",
    "def sample(graphs):\n",
    "    \n",
    "    sampler =GraphLearnSampler()\n",
    "    graphs, graphs_ = itertools.tee(graphs)\n",
    "    sampler.fit(graphs)\n",
    "    return sampler.sample(graphs_,\n",
    "                        same_radius=False,\n",
    "                        same_core_size=False,\n",
    "                        sampling_interval=9999,\n",
    "                        select_cip_max_tries=100,\n",
    "                        batch_size=30,\n",
    "                        n_steps=100,\n",
    "                        n_jobs=-1,\n",
    "                        annealing_factor=0.9\n",
    "                        )\n",
    "\n",
    "\n"
   ]
  },
  {
   "cell_type": "code",
   "execution_count": 10,
   "metadata": {
    "collapsed": false
   },
   "outputs": [
    {
     "name": "stdout",
     "output_type": "stream",
     "text": [
      "CPU times: user 5 µs, sys: 1 µs, total: 6 µs\n",
      "Wall time: 8.82 µs\n",
      "evaluating..\n",
      "Test set\n",
      "Instances: 4033 ; Features: 1048577 with an avg of 180 features per instance\n",
      "--------------------------------------------------------------------------------\n",
      "Test Estimate\n",
      "             precision    recall  f1-score   support\n",
      "\n",
      "         -1       0.71      0.73      0.72      1800\n",
      "          1       0.78      0.76      0.77      2233\n",
      "\n",
      "avg / total       0.75      0.75      0.75      4033\n",
      "\n",
      "APR: 0.840\n",
      "ROC: 0.820\n",
      "Test set\n",
      "Instances: 4033 ; Features: 1048577 with an avg of 180 features per instance\n",
      "--------------------------------------------------------------------------------\n",
      "Test Estimate\n",
      "             precision    recall  f1-score   support\n",
      "\n",
      "         -1       0.71      0.72      0.72      1800\n",
      "          1       0.77      0.77      0.77      2233\n",
      "\n",
      "avg / total       0.75      0.75      0.75      4033\n",
      "\n",
      "APR: 0.839\n",
      "ROC: 0.821\n",
      "Test set\n",
      "Instances: 4033 ; Features: 1048577 with an avg of 180 features per instance\n",
      "--------------------------------------------------------------------------------\n",
      "Test Estimate\n",
      "             precision    recall  f1-score   support\n",
      "\n",
      "         -1       0.39      0.28      0.32      1800\n",
      "          1       0.53      0.65      0.59      2233\n",
      "\n",
      "avg / total       0.47      0.49      0.47      4033\n",
      "\n",
      "APR: 0.522\n",
      "ROC: 0.465\n",
      "done:0.1\n",
      "********************************************************************************\n",
      "[0.82015748619196893]\n",
      "[0.82072150072150074]\n",
      "[0.46466288500771263]\n"
     ]
    },
    {
     "data": {
      "image/png": "[encoded data removed]",
      "text/plain": [
       "<matplotlib.figure.Figure at 0x7f46cb035590>"
      ]
     },
     "metadata": {},
     "output_type": "display_data"
    }
   ],
   "source": [
    "%time\n",
    "\n",
    "# initializing \n",
    "graphs_pos= gspan_to_eden('bursi.pos.gspan')\n",
    "graphs_neg= gspan_to_eden('bursi.neg.gspan')\n",
    "originals=[]\n",
    "improved=[]\n",
    "only_new=[]\n",
    "\n",
    "percentages=[.2,.4,.6,.8,1]\n",
    "percentages=[.1]\n",
    "\n",
    "for perc in percentages:\n",
    "\n",
    "    ######### first we generate all the iterators ###########\n",
    "    # copy the mega set\n",
    "    graphs_pos, graphs_pos_ = itertools.tee(graphs_pos,2)\n",
    "    graphs_neg, graphs_neg_ = itertools.tee(graphs_neg,2)\n",
    "\n",
    "\n",
    "    # use shuffled list to create test and sample set\n",
    "    pos,pos_test = random_bipartition_iter(graphs_pos_,0.7*perc)\n",
    "    pos,pos_= itertools.tee(pos)\n",
    "    neg,neg_test = random_bipartition_iter(graphs_neg_,0.7*perc)\n",
    "    neg,neg_= itertools.tee(neg)\n",
    " \n",
    "    ############### then we sample #####################\n",
    "    sampled_neg= unpack(sample(neg))\n",
    "    sampled_pos= unpack(sample(pos))\n",
    "    \n",
    "    \n",
    "    ######### and last we evaluate ###########\n",
    "    print 'evaluating..'\n",
    "    aug,ori,new=train_estimator_and_evaluate_testsets( pos_,neg_,sampled_pos, sampled_neg, pos_test,neg_test)\n",
    "    improved.append(aug)\n",
    "    originals.append(ori)\n",
    "    only_new.append(new)\n",
    "    print \"done:\"+str(perc)\n",
    "    print \"*\"*80\n",
    "\n",
    "print improved\n",
    "print originals\n",
    "print only_new\n",
    "# draw \n",
    "t = range(len(percentages))\n",
    "plt.plot(t,originals ,'bs')\n",
    "plt.plot(t, improved ,'r^')\n",
    "plt.plot(t, only_new ,'gs')\n",
    "plt.savefig('zomg2.png')\n"
   ]
  },
  {
   "cell_type": "code",
   "execution_count": null,
   "metadata": {
    "collapsed": false
   },
   "outputs": [],
   "source": []
  },
  {
   "cell_type": "code",
   "execution_count": null,
   "metadata": {
    "collapsed": true
   },
   "outputs": [],
   "source": []
  }
 ],
 "metadata": {
  "kernelspec": {
   "display_name": "Python 2",
   "language": "python",
   "name": "python2"
  },
  "language_info": {
   "codemirror_mode": {
    "name": "ipython",
    "version": 2
   },
   "file_extension": ".py",
   "mimetype": "text/x-python",
   "name": "python",
   "nbconvert_exporter": "python",
   "pygments_lexer": "ipython2",
   "version": "2.7.5"
  }
 },
 "nbformat": 4,
 "nbformat_minor": 0
}
