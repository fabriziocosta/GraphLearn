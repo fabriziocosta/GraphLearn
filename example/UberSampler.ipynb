{
 "cells": [
  {
   "cell_type": "code",
   "execution_count": null,
   "metadata": {
    "collapsed": false
   },
   "outputs": [],
   "source": [
    "%load_ext autoreload\n",
    "%autoreload 2"
   ]
  },
  {
   "cell_type": "code",
   "execution_count": null,
   "metadata": {
    "collapsed": true
   },
   "outputs": [],
   "source": [
    "from eden.util import configure_logging\n",
    "import logging\n",
    "configure_logging(logging.getLogger(),verbosity=2)"
   ]
  },
  {
   "cell_type": "code",
   "execution_count": null,
   "metadata": {
    "collapsed": false
   },
   "outputs": [],
   "source": [
    "'''\n",
    "somehow we need to get RNA data...\n",
    "'''\n",
    "from eden.converter.fasta import fasta_to_sequence\n",
    "from eden.converter.rna.rnafold import rnafold_to_eden\n",
    "\n",
    "def rfam_uri(family_id):\n",
    "    return '%s.fa'%(family_id)\n",
    "def rfam_uri(family_id):\n",
    "    return 'http://rfam.xfam.org/family/%s/alignment?acc=%s&format=fastau&download=0'%(family_id,family_id)\n",
    "\n",
    "\n",
    "def get_graphs(rfam_id = 'RF00005'):\n",
    "    seqs = fasta_to_sequence(rfam_uri(rfam_id))\n",
    "    graphs = rnafold_to_eden(seqs, shape_type=5, energy_range=30, max_num=3)\n",
    "    return graphs\n"
   ]
  },
  {
   "cell_type": "code",
   "execution_count": null,
   "metadata": {
    "collapsed": false
   },
   "outputs": [],
   "source": [
    "'''\n",
    "first we test the core/interface extractor, since it is most essential\n",
    "'''\n",
    "%matplotlib inline\n",
    "from eden.converter.graph.gspan import gspan_to_eden\n",
    "import graphlearn.abstract_graphs.ubergraphlearn as ul\n",
    "import graphlearn.graphtools as gt\n",
    "import graphlearn.utils.draw as myutils\n",
    "import eden.graph as eg\n",
    "import numpy as np\n",
    "\n",
    "from eden.graph import Vectorizer\n",
    "vectorizer=Vectorizer()\n",
    "\n",
    "#get a graph\n",
    "graphs = get_graphs()\n",
    "graph=graphs.next()\n",
    "from eden.util import display\n",
    "from eden.modifier.graph.vertex_attributes import colorize  \n",
    "graphs = colorize([graph],output_attribute = 'color_level', labels = ['C','A','U','G'])    \n",
    "graph=graphs.next()\n",
    "print 'original'\n",
    "display.draw_graph(graph, size=10,\n",
    "                   colormap='Paired', invert_colormap=False,node_border=0.5, vertex_color='color_level',\n",
    "                   vertex_alpha=0.5, node_size=150)\n",
    "\n",
    "\n",
    "\n",
    "def zomg(graph):\n",
    "    return graph.graph['stuff']\n",
    "\n",
    "def mark_and_draw(cips):\n",
    "    #graph=myutils.cip_to_graph(cip)\n",
    "    \n",
    "    graph=[]\n",
    "    for ci in cips:\n",
    "        ci.graph.graph['stuff']='  r%d t%d rt%d' % (ci.radius,ci.abstract_thickness,ci.thickness)\n",
    "        graph.append(ci.graph)\n",
    "    \n",
    "    myutils.graphlearn_draw(graph, \n",
    "                           n_graphs_per_line=4, size=5, \n",
    "                           colormap='Paired', invert_colormap=False,node_border=1,\n",
    "                           vertex_alpha=0.6, edge_alpha=0.2, node_size=450, headlinehook=zomg, vertex_label='core')\n",
    "    \n",
    "radius_list=[0,2]\n",
    "thickness_list=[2]\n",
    "rtl=[2,4]\n",
    "graph=vectorizer._edge_to_vertex_transform(graph)\n",
    "#print 'expanded'\n",
    "#myutils.display(graph,size=10,edge_label=None)\n",
    "abs= ul.make_abstract(graph,vectorizer)\n",
    "\n",
    "myutils.set_ids(abs)\n",
    "display.draw_graph(abs, size=10,\n",
    "                   colormap='Paired', invert_colormap=False,node_border=0.5, vertex_color='color_level',\n",
    "                   vertex_alpha=0.5, node_size=150,vertex_label='id')\n",
    "\n",
    "\n",
    "#print 'abstr'\n",
    "#myutils.display(abs,size=10,edge_label=None)\n",
    "\n",
    "cips=ul.extract_cips(\n",
    "    53,\n",
    "    abs,\n",
    "    graph,\n",
    "    abstract_radius_list=radius_list,\n",
    "    abstract_thickness_list=thickness_list,\n",
    "    base_thickness_list=rtl,\n",
    "    vectorizer=vectorizer,\n",
    "    filter=lambda x,y:True,\n",
    "    hash_bitmask=2**20-1)\n",
    "mark_and_draw(cips)\n"
   ]
  },
  {
   "cell_type": "code",
   "execution_count": null,
   "metadata": {
    "collapsed": false,
    "scrolled": true
   },
   "outputs": [],
   "source": [
    "%%time\n",
    "'''\n",
    "second is reading a grammar and training an estimator\n",
    "'''\n",
    "%matplotlib inline\n",
    "import graphlearn.utils.draw as myutils\n",
    "import graphlearn.abstract_graphs.ubergraphlearn as ul\n",
    "import itertools\n",
    "\n",
    "# learn a grammar\n",
    "graphs = get_graphs()\n",
    "graphs = itertools.islice(graphs,200)\n",
    "\n",
    "sampler=ul.UberSampler(radius_list=[0,1,2],\n",
    "                       thickness_list=[2],\n",
    "                       base_thickness_list=[1], \n",
    "                       min_cip_count=2,\n",
    "                       min_interface_count=3)\n",
    "sampler.fit(graphs,n_jobs=4,batch_size=3)\n",
    "sampler.save('tmp/rna_ubergrammar.ge')"
   ]
  },
  {
   "cell_type": "code",
   "execution_count": null,
   "metadata": {
    "collapsed": false,
    "scrolled": true
   },
   "outputs": [],
   "source": [
    "#draw production rules\n",
    "myutils.draw_grammar(sampler.lsgg.productions,n_productions=5,\n",
    "                     n_graphs_per_line=6, size=5, \n",
    "                     colormap='Paired', invert_colormap=False,node_border=1,\n",
    "                     vertex_alpha=0.6, edge_alpha=0.2, node_size=450)"
   ]
  },
  {
   "cell_type": "code",
   "execution_count": null,
   "metadata": {
    "collapsed": false
   },
   "outputs": [],
   "source": [
    "#grammar statistics\n",
    "myutils.draw_grammar_stats(sampler.lsgg.productions, size=(10,5))"
   ]
  },
  {
   "cell_type": "code",
   "execution_count": null,
   "metadata": {
    "collapsed": false,
    "scrolled": false
   },
   "outputs": [],
   "source": [
    "%%time\n",
    "'''\n",
    "Graph sampling\n",
    "'''\n",
    "%matplotlib inline\n",
    "#import mpld3\n",
    "#mpld3.enable_notebook()\n",
    "import graphlearn.utils.draw as myutils\n",
    "import graphlearn.abstract_graphs.ubergraphlearn as ul\n",
    "from eden.converter.graph.gspan import gspan_to_eden\n",
    "import itertools\n",
    "import matplotlib.pyplot as plt\n",
    "import graphlearn.utils.draw as myutils\n",
    "import eden.graph as ge\n",
    "\n",
    "sampler=ul.UberSampler()\n",
    "sampler.load('tmp/rna_ubergrammar.ge')\n",
    "graphs = get_graphs()\n",
    "\n",
    "id_start=15\n",
    "id_end=id_start+12\n",
    "graphs = itertools.islice(graphs,id_start,id_end)\n",
    "n_steps=50\n",
    "\n",
    "graphs = sampler.sample(graphs,\n",
    "                        n_samples=6,\n",
    "                        batch_size=1,\n",
    "                        n_steps=n_steps,\n",
    "                        n_jobs=-1,\n",
    "                        probabilistic_core_choice=True,\n",
    "                        burnin=0,\n",
    "                        select_cip_max_tries=200,\n",
    "                        keep_duplicates=False)\n",
    "\n",
    "from eden.modifier.graph.vertex_attributes import colorize   \n",
    "scores=[]\n",
    "ids=range(id_start,id_end)\n",
    "for i,graph in enumerate(graphs):\n",
    "    print 'Graph id: %d'%(ids[i])\n",
    "    scores.append(graph.graph['sampling_info']['score_history'])\n",
    "    path_graphs = graph.graph['sampling_info']['graphs_history']\n",
    "    path_graphs = colorize(path_graphs,\n",
    "                           output_attribute = 'color_level', \n",
    "                           labels = ['A','U','G','C'])\n",
    "    myutils.draw_graph_set(path_graphs,\n",
    "                           n_graphs_per_line=6, size=7, \n",
    "                           colormap='Paired', invert_colormap=False,node_border=0.5, vertex_color='color_level',\n",
    "                           vertex_alpha=0.5, edge_alpha=0.7, node_size=150,\n",
    "                          headlinehook= myutils.get_score_of_graph\n",
    "                          )\n",
    "    "
   ]
  },
  {
   "cell_type": "code",
   "execution_count": null,
   "metadata": {
    "collapsed": false
   },
   "outputs": [],
   "source": [
    "%matplotlib inline\n",
    "from itertools import islice\n",
    "import numpy as np\n",
    "\n",
    "step=1\n",
    "num_graphs_per_plot=3\n",
    "num_plots=np.ceil([len(scores)/num_graphs_per_plot])\n",
    "for i in range(num_plots):\n",
    "    plt.figure(figsize=(10,5))\n",
    "    for j,score in enumerate(scores[i*num_graphs_per_plot:i*num_graphs_per_plot+num_graphs_per_plot]):\n",
    "        data = list(islice(score,None, None, step))\n",
    "        plt.plot(data, label='graph %d'%(j+i*num_graphs_per_plot+id_start))\n",
    "    plt.legend(loc='lower right')\n",
    "    plt.grid()\n",
    "    plt.ylim(-0.1,1.1)\n",
    "    plt.show()"
   ]
  },
  {
   "cell_type": "code",
   "execution_count": null,
   "metadata": {
    "collapsed": true
   },
   "outputs": [],
   "source": []
  },
  {
   "cell_type": "code",
   "execution_count": null,
   "metadata": {
    "collapsed": true
   },
   "outputs": [],
   "source": []
  },
  {
   "cell_type": "code",
   "execution_count": null,
   "metadata": {
    "collapsed": true
   },
   "outputs": [],
   "source": []
  },
  {
   "cell_type": "code",
   "execution_count": null,
   "metadata": {
    "collapsed": true
   },
   "outputs": [],
   "source": []
  },
  {
   "cell_type": "code",
   "execution_count": null,
   "metadata": {
    "collapsed": true
   },
   "outputs": [],
   "source": []
  }
 ],
 "metadata": {
  "kernelspec": {
   "display_name": "Python 2",
   "language": "python",
   "name": "python2"
  },
  "language_info": {
   "codemirror_mode": {
    "name": "ipython",
    "version": 2
   },
   "file_extension": ".py",
   "mimetype": "text/x-python",
   "name": "python",
   "nbconvert_exporter": "python",
   "pygments_lexer": "ipython2",
   "version": "2.7.9"
  }
 },
 "nbformat": 4,
 "nbformat_minor": 0
}
