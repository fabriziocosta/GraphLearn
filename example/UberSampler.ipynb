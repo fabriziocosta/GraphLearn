{
 "cells": [
  {
   "cell_type": "code",
   "execution_count": null,
   "metadata": {
    "collapsed": false
   },
   "outputs": [],
   "source": [
    "%load_ext autoreload\n",
    "%autoreload 2"
   ]
  },
  {
   "cell_type": "code",
   "execution_count": null,
   "metadata": {
    "collapsed": true
   },
   "outputs": [],
   "source": [
    "from eden.util import configure_logging\n",
    "import logging\n",
    "configure_logging(logging.getLogger(),verbosity=2)"
   ]
  },
  {
   "cell_type": "code",
   "execution_count": null,
   "metadata": {
    "collapsed": true
   },
   "outputs": [],
   "source": [
    "'''\n",
    "somehow we need to get RNA data...\n",
    "'''\n",
    "from eden.converter.fasta import fasta_to_sequence\n",
    "from eden.converter.rna.rnashapes import rnashapes_to_eden\n",
    "\n",
    "def rfam_uri(family_id):\n",
    "    return '%s.fa'%(family_id)\n",
    "def rfam_uri(family_id):\n",
    "    return 'http://rfam.xfam.org/family/%s/alignment?acc=%s&format=fastau&download=0'%(family_id,family_id)\n",
    "\n",
    " \n",
    "def get_graphs(rfam_id = 'RF00005'):\n",
    "    seqs = fasta_to_sequence(rfam_uri(rfam_id))\n",
    "    graphs = rnashapes_to_eden(seqs, shape_type=5, energy_range=30, max_num=3)\n",
    "    return graphs\n"
   ]
  },
  {
   "cell_type": "code",
   "execution_count": null,
   "metadata": {
    "collapsed": false
   },
   "outputs": [],
   "source": [
    "'''\n",
    "first we test the core/interface extractor, since it is most essential\n",
    "'''\n",
    "import sys\n",
    "sys.path.append('..')\n",
    "%matplotlib inline\n",
    "from eden.converter.graph.gspan import gspan_to_eden\n",
    "from graphlearn import graphtools as gt\n",
    "import graphlearn.ubergraphlearn as ul\n",
    "import graphlearn.utils.draw as myutils\n",
    "import eden.graph as eg\n",
    "import numpy as np\n",
    "\n",
    "from eden.graph import Vectorizer\n",
    "vectorizer=Vectorizer()\n",
    "\n",
    "#get a graph\n",
    "graphs = get_graphs()\n",
    "graph=graphs.next()\n",
    "from eden.util import display\n",
    "from eden.modifier.graph.vertex_attributes import colorize  \n",
    "graphs = colorize([graph],output_attribute = 'color_level', labels = ['C','A','U','G'])    \n",
    "graph=graphs.next()\n",
    "print 'original'\n",
    "display.draw_graph(graph, size=10,\n",
    "                   colormap='Paired', invert_colormap=False,node_border=0.5, vertex_color='color_level',\n",
    "                   vertex_alpha=0.5, node_size=150)\n",
    "\n",
    "\n",
    "\n",
    "def zomg(graph):\n",
    "    return graph.graph['stuff']\n",
    "\n",
    "def mark_and_draw(cips):\n",
    "    #graph=myutils.cip_to_graph(cip)\n",
    "    \n",
    "    graph=[]\n",
    "    for ci in cips:\n",
    "        ci.graph.graph['stuff']='  r%d t%d rt%d' % (ci.radius,ci.abs_thickness,ci.thickness)\n",
    "        graph.append(ci.graph)\n",
    "    \n",
    "    myutils.draw_graph_set_graphlearn(graph, \n",
    "                           n_graphs_per_line=4, size=5, \n",
    "                           colormap='Paired', invert_colormap=False,node_border=1,\n",
    "                           vertex_alpha=0.6, edge_alpha=0.2, node_size=450, headlinehook=zomg, vertex_label='core')\n",
    "    \n",
    "radius_list=[0,2]\n",
    "thickness_list=[2]\n",
    "rtl=[2,4]\n",
    "graph=vectorizer._edge_to_vertex_transform(graph)\n",
    "#print 'expanded'\n",
    "#myutils.display(graph,size=10,edge_label=None)\n",
    "abs= ul.make_abstract(graph,vectorizer)\n",
    "\n",
    "myutils.set_ids(abs)\n",
    "display.draw_graph(abs, size=10,\n",
    "                   colormap='Paired', invert_colormap=False,node_border=0.5, vertex_color='color_level',\n",
    "                   vertex_alpha=0.5, node_size=150,vertex_label='id')\n",
    "\n",
    "\n",
    "#print 'abstr'\n",
    "#myutils.display(abs,size=10,edge_label=None)\n",
    "\n",
    "cips=ul.extract_cips(\n",
    "    53,\n",
    "    abs,\n",
    "    graph,\n",
    "    abstract_radius_list=radius_list,\n",
    "    abstract_thickness_list=thickness_list,\n",
    "    real_thickness_list=rtl,\n",
    "    vectorizer=vectorizer,\n",
    "    filter=lambda x,y:True,\n",
    "    hash_bitmask=2**20-1)\n",
    "mark_and_draw(cips)\n"
   ]
  },
  {
   "cell_type": "code",
   "execution_count": null,
   "metadata": {
    "collapsed": false
   },
   "outputs": [],
   "source": [
    "import networkx as nx\n",
    "g=nx.path_graph(5)\n",
    "import graphlearn.utils.draw as myutils\n",
    "myutils.display(g,vertex_label='id')\n",
    "nx.single_source_shortest_path_length(g, 2,0)"
   ]
  },
  {
   "cell_type": "code",
   "execution_count": null,
   "metadata": {
    "collapsed": false
   },
   "outputs": [],
   "source": []
  },
  {
   "cell_type": "code",
   "execution_count": 87,
   "metadata": {
    "collapsed": false
   },
   "outputs": [
    {
     "name": "stdout",
     "output_type": "stream",
     "text": [
      "Starting new HTTP connection (1): rfam.xfam.org\n",
      "\"GET /family/RF00005/alignment?acc=RF00005&format=fastau&download=0 HTTP/1.1\" 200 90476\n",
      ">unnamed sequence 1 ['GGGCCCAUAGCUCAGUGGUAGAGUGCCUCCUUUGCAAGGAGGAUGCCCUGGGUUCGAAUCCCAGUGGGUCCA', '((((((...((((.......)))).(((((((...))))))).....(((((.......))))).)))))).', '(((((((((((((((.(((...((.(((((((...))))))))))))))))))).........)))))))).'] ['72', '[[][][]]', '[]']\n",
      "we are in init ((((((...((((.......)))).(((((((...))))))).....(((((.......))))).)))))). GGGCCCAUAGCUCAGUGGUAGAGUGCCUCCUUUGCAAGGAGGAUGCCCUGGGUUCGAAUCCCAGUGGGUCCA\n",
      "we are in init (((((((((((((((.(((...((.(((((((...))))))))))))))))))).........)))))))). GGGCCCAUAGCUCAGUGGUAGAGUGCCUCCUUUGCAAGGAGGAUGCCCUGGGUUCGAAUCCCAGUGGGUCCA\n",
      ">unnamed sequence 1 ['CAUUAGAUGACUGAAAGCAAGUACUGGUCUCUUAAACCAUUUAAUAGUAAAUUAGCACUUACUUCUAAUGA', '(((((((........((.((((.(((((((.(((((...))))).))...))))).)))).))))))))).'] ['71', '[]']\n",
      "we are in init (((((((........((.((((.(((((((.(((((...))))).))...))))).)))).))))))))). CAUUAGAUGACUGAAAGCAAGUACUGGUCUCUUAAACCAUUUAAUAGUAAAUUAGCACUUACUUCUAAUGA\n",
      ">unnamed sequence 1 ['GCGCCCGUAGCUCAAUUGGAUAGAGCGUUUGACUACGGAUCAAAAGGUUAGGGGUUCGACUCCUCUCGGGCGCG', '(((((((.((.......(((..((((.(((((((...........))))))).))))...))).))))))))).', '((((((((((.((((.((.......)).)))))))).((((....))))((((((...))))))...)))))).'] ['74', '[]', '[[][][]]']\n",
      "we are in init (((((((.((.......(((..((((.(((((((...........))))))).))))...))).))))))))). GCGCCCGUAGCUCAAUUGGAUAGAGCGUUUGACUACGGAUCAAAAGGUUAGGGGUUCGACUCCUCUCGGGCGCG\n",
      "\n",
      "Classifier:\n",
      "SGDClassifier(alpha=0.000365769206304, average=False, class_weight=None,\n",
      "       epsilon=0.1, eta0=0.919714823669, fit_intercept=True, l1_ratio=0.15,\n",
      "       learning_rate='constant', loss='log', n_iter=64, n_jobs=1,\n",
      "       penalty='l1', power_t=0.847300821439, random_state=None,\n",
      "       shuffle=True, verbose=0, warm_start=False)\n",
      "\n",
      "Predictive performance:\n",
      "            accuracy: 1.000 +- 0.000\n",
      "           precision: 1.000 +- 0.000\n",
      "              recall: 1.000 +- 0.000\n",
      "                  f1: 1.000 +- 0.000\n",
      "   average_precision: 1.000 +- 0.000\n",
      "             roc_auc: 1.000 +- 0.000\n"
     ]
    },
    {
     "ename": "TypeError",
     "evalue": "__init__() takes at most 2 arguments (9 given)",
     "output_type": "error",
     "traceback": [
      "\u001b[1;31m---------------------------------------------------------------------------\u001b[0m",
      "\u001b[1;31mTypeError\u001b[0m                                 Traceback (most recent call last)",
      "\u001b[1;32m<ipython-input-87-81757508e2e5>\u001b[0m in \u001b[0;36m<module>\u001b[1;34m()\u001b[0m\n\u001b[1;32m----> 1\u001b[1;33m \u001b[0mget_ipython\u001b[0m\u001b[1;33m(\u001b[0m\u001b[1;33m)\u001b[0m\u001b[1;33m.\u001b[0m\u001b[0mrun_cell_magic\u001b[0m\u001b[1;33m(\u001b[0m\u001b[1;34mu'time'\u001b[0m\u001b[1;33m,\u001b[0m \u001b[1;34mu''\u001b[0m\u001b[1;33m,\u001b[0m \u001b[1;34mu\"'''\\nsecond is reading a grammar and training an estimator\\n'''\\nimport sys\\nsys.path.append('..')\\nimport os \\nos.nice(20)\\n%matplotlib inline\\nimport graphlearn.utils.draw as myutils\\nimport graphlearn.ubergraphlearn as ul\\nimport itertools\\n\\n# learn a grammar\\ngraphs = get_graphs()\\ngraphs = itertools.islice(graphs,4)\\n\\nsampler=ul.UberSampler(radius_list=[0,1,2],thickness_list=[1,2],real_thickness_list=[1,2,3])\\nsampler.fit(graphs,n_jobs=1, core_interface_pair_remove_threshold=2, interface_remove_threshold=2)\\nsampler.save('tmp/rna_ubergrammar.ge')\\n\"\u001b[0m\u001b[1;33m)\u001b[0m\u001b[1;33m\u001b[0m\u001b[0m\n\u001b[0m",
      "\u001b[1;32m/home/ikea/.local/lib/python2.7/site-packages/IPython/core/interactiveshell.pyc\u001b[0m in \u001b[0;36mrun_cell_magic\u001b[1;34m(self, magic_name, line, cell)\u001b[0m\n\u001b[0;32m   2262\u001b[0m             \u001b[0mmagic_arg_s\u001b[0m \u001b[1;33m=\u001b[0m \u001b[0mself\u001b[0m\u001b[1;33m.\u001b[0m\u001b[0mvar_expand\u001b[0m\u001b[1;33m(\u001b[0m\u001b[0mline\u001b[0m\u001b[1;33m,\u001b[0m \u001b[0mstack_depth\u001b[0m\u001b[1;33m)\u001b[0m\u001b[1;33m\u001b[0m\u001b[0m\n\u001b[0;32m   2263\u001b[0m             \u001b[1;32mwith\u001b[0m \u001b[0mself\u001b[0m\u001b[1;33m.\u001b[0m\u001b[0mbuiltin_trap\u001b[0m\u001b[1;33m:\u001b[0m\u001b[1;33m\u001b[0m\u001b[0m\n\u001b[1;32m-> 2264\u001b[1;33m                 \u001b[0mresult\u001b[0m \u001b[1;33m=\u001b[0m \u001b[0mfn\u001b[0m\u001b[1;33m(\u001b[0m\u001b[0mmagic_arg_s\u001b[0m\u001b[1;33m,\u001b[0m \u001b[0mcell\u001b[0m\u001b[1;33m)\u001b[0m\u001b[1;33m\u001b[0m\u001b[0m\n\u001b[0m\u001b[0;32m   2265\u001b[0m             \u001b[1;32mreturn\u001b[0m \u001b[0mresult\u001b[0m\u001b[1;33m\u001b[0m\u001b[0m\n\u001b[0;32m   2266\u001b[0m \u001b[1;33m\u001b[0m\u001b[0m\n",
      "\u001b[1;32m/home/ikea/.local/lib/python2.7/site-packages/IPython/core/magics/execution.pyc\u001b[0m in \u001b[0;36mtime\u001b[1;34m(self, line, cell, local_ns)\u001b[0m\n",
      "\u001b[1;32m/home/ikea/.local/lib/python2.7/site-packages/IPython/core/magic.pyc\u001b[0m in \u001b[0;36m<lambda>\u001b[1;34m(f, *a, **k)\u001b[0m\n\u001b[0;32m    191\u001b[0m     \u001b[1;31m# but it's overkill for just that one bit of state.\u001b[0m\u001b[1;33m\u001b[0m\u001b[1;33m\u001b[0m\u001b[0m\n\u001b[0;32m    192\u001b[0m     \u001b[1;32mdef\u001b[0m \u001b[0mmagic_deco\u001b[0m\u001b[1;33m(\u001b[0m\u001b[0marg\u001b[0m\u001b[1;33m)\u001b[0m\u001b[1;33m:\u001b[0m\u001b[1;33m\u001b[0m\u001b[0m\n\u001b[1;32m--> 193\u001b[1;33m         \u001b[0mcall\u001b[0m \u001b[1;33m=\u001b[0m \u001b[1;32mlambda\u001b[0m \u001b[0mf\u001b[0m\u001b[1;33m,\u001b[0m \u001b[1;33m*\u001b[0m\u001b[0ma\u001b[0m\u001b[1;33m,\u001b[0m \u001b[1;33m**\u001b[0m\u001b[0mk\u001b[0m\u001b[1;33m:\u001b[0m \u001b[0mf\u001b[0m\u001b[1;33m(\u001b[0m\u001b[1;33m*\u001b[0m\u001b[0ma\u001b[0m\u001b[1;33m,\u001b[0m \u001b[1;33m**\u001b[0m\u001b[0mk\u001b[0m\u001b[1;33m)\u001b[0m\u001b[1;33m\u001b[0m\u001b[0m\n\u001b[0m\u001b[0;32m    194\u001b[0m \u001b[1;33m\u001b[0m\u001b[0m\n\u001b[0;32m    195\u001b[0m         \u001b[1;32mif\u001b[0m \u001b[0mcallable\u001b[0m\u001b[1;33m(\u001b[0m\u001b[0marg\u001b[0m\u001b[1;33m)\u001b[0m\u001b[1;33m:\u001b[0m\u001b[1;33m\u001b[0m\u001b[0m\n",
      "\u001b[1;32m/home/ikea/.local/lib/python2.7/site-packages/IPython/core/magics/execution.pyc\u001b[0m in \u001b[0;36mtime\u001b[1;34m(self, line, cell, local_ns)\u001b[0m\n\u001b[0;32m   1164\u001b[0m         \u001b[1;32melse\u001b[0m\u001b[1;33m:\u001b[0m\u001b[1;33m\u001b[0m\u001b[0m\n\u001b[0;32m   1165\u001b[0m             \u001b[0mst\u001b[0m \u001b[1;33m=\u001b[0m \u001b[0mclock2\u001b[0m\u001b[1;33m(\u001b[0m\u001b[1;33m)\u001b[0m\u001b[1;33m\u001b[0m\u001b[0m\n\u001b[1;32m-> 1166\u001b[1;33m             \u001b[1;32mexec\u001b[0m\u001b[1;33m(\u001b[0m\u001b[0mcode\u001b[0m\u001b[1;33m,\u001b[0m \u001b[0mglob\u001b[0m\u001b[1;33m,\u001b[0m \u001b[0mlocal_ns\u001b[0m\u001b[1;33m)\u001b[0m\u001b[1;33m\u001b[0m\u001b[0m\n\u001b[0m\u001b[0;32m   1167\u001b[0m             \u001b[0mend\u001b[0m \u001b[1;33m=\u001b[0m \u001b[0mclock2\u001b[0m\u001b[1;33m(\u001b[0m\u001b[1;33m)\u001b[0m\u001b[1;33m\u001b[0m\u001b[0m\n\u001b[0;32m   1168\u001b[0m             \u001b[0mout\u001b[0m \u001b[1;33m=\u001b[0m \u001b[0mNone\u001b[0m\u001b[1;33m\u001b[0m\u001b[0m\n",
      "\u001b[1;32m<timed exec>\u001b[0m in \u001b[0;36m<module>\u001b[1;34m()\u001b[0m\n",
      "\u001b[1;32m/home/ikea/GraphLearn/graphlearn/graphlearn.pyc\u001b[0m in \u001b[0;36mfit\u001b[1;34m(self, graphs, core_interface_pair_remove_threshold, interface_remove_threshold, n_jobs, nu)\u001b[0m\n\u001b[0;32m    104\u001b[0m         \u001b[0mself\u001b[0m\u001b[1;33m.\u001b[0m\u001b[0mestimator\u001b[0m \u001b[1;33m=\u001b[0m \u001b[0mself\u001b[0m\u001b[1;33m.\u001b[0m\u001b[0mestimatorobject\u001b[0m\u001b[1;33m.\u001b[0m\u001b[0mfit\u001b[0m\u001b[1;33m(\u001b[0m\u001b[0mgraphs_\u001b[0m\u001b[1;33m,\u001b[0m \u001b[0mvectorizer\u001b[0m\u001b[1;33m=\u001b[0m\u001b[0mself\u001b[0m\u001b[1;33m.\u001b[0m\u001b[0mvectorizer\u001b[0m\u001b[1;33m,\u001b[0m \u001b[0mnu\u001b[0m\u001b[1;33m=\u001b[0m\u001b[0mnu\u001b[0m\u001b[1;33m,\u001b[0m \u001b[0mn_jobs\u001b[0m\u001b[1;33m=\u001b[0m\u001b[0mn_jobs\u001b[0m\u001b[1;33m)\u001b[0m\u001b[1;33m\u001b[0m\u001b[0m\n\u001b[0;32m    105\u001b[0m \u001b[1;33m\u001b[0m\u001b[0m\n\u001b[1;32m--> 106\u001b[1;33m         \u001b[0mself\u001b[0m\u001b[1;33m.\u001b[0m\u001b[0mfit_grammar\u001b[0m\u001b[1;33m(\u001b[0m\u001b[0mgraphs\u001b[0m\u001b[1;33m,\u001b[0m \u001b[0mcore_interface_pair_remove_threshold\u001b[0m\u001b[1;33m,\u001b[0m \u001b[0minterface_remove_threshold\u001b[0m\u001b[1;33m,\u001b[0m \u001b[0mn_jobs\u001b[0m\u001b[1;33m=\u001b[0m\u001b[0mn_jobs\u001b[0m\u001b[1;33m)\u001b[0m\u001b[1;33m\u001b[0m\u001b[0m\n\u001b[0m\u001b[0;32m    107\u001b[0m \u001b[1;33m\u001b[0m\u001b[0m\n\u001b[0;32m    108\u001b[0m     \u001b[1;32mdef\u001b[0m \u001b[0mfit_grammar\u001b[0m\u001b[1;33m(\u001b[0m\u001b[0mself\u001b[0m\u001b[1;33m,\u001b[0m \u001b[0mgraphs\u001b[0m\u001b[1;33m,\u001b[0m \u001b[0mcore_interface_pair_remove_threshold\u001b[0m\u001b[1;33m=\u001b[0m\u001b[1;36m2\u001b[0m\u001b[1;33m,\u001b[0m \u001b[0minterface_remove_threshold\u001b[0m\u001b[1;33m=\u001b[0m\u001b[1;36m2\u001b[0m\u001b[1;33m,\u001b[0m \u001b[0mn_jobs\u001b[0m\u001b[1;33m=\u001b[0m\u001b[1;33m-\u001b[0m\u001b[1;36m1\u001b[0m\u001b[1;33m)\u001b[0m\u001b[1;33m:\u001b[0m\u001b[1;33m\u001b[0m\u001b[0m\n",
      "\u001b[1;32m/home/ikea/GraphLearn/graphlearn/ubergraphlearn.py\u001b[0m in \u001b[0;36mfit_grammar\u001b[1;34m(self, graphs, core_interface_pair_remove_threshold, interface_remove_threshold, n_jobs)\u001b[0m\n\u001b[0;32m     42\u001b[0m                 \u001b[0mnbit\u001b[0m\u001b[1;33m=\u001b[0m\u001b[0mself\u001b[0m\u001b[1;33m.\u001b[0m\u001b[0mnbit\u001b[0m\u001b[1;33m,\u001b[0m\u001b[1;33m\u001b[0m\u001b[0m\n\u001b[0;32m     43\u001b[0m                 \u001b[0mnode_entity_check\u001b[0m\u001b[1;33m=\u001b[0m\u001b[0mself\u001b[0m\u001b[1;33m.\u001b[0m\u001b[0mnode_entity_check\u001b[0m\u001b[1;33m,\u001b[0m\u001b[1;33m\u001b[0m\u001b[0m\n\u001b[1;32m---> 44\u001b[1;33m                 real_thickness_list=self.real_thickness_list)\n\u001b[0m\u001b[0;32m     45\u001b[0m         \u001b[0mself\u001b[0m\u001b[1;33m.\u001b[0m\u001b[0mlocal_substitutable_graph_grammar\u001b[0m\u001b[1;33m.\u001b[0m\u001b[0mfit\u001b[0m\u001b[1;33m(\u001b[0m\u001b[0mgraphs\u001b[0m\u001b[1;33m,\u001b[0m \u001b[0mn_jobs\u001b[0m\u001b[1;33m)\u001b[0m\u001b[1;33m\u001b[0m\u001b[0m\n\u001b[0;32m     46\u001b[0m \u001b[1;33m\u001b[0m\u001b[0m\n",
      "\u001b[1;31mTypeError\u001b[0m: __init__() takes at most 2 arguments (9 given)"
     ]
    }
   ],
   "source": [
    "%%time\n",
    "'''\n",
    "second is reading a grammar and training an estimator\n",
    "'''\n",
    "import sys\n",
    "sys.path.append('..')\n",
    "import os \n",
    "os.nice(20)\n",
    "%matplotlib inline\n",
    "import graphlearn.utils.draw as myutils\n",
    "import graphlearn.ubergraphlearn as ul\n",
    "import itertools\n",
    "\n",
    "# learn a grammar\n",
    "graphs = get_graphs()\n",
    "graphs = itertools.islice(graphs,4)\n",
    "\n",
    "sampler=ul.UberSampler(radius_list=[0,1,2],thickness_list=[1,2],real_thickness_list=[1,2,3])\n",
    "sampler.fit(graphs,n_jobs=1, core_interface_pair_remove_threshold=2, interface_remove_threshold=2)\n",
    "sampler.save('tmp/rna_ubergrammar.ge')\n",
    "\n"
   ]
  },
  {
   "cell_type": "code",
   "execution_count": null,
   "metadata": {
    "collapsed": false
   },
   "outputs": [],
   "source": [
    "#draw production rules\n",
    "myutils.draw_grammar(sampler.local_substitutable_graph_grammar.grammar,n_productions=5,\n",
    "                     n_graphs_per_line=6, size=5, \n",
    "                     colormap='Paired', invert_colormap=False,node_border=1,\n",
    "                     vertex_alpha=0.6, edge_alpha=0.2, node_size=450)"
   ]
  },
  {
   "cell_type": "code",
   "execution_count": null,
   "metadata": {
    "collapsed": false
   },
   "outputs": [],
   "source": [
    "#grammar statistics\n",
    "myutils.draw_grammar_stats(sampler.local_substitutable_graph_grammar.grammar, size=(10,5))"
   ]
  },
  {
   "cell_type": "code",
   "execution_count": null,
   "metadata": {
    "collapsed": false
   },
   "outputs": [],
   "source": [
    "%%time\n",
    "'''\n",
    "Graph sampling\n",
    "'''\n",
    "import sys\n",
    "sys.path.append('..')\n",
    "import os\n",
    "os.nice(19)\n",
    "%matplotlib inline\n",
    "import graphlearn.utils.draw as myutils\n",
    "import graphlearn.graphlearn as gl\n",
    "from eden.converter.graph.gspan import gspan_to_eden\n",
    "import itertools\n",
    "import matplotlib.pyplot as plt\n",
    "import graphlearn.utils.draw as myutils\n",
    "import eden.graph as ge\n",
    "\n",
    "sampler=gl.GraphLearnSampler()\n",
    "sampler.load('tmp/demo_50.ge')\n",
    "graphs = gspan_to_eden( 'bursi.pos.gspan' )\n",
    "id_start=20\n",
    "id_end=id_start+10\n",
    "graphs = itertools.islice(graphs,id_start,id_end)\n",
    "n_steps=50\n",
    "graphs = sampler.sample(graphs,\n",
    "                        same_radius=False,\n",
    "                        same_core_size=True,\n",
    "                        n_samples=4,\n",
    "                        batch_size=1,\n",
    "                        n_steps=n_steps,\n",
    "                        n_jobs=1,\n",
    "                        accept_annealing_factor=1.2,\n",
    "                        probabilistic_core_choice=True,\n",
    "                        burnout=1,\n",
    "                        select_cip_max_tries=100,\n",
    "                        keep_duplicates=False)\n",
    "\n",
    "from eden.modifier.graph.vertex_attributes import colorize   \n",
    "scores=[]\n",
    "ids=range(id_start,id_end)\n",
    "for i,graph in enumerate(graphs):\n",
    "    print 'Graph id: %d'%(ids[i])\n",
    "    scores.append(graph.graph['sampling_info']['score_history'])\n",
    "    path_graphs = graph.graph['sampling_info']['graphs_history']\n",
    "    path_graphs = colorize(path_graphs,\n",
    "                           output_attribute = 'color_level', \n",
    "                           labels = ['C','O','N','P','Cl','Br','S','I'])\n",
    "    myutils.draw_graph_set(path_graphs,\n",
    "                           n_graphs_per_line=6, size=7, \n",
    "                           colormap='Paired', invert_colormap=False,node_border=0.5, vertex_color='color_level',\n",
    "                           vertex_alpha=0.5, edge_alpha=0.2, node_size=650,\n",
    "                          headlinehook= myutils.get_score_of_graph\n",
    "                          )"
   ]
  },
  {
   "cell_type": "code",
   "execution_count": null,
   "metadata": {
    "collapsed": false
   },
   "outputs": [],
   "source": [
    "%matplotlib inline\n",
    "from itertools import islice\n",
    "import numpy as np\n",
    "step=sampling_interval\n",
    "step=1\n",
    "num_graphs_per_plot=3\n",
    "num_plots=np.ceil([len(scores)/num_graphs_per_plot])\n",
    "for i in range(num_plots):\n",
    "    plt.figure(figsize=(10,5))\n",
    "    for j,score in enumerate(scores[i*num_graphs_per_plot:i*num_graphs_per_plot+num_graphs_per_plot]):\n",
    "        data = list(islice(score,None, None, step))\n",
    "        plt.plot(data, label='graph %d'%(j+i*num_graphs_per_plot+id_start))\n",
    "    plt.legend(loc='lower right')\n",
    "    plt.grid()\n",
    "    plt.ylim(-0.1,1.1)\n",
    "    plt.show()"
   ]
  },
  {
   "cell_type": "code",
   "execution_count": null,
   "metadata": {
    "collapsed": false
   },
   "outputs": [],
   "source": [
    "'''\n",
    "first we test the core/interface extractor, since it is most essential\n",
    "'''\n",
    "import sys\n",
    "sys.path.append('..')\n",
    "%matplotlib inline\n",
    "from eden.converter.graph.gspan import gspan_to_eden\n",
    "from graphlearn import graphtools as gt\n",
    "import graphlearn.utils.draw as myutils\n",
    "import eden.graph as eg\n",
    "import graphlearn.graphlearn as gl\n",
    "import numpy as np\n",
    "\n",
    "from eden.graph import Vectorizer\n",
    "vectorizer=Vectorizer()\n",
    "\n",
    "#get a graph\n",
    "graphs = gspan_to_eden( 'bursi.pos.gspan' )\n",
    "graph=graphs.next()\n",
    "from eden.util import display\n",
    "from eden.modifier.graph.vertex_attributes import colorize  \n",
    "graphs = colorize([graph],output_attribute = 'color_level', labels = ['C','O','N','P','Cl','Br','S'])    \n",
    "graph=graphs.next()\n",
    "print 'We work on this graph'\n",
    "display.draw_graph(graph, size=10, secondary_vertex_label='ID',\n",
    "                   colormap='Paired', invert_colormap=False,node_border=0.5, vertex_color='color_level',\n",
    "                   vertex_alpha=0.5, node_size=650)\n",
    "\n",
    "\n",
    "def mark_and_draw(cip):\n",
    "    graph=myutils.cip_to_graph(cip)\n",
    "    myutils.draw_graph_set_graphlearn(graph, \n",
    "                           n_graphs_per_line=7, size=5, \n",
    "                           colormap='Paired', invert_colormap=False,node_border=1,\n",
    "                           vertex_alpha=0.6, edge_alpha=0.2, node_size=450)\n",
    "    \n",
    "radius_list=[0,1,2]\n",
    "thickness_list=[1,2]\n",
    "graph.node[1]['no_root']=True\n",
    "#lets see.. without filter:\n",
    "cip=gl.extract_core_and_interface(1,graph,radius_list=radius_list,thickness_list=thickness_list,vectorizer=vectorizer)\n",
    "print 'no filter'\n",
    "mark_and_draw(cip)\n",
    "\n",
    "\n",
    "# lets do the same but with the filter\n",
    "cip=gl.extract_core_and_interface(1,graph,filter=gt.filter,radius_list=radius_list,thickness_list=thickness_list,vectorizer=vectorizer)\n",
    "print 'with filter: nothing should appear,,,'\n",
    "mark_and_draw(cip)\n",
    "\n",
    "# filter is ignoring unfiltered things:\n",
    "cip=gl.extract_core_and_interface(2,graph,filter=gt.filter,radius_list=radius_list,thickness_list=thickness_list,vectorizer=vectorizer)\n",
    "print 'with filter but we chose node 2 as root'\n",
    "mark_and_draw(cip)\n",
    "\n",
    "\n",
    "# no core attribute\n",
    "graph.node[1][\"not_in_core\"]=True\n",
    "graph.node[1].pop('no_root')\n",
    "cip=gl.extract_core_and_interface(2,graph,filter=gt.filter,radius_list=radius_list,thickness_list=thickness_list,vectorizer=vectorizer)\n",
    "print 'with filter but node \"1\" cant be part of a core, we gave 0 and 2 as radius list and only radius 2 will show up'\n",
    "mark_and_draw(cip)"
   ]
  },
  {
   "cell_type": "code",
   "execution_count": null,
   "metadata": {
    "collapsed": true
   },
   "outputs": [],
   "source": [
    "import networkx as nx"
   ]
  },
  {
   "cell_type": "code",
   "execution_count": null,
   "metadata": {
    "collapsed": false
   },
   "outputs": [],
   "source": [
    "g=nx.path_graph(2)"
   ]
  },
  {
   "cell_type": "code",
   "execution_count": null,
   "metadata": {
    "collapsed": false
   },
   "outputs": [],
   "source": [
    "dir(g)"
   ]
  },
  {
   "cell_type": "code",
   "execution_count": null,
   "metadata": {
    "collapsed": false
   },
   "outputs": [],
   "source": [
    "g.__dict__"
   ]
  },
  {
   "cell_type": "code",
   "execution_count": null,
   "metadata": {
    "collapsed": true
   },
   "outputs": [],
   "source": []
  }
 ],
 "metadata": {
  "kernelspec": {
   "display_name": "Python 2",
   "language": "python",
   "name": "python2"
  },
  "language_info": {
   "codemirror_mode": {
    "name": "ipython",
    "version": 2
   },
   "file_extension": ".py",
   "mimetype": "text/x-python",
   "name": "python",
   "nbconvert_exporter": "python",
   "pygments_lexer": "ipython2",
   "version": "2.7.9"
  }
 },
 "nbformat": 4,
 "nbformat_minor": 0
}
