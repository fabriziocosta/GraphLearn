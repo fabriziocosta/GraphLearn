{
 "cells": [
  {
   "cell_type": "code",
   "execution_count": 8,
   "metadata": {
    "collapsed": false
   },
   "outputs": [
    {
     "name": "stdout",
     "output_type": "stream",
     "text": [
      "The autoreload extension is already loaded. To reload it, use:\n",
      "  %reload_ext autoreload\n"
     ]
    }
   ],
   "source": [
    "%load_ext autoreload\n",
    "%autoreload 2"
   ]
  },
  {
   "cell_type": "code",
   "execution_count": 1,
   "metadata": {
    "collapsed": true
   },
   "outputs": [],
   "source": [
    "%matplotlib inline"
   ]
  },
  {
   "cell_type": "code",
   "execution_count": 2,
   "metadata": {
    "collapsed": true
   },
   "outputs": [],
   "source": [
    "from eden.util import configure_logging\n",
    "import logging\n",
    "configure_logging(logging.getLogger(),verbosity=2,filename='run.log')"
   ]
  },
  {
   "cell_type": "code",
   "execution_count": 3,
   "metadata": {
    "collapsed": true
   },
   "outputs": [],
   "source": [
    "'''\n",
    "getting some data\n",
    "'''\n",
    "from eden.converter.graph.gspan import gspan_to_eden\n",
    "from itertools import islice\n",
    "dataset_fname = 'bursi.pos.gspan'\n",
    "\n",
    "def get_graphs(size=100):\n",
    "    return  islice(gspan_to_eden(dataset_fname),size)"
   ]
  },
  {
   "cell_type": "code",
   "execution_count": 10,
   "metadata": {
    "collapsed": false
   },
   "outputs": [
    {
     "name": "stdout",
     "output_type": "stream",
     "text": [
      "CPU times: user 8 µs, sys: 1e+03 ns, total: 9 µs\n",
      "Wall time: 9.06 µs\n",
      "estimator ok\n"
     ]
    }
   ],
   "source": [
    "%time\n",
    "'''\n",
    "first we test the core/interface extractor, since it is most essential\n",
    "'''\n",
    "import sys\n",
    "sys.path.append('..')\n",
    "%matplotlib inline\n",
    "# output workaround, sometimes necessary\n",
    "#import matplotlib\n",
    "#matplotlib.use('Agg')\n",
    "from eden.converter.graph.gspan import gspan_to_eden\n",
    "from graphlearn.graphlearn import GraphLearnSampler\n",
    "from eden.graph import Vectorizer\n",
    "import matplotlib.pyplot as plt\n",
    "import itertools\n",
    "from eden.util import fit, random_bipartition_iter , fit_estimator\n",
    "from sklearn.linear_model import SGDClassifier\n",
    "import random\n",
    "\n",
    "\n",
    "# a vectorizer\n",
    "vectorizer = Vectorizer( complexity=3 )\n",
    "\n",
    "\n",
    "\n",
    "# positive set contains 2401 elements, of which we use 30% to test of we cen improve them ,\n",
    "# the rest is used for the oracle\n",
    "lenpo=int(2401*.3)\n",
    "\n",
    "\n",
    "sampler_graph,oracle = random_bipartition_iter(gspan_to_eden('bursi.pos.gspan'),.3)\n",
    "\n",
    "# we create an oracle\n",
    "#estimator=make_estimator(oracle,gspan_to_eden('bursi.neg.gspan'))\n",
    "X=vectorizer.transform(oracle)\n",
    "X_=X.multiply(-1)\n",
    "estimator= fit_estimator(SGDClassifier(),X,X_)\n",
    "print 'estimator ok'\n"
   ]
  },
  {
   "cell_type": "code",
   "execution_count": 11,
   "metadata": {
    "collapsed": false,
    "scrolled": true
   },
   "outputs": [
    {
     "name": "stderr",
     "output_type": "stream",
     "text": [
      "Traceback (most recent call last):\n",
      "  File \"/usr/lib64/python2.7/logging/handlers.py\", line 77, in emit\n",
      "    self.doRollover()\n",
      "  File \"/usr/lib64/python2.7/logging/handlers.py\", line 136, in doRollover\n",
      "    os.rename(sfn, dfn)\n",
      "OSError: [Errno 2] No such file or directory\n",
      "Logged from file graphlearn.py, line 390\n",
      "/home/martners/.local/lib/python2.7/site-packages/sklearn/calibration.py:398: RuntimeWarning: overflow encountered in exp\n",
      "  E = np.exp(AB[0] * F + AB[1])\n",
      "/home/martners/.local/lib/python2.7/site-packages/sklearn/calibration.py:408: RuntimeWarning: overflow encountered in exp\n",
      "  E = np.exp(AB[0] * F + AB[1])\n",
      "/home/martners/.local/lib/python2.7/site-packages/sklearn/calibration.py:410: RuntimeWarning: invalid value encountered in multiply\n",
      "  TEP_minus_T1P = P * (T * E - T1)\n",
      "Traceback (most recent call last):\n",
      "  File \"/usr/lib64/python2.7/logging/handlers.py\", line 77, in emit\n",
      "    self.doRollover()\n",
      "  File \"/usr/lib64/python2.7/logging/handlers.py\", line 135, in doRollover\n",
      "    os.remove(dfn)\n",
      "OSError: [Errno 2] No such file or directory: '/home/martners/GraphLearn/example/run.log.10'\n",
      "Logged from file graphlearn.py, line 390\n",
      "Traceback (most recent call last):\n",
      "Traceback (most recent call last):\n",
      "  File \"/usr/lib64/python2.7/logging/handlers.py\", line 77, in emit\n",
      "  File \"/usr/lib64/python2.7/logging/handlers.py\", line 77, in emit\n",
      "    self.doRollover()\n",
      "    self.doRollover()\n",
      "  File \"/usr/lib64/python2.7/logging/handlers.py\", line 136, in doRollover\n",
      "  File \"/usr/lib64/python2.7/logging/handlers.py\", line 136, in doRollover\n",
      "    os.rename(sfn, dfn)\n",
      "    os.rename(sfn, dfn)\n",
      "OSError: [Errno 2] No such file or directory\n",
      "OSError: [Errno 2] No such file or directory\n",
      "Logged from file graphlearn.py, line 390\n",
      "Logged from file graphlearn.py, line 390\n",
      "Traceback (most recent call last):\n",
      "  File \"/usr/lib64/python2.7/logging/handlers.py\", line 77, in emit\n",
      "    self.doRollover()\n",
      "  File \"/usr/lib64/python2.7/logging/handlers.py\", line 136, in doRollover\n",
      "    os.rename(sfn, dfn)\n",
      "OSError: [Errno 2] No such file or directory\n",
      "Logged from file graphlearn.py, line 390\n",
      "Traceback (most recent call last):\n",
      "  File \"/usr/lib64/python2.7/logging/handlers.py\", line 77, in emit\n",
      "    self.doRollover()\n",
      "  File \"/usr/lib64/python2.7/logging/handlers.py\", line 136, in doRollover\n",
      "    os.rename(sfn, dfn)\n",
      "OSError: [Errno 2] No such file or directory\n",
      "Logged from file graphlearn.py, line 225\n"
     ]
    },
    {
     "name": "stdout",
     "output_type": "stream",
     "text": [
      "CPU times: user 27min 40s, sys: 49.1 s, total: 28min 29s\n",
      "Wall time: 1h 34min 46s\n"
     ]
    },
    {
     "name": "stderr",
     "output_type": "stream",
     "text": [
      "Traceback (most recent call last):\n",
      "Traceback (most recent call last):\n",
      "  File \"/usr/lib64/python2.7/logging/handlers.py\", line 77, in emit\n",
      "  File \"/usr/lib64/python2.7/logging/handlers.py\", line 77, in emit\n",
      "    self.doRollover()\n",
      "    self.doRollover()\n",
      "  File \"/usr/lib64/python2.7/logging/handlers.py\", line 136, in doRollover\n",
      "  File \"/usr/lib64/python2.7/logging/handlers.py\", line 136, in doRollover\n",
      "    os.rename(sfn, dfn)\n",
      "    os.rename(sfn, dfn)\n",
      "OSError: [Errno 2] No such file or directory\n",
      "OSError: [Errno 2] No such file or directory\n",
      "Logged from file graphlearn.py, line 225\n",
      "Logged from file graphlearn.py, line 225\n"
     ]
    }
   ],
   "source": [
    "%%time\n",
    "import numpy as np\n",
    "\n",
    "# ok we create an iterator over the graphs we want to work with... \n",
    "graphs_pos= sampler_graph\n",
    "\n",
    "\n",
    "# we want to use an increasing part of the test set.. \n",
    "percentages=[0.1, 0.25, 0.5, 0.75, 0.9]\n",
    "#percentages=[0.1]\n",
    "\n",
    "\n",
    "\n",
    "sampler = GraphLearnSampler(radius_list=[1,2],thickness_list=[1,2])\n",
    "orires=[]\n",
    "samplres=[]\n",
    "for perc in percentages:\n",
    "    \n",
    "    originals=[]\n",
    "    samples=[]\n",
    "    for e in range(5):\n",
    "        # we work with count many graphs\n",
    "        count = int(lenpo*perc)\n",
    "        # make copy of graphiterator\n",
    "        # select count random elements\n",
    "        # triplicate  the count long iterator\n",
    "        graphs_pos, graphs_pos_ = itertools.tee(graphs_pos)\n",
    "\n",
    "        # i pick only perc many :) \n",
    "        graphs_pos_,zzz = random_bipartition_iter(graphs_pos_, perc )    \n",
    "        graphs_pos_,graphs_pos__,graphs_pos___ = itertools.tee(graphs_pos_,3)\n",
    "\n",
    "        # do sampling\n",
    "        sampler.fit(graphs_pos__, n_jobs=-1, core_interface_pair_remove_threshold=3, interface_remove_threshold=3)\n",
    "\n",
    "        n_steps=20\n",
    "        sampling_factor=3 #how many samples per seed\n",
    "        sampling_interval=np.ceil([n_steps/sampling_factor])\n",
    "        improved_graphs = sampler.sample(graphs_pos_,\n",
    "                            same_radius=False,\n",
    "                            same_core_size=True,\n",
    "                            select_cip_max_tries=200,\n",
    "                            batch_size=30,\n",
    "                            n_steps=n_steps,\n",
    "                            sampling_interval=sampling_interval,\n",
    "                            n_jobs=-1,\n",
    "                            accept_annealing_factor=1.0,\n",
    "                            probabilistic_core_choice=True,\n",
    "                            generatormode=True)\n",
    "\n",
    "        #calculate the score of the improved versions\n",
    "        #calculate score of the originals\n",
    "        avg_imp=np.mean( [estimator.decision_function(e) for e in vectorizer.transform(improved_graphs) ] )\n",
    "        avg_ori=np.mean( [estimator.decision_function(e) for e in vectorizer.transform(graphs_pos___)] )\n",
    "        samples.append(avg_imp)\n",
    "        originals.append(avg_ori)\n",
    "        \n",
    "    orires.append(originals)\n",
    "    samplres.append(samples)"
   ]
  },
  {
   "cell_type": "code",
   "execution_count": 12,
   "metadata": {
    "collapsed": false
   },
   "outputs": [
    {
     "name": "stdout",
     "output_type": "stream",
     "text": [
      "Original: [[1.8580980082858365, 1.8580980082858365, 1.8580980082858365, 1.8580980082858365, 1.8580980082858365], [1.8578705512646341, 1.8578705512646341, 1.8578705512646341, 1.8578705512646341, 1.8578705512646341], [1.8650976083899928, 1.8650976083899928, 1.8650976083899928, 1.8650976083899928, 1.8650976083899928], [1.8675670886187281, 1.8675670886187281, 1.8675670886187281, 1.8675670886187281, 1.8675670886187281], [1.866183441756865, 1.866183441756865, 1.866183441756865, 1.866183441756865, 1.866183441756865]]\n",
      "Sampled: [[2.0269599874701711, 1.9582041385209175, 1.9271852352398249, 1.9669066452569091, 1.9951731056735769], [1.9536121014561709, 1.973862381752163, 1.9390310427609196, 1.9449990489135107, 1.9675374571077326], [1.9490957341052879, 1.9588124096541837, 1.9475654482771911, 1.9461881929134366, 1.9516718341878712], [1.9550378356739522, 1.9584079901368501, 1.9444332566311671, 1.9584356763536441, 1.955952540486473], [1.9493302114078404, 1.9598844761865282, 1.9588991713969355, 1.9581953355025226, 1.9566780324381357]]\n"
     ]
    },
    {
     "data": {
      "image/png": "[encoded data removed]",
      "text/plain": [
       "<matplotlib.figure.Figure at 0x6f06310>"
      ]
     },
     "metadata": {},
     "output_type": "display_data"
    }
   ],
   "source": [
    "print \"Original:\", orires\n",
    "print \"Sampled:\", samplres\n",
    "# ok alle infos sollten jetzt da sein um diesen supergraph zu zeichnen\n",
    "\n",
    "from graphlearn.utils.draw import plot_charts\n",
    "plot_charts(originals, data2=samples, xlabel=\"Training size\", ylabel=\"Score\", size=(10,4), log_scale=False)"
   ]
  },
  {
   "cell_type": "code",
   "execution_count": 13,
   "metadata": {
    "collapsed": false
   },
   "outputs": [],
   "source": [
    "from graphlearn.utils.draw import draw_learning_curve"
   ]
  },
  {
   "cell_type": "code",
   "execution_count": 14,
   "metadata": {
    "collapsed": false
   },
   "outputs": [
    {
     "name": "stderr",
     "output_type": "stream",
     "text": [
      "/home/martners/.local/lib/python2.7/site-packages/scipy/optimize/minpack.py:604: OptimizeWarning: Covariance of the parameters could not be estimated\n",
      "  category=OptimizeWarning)\n"
     ]
    },
    {
     "data": {
      "image/png": "[encoded data removed]",
      "text/plain": [
       "<matplotlib.figure.Figure at 0x4576fd0>"
      ]
     },
     "metadata": {},
     "output_type": "display_data"
    }
   ],
   "source": [
    "draw_learning_curve(data_A=orires,data_B=samplres,x=percentages,measure='SVMscore')"
   ]
  },
  {
   "cell_type": "code",
   "execution_count": null,
   "metadata": {
    "collapsed": true
   },
   "outputs": [],
   "source": []
  }
 ],
 "metadata": {
  "kernelspec": {
   "display_name": "Python 2",
   "language": "python",
   "name": "python2"
  },
  "language_info": {
   "codemirror_mode": {
    "name": "ipython",
    "version": 2
   },
   "file_extension": ".py",
   "mimetype": "text/x-python",
   "name": "python",
   "nbconvert_exporter": "python",
   "pygments_lexer": "ipython2",
   "version": "2.7.10"
  }
 },
 "nbformat": 4,
 "nbformat_minor": 0
}
