{
 "cells": [
  {
   "cell_type": "code",
   "execution_count": null,
   "metadata": {
    "collapsed": true
   },
   "outputs": [],
   "source": [
    "%load_ext autoreload\n",
    "%autoreload 2"
   ]
  },
  {
   "cell_type": "code",
   "execution_count": null,
   "metadata": {
    "collapsed": true
   },
   "outputs": [],
   "source": [
    "from eden.util import configure_logging\n",
    "import logging\n",
    "configure_logging(logging.getLogger(),verbosity=2)"
   ]
  },
  {
   "cell_type": "code",
   "execution_count": 1,
   "metadata": {
    "collapsed": false
   },
   "outputs": [
    {
     "name": "stdout",
     "output_type": "stream",
     "text": [
      "CPU times: user 3 µs, sys: 3 µs, total: 6 µs\n",
      "Wall time: 5.96 µs\n",
      "estimator ok\n"
     ]
    }
   ],
   "source": [
    "%time\n",
    "'''\n",
    "first we test the core/interface extractor, since it is most essential\n",
    "'''\n",
    "import sys\n",
    "sys.path.append('..')\n",
    "%matplotlib inline\n",
    "# output workaround, sometimes necessary\n",
    "#import matplotlib\n",
    "#matplotlib.use('Agg')\n",
    "from eden.converter.graph.gspan import gspan_to_eden\n",
    "from graphlearn.graphlearn import GraphLearnSampler\n",
    "from eden.graph import Vectorizer\n",
    "import matplotlib.pyplot as plt\n",
    "import itertools\n",
    "from eden.util import fit, random_bipartition_iter , fit_estimator\n",
    "from sklearn.linear_model import SGDClassifier\n",
    "import random\n",
    "\n",
    "\n",
    "# a vectorizer\n",
    "vectorizer = Vectorizer( complexity=3 )\n",
    "\n",
    "# select 1st element in an iterator\n",
    "def unpack(graphs):\n",
    "    for graphlist in graphs:\n",
    "        yield graphlist[0]\n",
    "\n",
    "# positive set contains 2401 elements, of which we use 30% to test of we cen improve them ,\n",
    "# the rest is used for the oracle\n",
    "lenpo=int(2401*.3)\n",
    "\n",
    "\n",
    "sampler_graph,oracle = random_bipartition_iter(gspan_to_eden('bursi.pos.gspan'),.3)\n",
    "\n",
    "# we create an oracle\n",
    "#estimator=make_estimator(oracle,gspan_to_eden('bursi.neg.gspan'))\n",
    "X=vectorizer.transform(oracle)\n",
    "X_=X.multiply(-1)\n",
    "estimator= fit_estimator(SGDClassifier(),X,X_)\n",
    "print 'estimator ok'\n"
   ]
  },
  {
   "cell_type": "code",
   "execution_count": 2,
   "metadata": {
    "collapsed": false
   },
   "outputs": [
    {
     "name": "stderr",
     "output_type": "stream",
     "text": [
      "/Library/Python/2.7/site-packages/sklearn/calibration.py:398: RuntimeWarning: overflow encountered in exp\n",
      "  E = np.exp(AB[0] * F + AB[1])\n",
      "/Library/Python/2.7/site-packages/sklearn/calibration.py:408: RuntimeWarning: overflow encountered in exp\n",
      "  E = np.exp(AB[0] * F + AB[1])\n",
      "/Library/Python/2.7/site-packages/sklearn/calibration.py:410: RuntimeWarning: invalid value encountered in multiply\n",
      "  TEP_minus_T1P = P * (T * E - T1)\n"
     ]
    },
    {
     "name": "stdout",
     "output_type": "stream",
     "text": [
      "CPU times: user 1min 30s, sys: 7.78 s, total: 1min 38s\n",
      "Wall time: 1min 59s\n"
     ]
    }
   ],
   "source": [
    "%%time\n",
    "import numpy as np\n",
    "\n",
    "# ok we create an iterator over the graphs we want to work with... \n",
    "graphs_pos= sampler_graph\n",
    "\n",
    "# save results here:\n",
    "originals=[]\n",
    "samples=[]\n",
    "\n",
    "# we want to use an increasing part of the test set.. \n",
    "percentages=[.01, .05, .12, .25, .5 ,1 ]\n",
    "percentages=[0.1, 0.2, 0.3, 0.4]\n",
    "\n",
    "sampler = GraphLearnSampler()\n",
    "\n",
    "for perc in percentages:\n",
    "    \n",
    "    # we work with count many graphs\n",
    "    count = int(lenpo*perc)\n",
    "    # make copy of graphiterator\n",
    "    # select count random elements\n",
    "    # triplicate  the count long iterator\n",
    "    graphs_pos, graphs_pos_ = itertools.tee(graphs_pos)\n",
    "  \n",
    "    # i pick only perc many :) \n",
    "    graphs_pos_,zzz = random_bipartition_iter(graphs_pos_, perc )    \n",
    "    graphs_pos_,graphs_pos__,graphs_pos___ = itertools.tee(graphs_pos_,3)\n",
    "\n",
    "    # do sampling\n",
    "    sampler.fit(graphs_pos__,n_jobs=4)\n",
    "\n",
    "    improved_graphs = sampler.sample( graphs_pos_,\n",
    "                        same_radius=False,\n",
    "                        same_core_size=False,\n",
    "                        sampling_interval=9999,\n",
    "                        select_cip_max_tries=100,\n",
    "                        batch_size=int(count/4)+1,\n",
    "                        n_steps=100,\n",
    "                        n_jobs=1,\n",
    "                        annealing_factor=0.9)\n",
    "\n",
    "    #calculate the score of the improved versions\n",
    "    #calculate score of the originals\n",
    "    avg_imp=np.mean( [estimator.decision_function(e) for e in vectorizer.transform(unpack(improved_graphs)) ] )\n",
    "    avg_ori=np.mean( [estimator.decision_function(e) for e in vectorizer.transform(graphs_pos___)] )\n",
    "    samples.append(avg_imp)\n",
    "    originals.append(avg_ori)"
   ]
  },
  {
   "cell_type": "code",
   "execution_count": 3,
   "metadata": {
    "collapsed": false
   },
   "outputs": [
    {
     "name": "stdout",
     "output_type": "stream",
     "text": [
      "Original: [1.6680108454774993, 1.6770904643098541, 1.6566310582567323, 1.6793074831778323]\n",
      "Sampled: [1.7812876960968778, 1.8479619341220941, 1.8190705260972906, 1.8467147929527268]\n"
     ]
    },
    {
     "data": {
      "image/png": "[encoded data removed]",
      "text/plain": [
       "<matplotlib.figure.Figure at 0x109420810>"
      ]
     },
     "metadata": {},
     "output_type": "display_data"
    }
   ],
   "source": [
    "print \"Original:\", originals\n",
    "print \"Sampled:\", samples\n",
    "\n",
    "from graphlearn.utils.draw import plot_charts\n",
    "plot_charts(originals, data2=samples, xlabel=\"Training size\", ylabel=\"Score\", size=(10,4), log_scale=False)"
   ]
  }
 ],
 "metadata": {
  "kernelspec": {
   "display_name": "Python 2",
   "language": "python",
   "name": "python2"
  },
  "language_info": {
   "codemirror_mode": {
    "name": "ipython",
    "version": 2
   },
   "file_extension": ".py",
   "mimetype": "text/x-python",
   "name": "python",
   "nbconvert_exporter": "python",
   "pygments_lexer": "ipython2",
   "version": "2.7.6"
  }
 },
 "nbformat": 4,
 "nbformat_minor": 0
}
