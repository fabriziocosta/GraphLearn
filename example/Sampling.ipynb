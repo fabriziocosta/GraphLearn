{
 "cells": [
  {
   "cell_type": "code",
   "execution_count": 35,
   "metadata": {
    "collapsed": false
   },
   "outputs": [
    {
     "name": "stdout",
     "output_type": "stream",
     "text": [
      "The autoreload extension is already loaded. To reload it, use:\n",
      "  %reload_ext autoreload\n"
     ]
    }
   ],
   "source": [
    "%load_ext autoreload\n",
    "%autoreload 2\n",
    "%matplotlib inline\n",
    "from eden.util import configure_logging\n",
    "import logging\n",
    "configure_logging(logging.getLogger(),verbosity=2)\n"
   ]
  },
  {
   "cell_type": "code",
   "execution_count": null,
   "metadata": {
    "collapsed": false
   },
   "outputs": [],
   "source": [
    "# get data\n",
    "from eden.converter.graph.gspan import gspan_to_eden\n",
    "from itertools import islice\n",
    "def get_graphs(dataset_fname, size=100):\n",
    "    return  islice(gspan_to_eden(dataset_fname),size)\n",
    "\n",
    "#dataset_names = !cat NCI60/names\n",
    "#dataset = dataset_names[4]\n",
    "#dataset_fname = 'NCI60/' + dataset + '_orig_pos.gspan'\n",
    "#print 'Working with dataset: %s' % dataset \n",
    "\n",
    "dataset_fname = 'bursi.pos.gspan'"
   ]
  },
  {
   "cell_type": "code",
   "execution_count": null,
   "metadata": {
    "collapsed": false,
    "scrolled": false
   },
   "outputs": [
    {
     "name": "stdout",
     "output_type": "stream",
     "text": [
      "fitting was asked with n=1\n",
      "\n",
      "Classifier:\n",
      "SGDClassifier(alpha=0.000981256309486, average=False, class_weight=None,\n",
      "       epsilon=0.1, eta0=0.728578002142, fit_intercept=True, l1_ratio=0.15,\n",
      "       learning_rate='invscaling', loss='log', n_iter=75, n_jobs=1,\n",
      "       penalty='l1', power_t=0.867624169398, random_state=None,\n",
      "       shuffle=True, verbose=0, warm_start=False)\n",
      "\n",
      "Predictive performance:\n",
      "            accuracy: 1.000 +- 0.000\n"
     ]
    }
   ],
   "source": [
    "%%time\n",
    "# induce a grammar and train an estimator\n",
    "training_graphs = get_graphs(dataset_fname, size=300)\n",
    "\n",
    "from graphlearn.graphlearn import GraphLearnSampler\n",
    "from eden.graph import Vectorizer\n",
    "sampler=GraphLearnSampler(radius_list=[0,1], thickness_list=[2],random_state=42447,\n",
    "                          min_cip_count=2, min_interface_count=2,\n",
    "                          vectorizer=Vectorizer(3))\n",
    "#take nu% of data as outlier\n",
    "sampler.fit(training_graphs, nu=0.25, n_jobs=1)\n",
    "\n",
    "print('graph grammar stats:')\n",
    "n_instances, interface_counts, core_counts, cip_counts = sampler.grammar().size()\n",
    "print('#instances: %d   #interfaces: %d   #cores: %d   #core-interface-pairs: %d' % (n_instances, interface_counts, core_counts, cip_counts))\n",
    "\n",
    "sampler.save('tmp/sampler.ge')"
   ]
  },
  {
   "cell_type": "code",
   "execution_count": null,
   "metadata": {
    "collapsed": false,
    "scrolled": false
   },
   "outputs": [],
   "source": [
    "%%time\n",
    "from graphlearn.graphlearn import GraphLearnSampler\n",
    "sampler=GraphLearnSampler()\n",
    "sampler.load('tmp/sampler.ge')\n",
    "\n",
    "# graph sampling\n",
    "graphs = get_graphs(dataset_fname, size=100)\n",
    "\n",
    "id_start=34\n",
    "id_end=id_start+12\n",
    "from itertools import islice\n",
    "graphs = islice(graphs,id_start,id_end)\n",
    "\n",
    "# sample\n",
    "n_steps=50\n",
    "n_samples=5\n",
    "\n",
    "from graphlearn.graphlearn import GraphLearnSampler\n",
    "graphs = sampler.sample(graphs,\n",
    "                        n_steps=n_steps, n_samples=n_samples,\n",
    "                        target_orig_cip=False,\n",
    "                        probabilistic_core_choice=True,\n",
    "                        score_core_choice= False,\n",
    "                        max_core_size_diff=-1,\n",
    "                        burnin=1,\n",
    "                        omit_seed=False,\n",
    "                   \n",
    "                        improving_threshold=.8, \n",
    "                        improving_linear_start=0.2,\n",
    "                        accept_static_penalty=0.0,\n",
    "                        n_jobs=1,\n",
    "                        select_cip_max_tries=200,\n",
    "                        keep_duplicates=True  )"
   ]
  },
  {
   "cell_type": "code",
   "execution_count": null,
   "metadata": {
    "collapsed": false,
    "scrolled": false
   },
   "outputs": [],
   "source": [
    "%%time\n",
    "# plot examples of sampling paths\n",
    "from graphlearn.utils import draw\n",
    "scores=[]\n",
    "ids=range(id_start,id_end)\n",
    "for i,graph in enumerate(graphs):\n",
    "    print 'Graph id: %d'%(ids[i])\n",
    "    scores.append(graph.graph['sampling_info']['score_history'])\n",
    "    path_graphs = graph.graph['sampling_info']['graphs_history']\n",
    "    draw.graphlearn(path_graphs,\n",
    "                   n_graphs_per_line=6, size=7, \n",
    "                   colormap='Paired', invert_colormap=False,node_border=0.5, vertex_color='_labels_',\n",
    "                   vertex_alpha=0.5, edge_alpha=0.2, node_size=450,\n",
    "                   headlinehook=draw.get_score_of_graph)"
   ]
  },
  {
   "cell_type": "code",
   "execution_count": null,
   "metadata": {
    "collapsed": false,
    "scrolled": false
   },
   "outputs": [],
   "source": [
    "%%time\n",
    "# plot sampling path score\n",
    "from itertools import islice\n",
    "import numpy as np\n",
    "import pylab as plt\n",
    "markevery=n_steps/(n_samples-1)\n",
    "step=1\n",
    "num_graphs_per_plot=4\n",
    "num_plots=np.ceil([len(scores)/num_graphs_per_plot])\n",
    "for i in range(num_plots):\n",
    "    plt.figure(figsize=(13,5))\n",
    "    for j,score in enumerate(scores[i*num_graphs_per_plot:i*num_graphs_per_plot+num_graphs_per_plot]):\n",
    "        data = list(islice(score,None, None, step))\n",
    "        plt.plot(data, linewidth=2, label='graph %d'%(j+i*num_graphs_per_plot+id_start))\n",
    "        plt.plot(data, linestyle='None',markevery=markevery, markerfacecolor='white', marker='o', markeredgewidth=2,markersize=6)\n",
    "    plt.legend(loc='lower right')\n",
    "    plt.grid()\n",
    "    plt.xlim(-1,n_steps+1)\n",
    "    plt.ylim(-0.1,1.1)\n",
    "    plt.show()"
   ]
  },
  {
   "cell_type": "markdown",
   "metadata": {},
   "source": [
    "."
   ]
  },
  {
   "cell_type": "code",
   "execution_count": null,
   "metadata": {
    "collapsed": false
   },
   "outputs": [],
   "source": []
  },
  {
   "cell_type": "code",
   "execution_count": null,
   "metadata": {
    "collapsed": true
   },
   "outputs": [],
   "source": []
  },
  {
   "cell_type": "code",
   "execution_count": null,
   "metadata": {
    "collapsed": true
   },
   "outputs": [],
   "source": []
  },
  {
   "cell_type": "code",
   "execution_count": null,
   "metadata": {
    "collapsed": true
   },
   "outputs": [],
   "source": []
  },
  {
   "cell_type": "code",
   "execution_count": null,
   "metadata": {
    "collapsed": true
   },
   "outputs": [],
   "source": []
  },
  {
   "cell_type": "code",
   "execution_count": null,
   "metadata": {
    "collapsed": true
   },
   "outputs": [],
   "source": []
  },
  {
   "cell_type": "code",
   "execution_count": null,
   "metadata": {
    "collapsed": true
   },
   "outputs": [],
   "source": []
  },
  {
   "cell_type": "code",
   "execution_count": null,
   "metadata": {
    "collapsed": false
   },
   "outputs": [],
   "source": []
  },
  {
   "cell_type": "code",
   "execution_count": null,
   "metadata": {
    "collapsed": true
   },
   "outputs": [],
   "source": []
  }
 ],
 "metadata": {
  "kernelspec": {
   "display_name": "Python 2",
   "language": "python",
   "name": "python2"
  },
  "language_info": {
   "codemirror_mode": {
    "name": "ipython",
    "version": 2
   },
   "file_extension": ".py",
   "mimetype": "text/x-python",
   "name": "python",
   "nbconvert_exporter": "python",
   "pygments_lexer": "ipython2",
   "version": "2.7.9"
  }
 },
 "nbformat": 4,
 "nbformat_minor": 0
}
