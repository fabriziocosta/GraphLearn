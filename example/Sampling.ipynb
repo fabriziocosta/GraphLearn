{
 "cells": [
  {
   "cell_type": "code",
   "execution_count": 29,
   "metadata": {
    "collapsed": false
   },
   "outputs": [
    {
     "name": "stdout",
     "output_type": "stream",
     "text": [
      "The autoreload extension is already loaded. To reload it, use:\n",
      "  %reload_ext autoreload\n"
     ]
    }
   ],
   "source": [
    "%load_ext autoreload\n",
    "%autoreload 2\n",
    "%matplotlib inline\n",
    "from eden.util import configure_logging\n",
    "import logging\n",
    "configure_logging(logging.getLogger(),verbosity=1)"
   ]
  },
  {
   "cell_type": "code",
   "execution_count": 30,
   "metadata": {
    "collapsed": false
   },
   "outputs": [
    {
     "name": "stdout",
     "output_type": "stream",
     "text": [
      "Working with dataset: HOP_62_t\n"
     ]
    }
   ],
   "source": [
    "# get data\n",
    "from eden.converter.graph.gspan import gspan_to_eden\n",
    "from itertools import islice\n",
    "def get_graphs(dataset_fname, size=100):\n",
    "    return  islice(gspan_to_eden(dataset_fname),size)\n",
    "\n",
    "dataset_names = !cat NCI60/names\n",
    "dataset = dataset_names[3]\n",
    "# dataset_fname = 'bursi.pos.gspan'\n",
    "dataset_fname = 'NCI60/' + dataset + '_orig_pos.gspan'\n",
    "print 'Working with dataset: %s' % dataset "
   ]
  },
  {
   "cell_type": "code",
   "execution_count": 31,
   "metadata": {
    "collapsed": false
   },
   "outputs": [
    {
     "name": "stdout",
     "output_type": "stream",
     "text": [
      "graph grammar stats:\n",
      "#interfaces: 221   #cores: 178   #core-interface-pairs: 1345\n",
      "CPU times: user 1min 6s, sys: 6.71 s, total: 1min 12s\n",
      "Wall time: 1min 17s\n"
     ]
    }
   ],
   "source": [
    "%%time\n",
    "# induce a grammar and train an estimator\n",
    "training_graphs = get_graphs(dataset_fname, size=1000)\n",
    "\n",
    "from graphlearn.graphlearn import GraphLearnSampler\n",
    "sampler=GraphLearnSampler(radius_list=[0,1], thickness_list=[1],\n",
    "                          min_cip_count=2, min_interface_count=2)\n",
    "\n",
    "sampler.fit(training_graphs, n_jobs=-1)\n",
    "\n",
    "print('graph grammar stats:')\n",
    "interface_counts, core_counts, cip_counts = sampler.grammar().size()\n",
    "print('#interfaces: %d   #cores: %d   #core-interface-pairs: %d' % (interface_counts, core_counts, cip_counts))"
   ]
  },
  {
   "cell_type": "code",
   "execution_count": 35,
   "metadata": {
    "collapsed": false,
    "scrolled": false
   },
   "outputs": [
    {
     "name": "stdout",
     "output_type": "stream",
     "text": [
      "CPU times: user 18 µs, sys: 10 µs, total: 28 µs\n",
      "Wall time: 27.9 µs\n"
     ]
    }
   ],
   "source": [
    "%%time\n",
    "# graph sampling\n",
    "graphs = get_graphs(dataset_fname, size=100)\n",
    "id_start=1\n",
    "id_end=id_start+12\n",
    "from itertools import islice\n",
    "graphs = islice(graphs,id_start,id_end)\n",
    "\n",
    "# sample\n",
    "sampler.feasibility_checker.draw_problem=False\n",
    "graphs = sampler.sample(graphs,\n",
    "                        n_steps=120, n_samples=6,\n",
    "                        probabilistic_core_choice=True,\n",
    "                        same_radius=False, same_core_size=True,\n",
    "                        accept_annealing_factor=1.4,\n",
    "                        n_jobs=-1,burnin=0,select_cip_max_tries=400,keep_duplicates=True)"
   ]
  },
  {
   "cell_type": "code",
   "execution_count": 33,
   "metadata": {
    "collapsed": false,
    "scrolled": true
   },
   "outputs": [
    {
     "name": "stdout",
     "output_type": "stream",
     "text": [
      "CPU times: user 10.6 ms, sys: 26.3 ms, total: 36.9 ms\n",
      "Wall time: 150 ms\n"
     ]
    }
   ],
   "source": [
    "%%time\n",
    "# plot examples of sampling paths\n",
    "from graphlearn.utils.draw import draw_graph_set_graphlearn, get_score_of_graph\n",
    "scores=[]\n",
    "ids=range(id_start,id_end)\n",
    "for i,graph in enumerate(graphs):\n",
    "    print 'Graph id: %d'%(ids[i])\n",
    "    scores.append(graph.graph['sampling_info']['score_history'])\n",
    "    path_graphs = graph.graph['sampling_info']['graphs_history']\n",
    "    draw_graph_set_graphlearn(path_graphs,\n",
    "                   n_graphs_per_line=6, size=7, \n",
    "                   colormap='Paired', invert_colormap=False,node_border=0.5, vertex_color='_labels_',\n",
    "                   vertex_alpha=0.5, edge_alpha=0.2, node_size=250,\n",
    "                   headlinehook=get_score_of_graph)"
   ]
  },
  {
   "cell_type": "code",
   "execution_count": 34,
   "metadata": {
    "collapsed": false,
    "scrolled": false
   },
   "outputs": [
    {
     "name": "stdout",
     "output_type": "stream",
     "text": [
      "CPU times: user 217 µs, sys: 261 µs, total: 478 µs\n",
      "Wall time: 410 µs\n"
     ]
    }
   ],
   "source": [
    "%%time\n",
    "# plot sampling path score\n",
    "from itertools import islice\n",
    "import numpy as np\n",
    "import pylab as plt\n",
    "step=1\n",
    "num_graphs_per_plot=3\n",
    "num_plots=np.ceil([len(scores)/num_graphs_per_plot])\n",
    "for i in range(num_plots):\n",
    "    plt.figure(figsize=(10,5))\n",
    "    for j,score in enumerate(scores[i*num_graphs_per_plot:i*num_graphs_per_plot+num_graphs_per_plot]):\n",
    "        data = list(islice(score,None, None, step))\n",
    "        plt.plot(data, linewidth=2, label='graph %d'%(j+i*num_graphs_per_plot+id_start))\n",
    "        plt.plot(data, linestyle='None', markerfacecolor='white', marker='o', markeredgewidth=1,markersize=5)\n",
    "    plt.legend(loc='lower right')\n",
    "    plt.grid()\n",
    "    plt.ylim(-0.1,1.1)\n",
    "    plt.show()"
   ]
  },
  {
   "cell_type": "markdown",
   "metadata": {},
   "source": [
    "."
   ]
  }
 ],
 "metadata": {
  "kernelspec": {
   "display_name": "Python 2",
   "language": "python",
   "name": "python2"
  },
  "language_info": {
   "codemirror_mode": {
    "name": "ipython",
    "version": 2
   },
   "file_extension": ".py",
   "mimetype": "text/x-python",
   "name": "python",
   "nbconvert_exporter": "python",
   "pygments_lexer": "ipython2",
   "version": "2.7.10"
  }
 },
 "nbformat": 4,
 "nbformat_minor": 0
}
