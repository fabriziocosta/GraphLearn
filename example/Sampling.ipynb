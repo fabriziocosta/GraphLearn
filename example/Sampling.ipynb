{
 "cells": [
  {
   "cell_type": "code",
   "execution_count": 1,
   "metadata": {
    "collapsed": false
   },
   "outputs": [],
   "source": [
    "%load_ext autoreload\n",
    "%autoreload 2\n",
    "%matplotlib inline\n",
    "from eden.util import configure_logging\n",
    "import logging\n",
    "configure_logging(logging.getLogger(),verbosity=1)\n",
    "import random \n",
    "random.seed(313379)"
   ]
  },
  {
   "cell_type": "code",
   "execution_count": 2,
   "metadata": {
    "collapsed": false
   },
   "outputs": [],
   "source": [
    "# get data\n",
    "from eden.converter.graph.gspan import gspan_to_eden\n",
    "from itertools import islice\n",
    "def get_graphs(dataset_fname, size=100):\n",
    "    return  islice(gspan_to_eden(dataset_fname),size)\n",
    "\n",
    "#dataset_names = !cat NCI60/names\n",
    "#dataset = dataset_names[4]\n",
    "#dataset_fname = 'NCI60/' + dataset + '_orig_pos.gspan'\n",
    "#print 'Working with dataset: %s' % dataset \n",
    "\n",
    "dataset_fname = 'bursi.pos.gspan'"
   ]
  },
  {
   "cell_type": "code",
   "execution_count": 14,
   "metadata": {
    "collapsed": false
   },
   "outputs": [
    {
     "name": "stdout",
     "output_type": "stream",
     "text": [
      "graph grammar stats:\n",
      "#interfaces: 546   #cores: 701   #core-interface-pairs: 2098\n",
      "CPU times: user 17.2 s, sys: 2.35 s, total: 19.6 s\n",
      "Wall time: 28.2 s\n"
     ]
    }
   ],
   "source": [
    "%%time\n",
    "# induce a grammar and train an estimator\n",
    "training_graphs = get_graphs(dataset_fname, size=400)\n",
    "\n",
    "from graphlearn.graphlearn import GraphLearnSampler\n",
    "from eden.graph import Vectorizer\n",
    "sampler=GraphLearnSampler(radius_list=[0,1,2,3], thickness_list=[2],\n",
    "                          min_cip_count=2, min_interface_count=2,\n",
    "                          vectorizer=Vectorizer(5))\n",
    "#take nu% of data as outlier\n",
    "sampler.fit(training_graphs, nu=0.2, n_jobs=-1)\n",
    "\n",
    "print('graph grammar stats:')\n",
    "interface_counts, core_counts, cip_counts = sampler.grammar().size()\n",
    "print('#interfaces: %d   #cores: %d   #core-interface-pairs: %d' % (interface_counts, core_counts, cip_counts))"
   ]
  },
  {
   "cell_type": "code",
   "execution_count": null,
   "metadata": {
    "collapsed": false,
    "scrolled": false
   },
   "outputs": [
    {
     "name": "stdout",
     "output_type": "stream",
     "text": [
      "CPU times: user 20 µs, sys: 3 µs, total: 23 µs\n",
      "Wall time: 27.2 µs\n"
     ]
    }
   ],
   "source": [
    "%%time\n",
    "# graph sampling\n",
    "graphs = get_graphs(dataset_fname, size=100)\n",
    "id_start=10\n",
    "id_end=id_start+9\n",
    "from itertools import islice\n",
    "graphs = islice(graphs,id_start,id_end)\n",
    "\n",
    "# sample\n",
    "from graphlearn.graphlearn import GraphLearnSampler\n",
    "graphs = sampler.sample(graphs,\n",
    "                        n_steps=50, n_samples=6,\n",
    "                        target_orig_cip=True,\n",
    "                        probabilistic_core_choice=False,\n",
    "                        score_core_choice= True,\n",
    "                        max_core_size_diff=0,\n",
    "                        improving_threshold=0.5, accept_static_penalty=0,\n",
    "                        n_jobs=-1,burnin=0,select_cip_max_tries=200,keep_duplicates=True)"
   ]
  },
  {
   "cell_type": "code",
   "execution_count": null,
   "metadata": {
    "collapsed": false,
    "scrolled": false
   },
   "outputs": [],
   "source": [
    "#%%time\n",
    "# plot examples of sampling paths\n",
    "from graphlearn.utils.draw import  graphlearn_draw, get_score_of_graph\n",
    "scores=[]\n",
    "ids=range(id_start,id_end)\n",
    "for i,graph in enumerate(graphs):\n",
    "    print 'Graph id: %d'%(ids[i])\n",
    "    scores.append(graph.graph['sampling_info']['score_history'])\n",
    "    path_graphs = graph.graph['sampling_info']['graphs_history']\n",
    "    graphlearn_draw(path_graphs,\n",
    "                   n_graphs_per_line=6, size=7, \n",
    "                   colormap='Paired', invert_colormap=False,node_border=0.5, vertex_color='_labels_',\n",
    "                   vertex_alpha=0.5, edge_alpha=0.2, node_size=450,\n",
    "                   headlinehook=get_score_of_graph)"
   ]
  },
  {
   "cell_type": "code",
   "execution_count": null,
   "metadata": {
    "collapsed": false,
    "scrolled": false
   },
   "outputs": [],
   "source": [
    "%%time\n",
    "# plot sampling path score\n",
    "from itertools import islice\n",
    "import numpy as np\n",
    "import pylab as plt\n",
    "step=1\n",
    "num_graphs_per_plot=3\n",
    "num_plots=np.ceil([len(scores)/num_graphs_per_plot])\n",
    "for i in range(num_plots):\n",
    "    plt.figure(figsize=(10,5))\n",
    "    for j,score in enumerate(scores[i*num_graphs_per_plot:i*num_graphs_per_plot+num_graphs_per_plot]):\n",
    "        data = list(islice(score,None, None, step))\n",
    "        plt.plot(data, linewidth=2, label='graph %d'%(j+i*num_graphs_per_plot+id_start))\n",
    "        plt.plot(data, linestyle='None', markerfacecolor='white', marker='o', markeredgewidth=1,markersize=5)\n",
    "    plt.legend(loc='lower right')\n",
    "    plt.grid()\n",
    "    #plt.ylim(-0.1,1.1)\n",
    "    plt.show()"
   ]
  },
  {
   "cell_type": "markdown",
   "metadata": {},
   "source": [
    "."
   ]
  }
 ],
 "metadata": {
  "kernelspec": {
   "display_name": "Python 2",
   "language": "python",
   "name": "python2"
  },
  "language_info": {
   "codemirror_mode": {
    "name": "ipython",
    "version": 2
   },
   "file_extension": ".py",
   "mimetype": "text/x-python",
   "name": "python",
   "nbconvert_exporter": "python",
   "pygments_lexer": "ipython2",
   "version": "2.7.10"
  }
 },
 "nbformat": 4,
 "nbformat_minor": 0
}
