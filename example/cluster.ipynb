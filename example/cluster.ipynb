{
 "cells": [
  {
   "cell_type": "code",
   "execution_count": null,
   "metadata": {
    "collapsed": false
   },
   "outputs": [],
   "source": [
    "%%time\n",
    "'''\n",
    "GOOD STUFF  lets test the clusterator\n",
    "'''\n",
    "from eden.util import configure_logging\n",
    "import logging\n",
    "configure_logging(logging.getLogger(),verbosity=2,filename='run.log')\n",
    "\n",
    "import sys\n",
    "sys.path.append('..')\n",
    "import os\n",
    "os.nice(19)\n",
    "%matplotlib inline\n",
    "\n",
    "import graphlearn.utils.draw as myutils\n",
    "import graphlearn.cluster as cl\n",
    "from eden.converter.graph.gspan import gspan_to_eden\n",
    "import itertools\n",
    "import matplotlib.pyplot as plt\n",
    "import eden.graph as eg\n",
    "steps=100\n",
    "\n",
    "#sampler=cl.cluster(vectorizer=eg.Vectorizer(  normalization=False, inner_normalization=False))\n",
    "sampler= cl.cluster(thickness_list=[1])\n",
    "#food=gspan_to_eden( 'bursi.pos.gspan' )\n",
    "#food= itertools.islice(food,50)\n",
    "#sampler.fit(food,  n_jobs=-1)\n",
    "#sampler.save('tmp/cluster.ge')\n",
    "#print 'saved'\n",
    "sampler.load('tmp/cluster.ge')\n",
    "print 'load'\n",
    "graphs = gspan_to_eden( 'bursi.pos.gspan' )\n",
    "#graphs = itertools.islice(graphs,50)\n",
    "targets = gspan_to_eden( 'bursi.pos.gspan' )\n",
    "targets = itertools.islice(targets,9)\n",
    "graphs = sampler.sample(graphs,\n",
    "                        targets,\n",
    "                        targets_in_graphs= True,\n",
    "                        sampling_interval=int(steps/4)+1,\n",
    "                        batch_size=1,\n",
    "                        n_steps=steps,\n",
    "                        n_jobs=-1,\n",
    "                        select_cip_max_tries = 100,\n",
    "                        accept_annealing_factor=0.7,\n",
    "                        )\n",
    "\n",
    "\n",
    "history=[]\n",
    "for  i, gr in enumerate(graphs):\n",
    "    history.append(gr.graph['sampling_info']['score_history'])\n",
    "    \n",
    "    myutils.draw_graph_set_graphlearn(gr.graph['sampling_info']['graphs_history'])\n",
    "\n",
    "\n",
    "t = range(steps+1) \n",
    "for h in history[:3]:\n",
    "    plt.plot(t, h)\n",
    "plt.show()\n",
    "t = range(steps+1) \n",
    "for h in history[3:6]:\n",
    "    plt.plot(t, h)\n",
    "plt.show()\n",
    "t = range(steps+1) \n",
    "for h in history[6:]:\n",
    "    plt.plot(t, h)\n",
    "plt.show()"
   ]
  },
  {
   "cell_type": "code",
   "execution_count": null,
   "metadata": {
    "collapsed": false
   },
   "outputs": [],
   "source": [
    "a=range(3)\n",
    "b=range(3)\n",
    "for c,d in zip(a,b):\n",
    "    print c,d"
   ]
  },
  {
   "cell_type": "code",
   "execution_count": null,
   "metadata": {
    "collapsed": true
   },
   "outputs": [],
   "source": []
  }
 ],
 "metadata": {
  "kernelspec": {
   "display_name": "Python 2",
   "language": "python",
   "name": "python2"
  },
  "language_info": {
   "codemirror_mode": {
    "name": "ipython",
    "version": 2
   },
   "file_extension": ".py",
   "mimetype": "text/x-python",
   "name": "python",
   "nbconvert_exporter": "python",
   "pygments_lexer": "ipython2",
   "version": "2.7.5"
  }
 },
 "nbformat": 4,
 "nbformat_minor": 0
}
