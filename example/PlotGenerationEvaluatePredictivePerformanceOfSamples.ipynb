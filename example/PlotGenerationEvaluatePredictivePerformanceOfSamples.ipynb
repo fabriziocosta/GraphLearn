{
 "cells": [
  {
   "cell_type": "code",
   "execution_count": 1,
   "metadata": {
    "collapsed": false
   },
   "outputs": [],
   "source": [
    "%matplotlib inline\n",
    "import eden\n",
    "import matplotlib.pyplot as plt\n",
    "from eden.util import configure_logging\n",
    "import logging"
   ]
  },
  {
   "cell_type": "code",
   "execution_count": 2,
   "metadata": {
    "collapsed": true
   },
   "outputs": [],
   "source": [
    "from itertools import tee, chain, islice\n",
    "import numpy as np\n",
    "import random\n",
    "from time import time\n",
    "import datetime\n",
    "from graphlearn.graphlearn import GraphLearnSampler\n",
    "from eden.util import fit,estimate\n",
    "from eden.graph import Vectorizer\n",
    "# get data\n",
    "from eden.converter.graph.gspan import gspan_to_eden\n",
    "from itertools import islice\n",
    "def get_graphs(dataset_fname, size=100):\n",
    "    return  islice(gspan_to_eden(dataset_fname),size)"
   ]
  },
  {
   "cell_type": "code",
   "execution_count": 3,
   "metadata": {
    "collapsed": false,
    "scrolled": false
   },
   "outputs": [],
   "source": [
    "from scipy.optimize import curve_fit\n",
    "import numpy as np\n",
    "\n",
    "def func(x,a,b,c):\n",
    "    return a * (1 - 1/np.exp(b * x + c))\n",
    "\n",
    "\n",
    "def plot_data(data_x, full_data, label='', color=None):\n",
    "    data_y = np.mean(full_data, axis=1)\n",
    "    ws = 0.02\n",
    "    cd={'color':color}\n",
    "    plt.boxplot(full_data, positions=data_x, widths=ws, capprops=cd, medianprops=cd, boxprops=cd, whiskerprops=cd, flierprops=cd)\n",
    "    plt.plot(data_x,data_y, color=color, linestyle='None', marker='o', markeredgewidth=1, markersize=7, markeredgecolor=color, markerfacecolor='w', label=label)\n",
    "    try:\n",
    "        popt,pcov = curve_fit(func, data_x, data_y)\n",
    "    except:\n",
    "        pass\n",
    "    else:\n",
    "        data_x = np.linspace(data_x[0],data_x[-1],num=100)\n",
    "        data_y = [func(x,*popt) for x in data_x]\n",
    "        plt.plot(data_x,data_y, color=color, lw=2)\n",
    "    \n",
    "def plot(dataset, percentages, original_sample_repetitions, original_repetitions, sample_repetitions):\n",
    "    plt.figure(figsize=(18,8))\n",
    "    plt.grid()   \n",
    "    \n",
    "    plot_data(percentages, original_sample_repetitions, label='original+sample', color='g')\n",
    "    plot_data(percentages, original_repetitions, label='original', color='r')\n",
    "    plot_data(percentages, sample_repetitions, label='sample', color='b')\n",
    "    \n",
    "    plt.xlim(percentages[0]-.05,percentages[-1]+.05)\n",
    "    plt.title(dataset+'\\n',fontsize=17)\n",
    "    plt.legend(loc='lower right',fontsize=16)\n",
    "    plt.ylabel('ROC AUC',fontsize=16)\n",
    "    plt.xlabel('Dataset size (fraction)',fontsize=16)\n",
    "    plt.savefig('%s_plot_predictive_performance_of_samples.pdf' % dataset)    "
   ]
  },
  {
   "cell_type": "code",
   "execution_count": 4,
   "metadata": {
    "collapsed": false
   },
   "outputs": [],
   "source": [
    "def save_results(result_fname,percentages, original_repetitions,original_sample_repetitions,sample_repetitions):\n",
    "    with open(result_fname,'w') as f:\n",
    "        f.write('dataset sizes list:\\n')\n",
    "        for perc in percentages:\n",
    "            f.write('%s '% perc)\n",
    "        f.write('\\n')\n",
    "        f.write('AUC scores:\\n')\n",
    "        for repetitions in original_repetitions,original_sample_repetitions,sample_repetitions:\n",
    "            f.write('%s\\n' % len(repetitions))\n",
    "            for repetition in repetitions:\n",
    "                for auc in repetition:\n",
    "                    f.write('%s ' % auc)\n",
    "                f.write('\\n')\n",
    "    \n",
    "def load_results(result_fname):\n",
    "    with open(result_fname) as f:\n",
    "        comment = next(f)\n",
    "        line = next(f)\n",
    "        percentages = [float(x) for x in line.split()]\n",
    "        comment = next(f)\n",
    "\n",
    "        original_repetitions = []\n",
    "        size = int(next(f))\n",
    "        for i in range(size):\n",
    "            line = next(f)\n",
    "            repetition = [float(x) for x in line.split()]\n",
    "            original_repetitions.append(repetition)\n",
    "\n",
    "        original_sample_repetitions = []\n",
    "        size = int(next(f))\n",
    "        for i in range(size):\n",
    "            line = next(f)\n",
    "            repetition = [float(x) for x in line.split()]\n",
    "            original_sample_repetitions.append(repetition)\n",
    "\n",
    "\n",
    "        sample_repetitions = []\n",
    "        size = int(next(f))\n",
    "        for i in range(size):\n",
    "            line = next(f)\n",
    "            repetition = [float(x) for x in line.split()]\n",
    "            sample_repetitions.append(repetition)\n",
    "            \n",
    "    return percentages, original_repetitions,original_sample_repetitions,sample_repetitions"
   ]
  },
  {
   "cell_type": "code",
   "execution_count": 5,
   "metadata": {
    "collapsed": true
   },
   "outputs": [],
   "source": [
    "import numpy as np\n",
    "import math\n",
    "\n",
    "def score(experiment):\n",
    "    return np.mean([np.mean(repetition) for repetition in experiment])\n",
    "\n",
    "def scores(result_fname):\n",
    "    percentages,\\\n",
    "    original_repetitions,\\\n",
    "    original_sample_repetitions,\\\n",
    "    sample_repetitions = load_results(result_fname)\n",
    "    return  math.log10(score(original_sample_repetitions)/score(original_repetitions))"
   ]
  },
  {
   "cell_type": "markdown",
   "metadata": {},
   "source": [
    "#Experimental pipeline"
   ]
  },
  {
   "cell_type": "code",
   "execution_count": 6,
   "metadata": {
    "collapsed": false
   },
   "outputs": [],
   "source": [
    "#setup\n",
    "dataset_names = !cat NCI60/names"
   ]
  },
  {
   "cell_type": "code",
   "execution_count": 7,
   "metadata": {
    "collapsed": false,
    "scrolled": true
   },
   "outputs": [],
   "source": [
    "import os.path\n",
    "\n",
    "performances=[]\n",
    "for dataset in sorted(dataset_names):\n",
    "    result_fname='%s_predictive_performance_of_samples.data'%dataset\n",
    "    if os.path.exists(result_fname):\n",
    "         performances.append((scores(result_fname),dataset))\n",
    "            \n",
    "for i, (score, dataset) in enumerate(sorted(performances, reverse=True)):\n",
    "    result_fname='%s_predictive_performance_of_samples.data'%dataset\n",
    "    if os.path.exists(result_fname):\n",
    "        percentages_l, original_repetitions_l,original_sample_repetitions_l,sample_repetitions_l = load_results(result_fname)\n",
    "        plot(dataset, percentages_l, original_sample_repetitions_l, original_repetitions_l, sample_repetitions_l)\n",
    "        print('%2d %15s   %+.4f'%(i, dataset,score))"
   ]
  },
  {
   "cell_type": "markdown",
   "metadata": {},
   "source": [
    "."
   ]
  }
 ],
 "metadata": {
  "kernelspec": {
   "display_name": "Python 2",
   "language": "python",
   "name": "python2"
  },
  "language_info": {
   "codemirror_mode": {
    "name": "ipython",
    "version": 2
   },
   "file_extension": ".py",
   "mimetype": "text/x-python",
   "name": "python",
   "nbconvert_exporter": "python",
   "pygments_lexer": "ipython2",
   "version": "2.7.6"
  }
 },
 "nbformat": 4,
 "nbformat_minor": 0
}
