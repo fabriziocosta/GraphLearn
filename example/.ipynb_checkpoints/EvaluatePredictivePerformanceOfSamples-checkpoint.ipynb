{
 "cells": [
  {
   "cell_type": "code",
   "execution_count": 1,
   "metadata": {
    "collapsed": false
   },
   "outputs": [],
   "source": [
    "%load_ext autoreload\n",
    "%autoreload 2"
   ]
  },
  {
   "cell_type": "code",
   "execution_count": 2,
   "metadata": {
    "collapsed": true
   },
   "outputs": [],
   "source": [
    "from eden.util import configure_logging\n",
    "import logging\n",
    "configure_logging(logging.getLogger(),verbosity=0)"
   ]
  },
  {
   "cell_type": "code",
   "execution_count": 3,
   "metadata": {
    "collapsed": false
   },
   "outputs": [
    {
     "name": "stdout",
     "output_type": "stream",
     "text": [
      "CPU times: user 8 µs, sys: 2 µs, total: 10 µs\n",
      "Wall time: 11 µs\n"
     ]
    }
   ],
   "source": [
    "'''\n",
    "second performance test\n",
    "'''\n",
    "%time\n",
    "import sys\n",
    "sys.path.append('..')\n",
    "%matplotlib inline\n",
    "# you might need this:\n",
    "#import matplotlib\n",
    "#matplotlib.use('Agg')\n",
    "\n",
    "from eden.converter.graph.gspan import gspan_to_eden\n",
    "from graphlearn.graphlearn import GraphLearnSampler\n",
    "import itertools\n",
    "from eden.graph import Vectorizer\n",
    "import matplotlib.pyplot as plt\n",
    "import numpy as np\n",
    "\n",
    "from eden.util import fit_estimator,fit , random_bipartition_iter,estimate\n",
    "import random\n",
    "from eden.util import selection_iterator as picker\n",
    "from sklearn.linear_model import SGDClassifier\n",
    "\n",
    "vectorizer = Vectorizer( complexity=2 )\n",
    "#2401 positives and 1936 negatives\n",
    "NUMPOS=2401\n",
    "NUMNEG=1936\n",
    "\n",
    "######################## testing ##############################\n",
    "from eden.util import iterator_size \n",
    "from time import time\n",
    "def train_estimator_and_evaluate_testsets(pos_original,neg_original,pos_augmented,neg_augmented,pos_test,neg_test):\n",
    "    # create graph sets...orig augmented and sampled\n",
    "    pos_orig,pos_orig_ = itertools.tee(pos_original)\n",
    "    neg_orig,neg_orig_ = itertools.tee(neg_original)\n",
    "    \n",
    "    pos_augmented , pos_sampled = itertools.tee(pos_augmented)\n",
    "    neg_augmented , neg_sampled = itertools.tee(neg_augmented)\n",
    "    \n",
    "    pos_augmented = itertools.chain(pos_augmented,pos_orig_)\n",
    "    neg_augmented = itertools.chain(neg_augmented,neg_orig_)\n",
    "\n",
    "    predictive_performances=[]\n",
    "    for desc,pos_train,neg_train in [('original',pos_orig, neg_orig),( 'original+sample',pos_augmented, neg_augmented),('sample',pos_sampled,neg_sampled)]:\n",
    "        pos_train,pos_train_=itertools.tee(pos_train)\n",
    "        neg_train,neg_train_=itertools.tee(neg_train)\n",
    "        pos_size=sum(1 for x in pos_train_)\n",
    "        neg_size=sum(1 for x in neg_train_)\n",
    "        start=time()\n",
    "        print \"-\"*80\n",
    "        print 'working on %s'%(desc)\n",
    "        print 'training set sizes: #pos: %d #neg: %d'%(pos_size, neg_size)\n",
    "        pos_test,pos_test_=itertools.tee(pos_test)\n",
    "        neg_test,neg_test_=itertools.tee(neg_test)\n",
    "        local_estimator = fit( pos_train,neg_train,vectorizer,n_jobs=-1, n_iter_search=1 )\n",
    "        apr, roc = estimate(pos_test_,neg_test_,local_estimator,vectorizer)\n",
    "        predictive_performances.append(roc)\n",
    "        print 'elapsed: %.1f sec'%(time()-start)\n",
    "    return predictive_performances\n",
    "\n",
    "\n",
    "def sample(graphs):\n",
    "    sampler = GraphLearnSampler(radius_list=[0,1,2],thickness_list=[1,2])\n",
    "    graphs, graphs_ = itertools.tee(graphs)\n",
    "    sampler.fit(graphs, n_jobs=1, core_interface_pair_remove_threshold=3, interface_remove_threshold=3)\n",
    "    n_steps=10\n",
    "    sampling_factor=2 #how many samples per seed\n",
    "    \n",
    "    sampling_interval=np.ceil([n_steps/sampling_factor])\n",
    "    graphs = sampler.sample(graphs_,\n",
    "                        same_radius=False,\n",
    "                        same_core_size=True,\n",
    "                        select_cip_max_tries=200,\n",
    "                        batch_size=30,\n",
    "                        n_steps=n_steps,\n",
    "                        sampling_interval=sampling_interval,\n",
    "                        n_jobs=1,\n",
    "                        accept_annealing_factor=1.2,\n",
    "                        probabilistic_core_choice=True,\n",
    "                        generatormode=True)\n",
    "    for g in graphs:\n",
    "            yield g"
   ]
  },
  {
   "cell_type": "code",
   "execution_count": null,
   "metadata": {
    "collapsed": false,
    "scrolled": false
   },
   "outputs": [
    {
     "name": "stdout",
     "output_type": "stream",
     "text": [
      "CPU times: user 3 µs, sys: 1 µs, total: 4 µs\n",
      "Wall time: 8.11 µs\n",
      "================================================================================\n",
      "training percentage:0.1\n",
      "--------------------------------------------------------------------------------\n",
      "working on original\n",
      "training set sizes: #pos: 168 #neg: 135\n"
     ]
    }
   ],
   "source": [
    "%time\n",
    "from time import time\n",
    "from itertools import tee\n",
    "import os\n",
    "os.nice(19)\n",
    "# initializing \n",
    "graphs_pos= gspan_to_eden('bursi.pos.gspan')\n",
    "graphs_neg= gspan_to_eden('bursi.neg.gspan')\n",
    "#take 70% train 30% test\n",
    "pos_train_global,pos_test_global = random_bipartition_iter(graphs_pos,0.7)\n",
    "neg_train_global,neg_test_global = random_bipartition_iter(graphs_neg,0.7)\n",
    "\n",
    "\n",
    "\n",
    "percentages=[.1,.2,.3,.4]\n",
    "#percentages=[.1]\n",
    "r1=[]\n",
    "r2=[]\n",
    "r3=[]\n",
    "for percentage in percentages:\n",
    "    \n",
    "    \n",
    "    originals=[]\n",
    "    originals_samples=[]\n",
    "    samples=[]\n",
    "    for asd in range(5):\n",
    "        pos_train_global,pos_train_global_ = tee(pos_train_global)\n",
    "        neg_train_global,neg_train_global_ = tee(neg_train_global)\n",
    "        pos_test_global,pos_test_global_ = tee(pos_test_global)\n",
    "        neg_test_global,neg_test_global_ = tee(neg_test_global)\n",
    "\n",
    "        # use shuffled list to create test and sample set\n",
    "        pos,pos_reminder = random_bipartition_iter(pos_train_global_,percentage)\n",
    "        pos,pos_ = tee(pos)\n",
    "        neg,neg_reminder = random_bipartition_iter(neg_train_global_,percentage)\n",
    "        neg,neg_ = tee(neg)\n",
    "\n",
    "        #sample independently from the 2 classes\n",
    "        sampled_pos = sample(pos)\n",
    "        sampled_neg = sample(neg)\n",
    "\n",
    "        #evaluate the predictive performance on held out test set\n",
    "        start=time()\n",
    "        print \"=\"*80\n",
    "        print \"training percentage:\"+str(percentage)\n",
    "        perf_orig, perf_orig_samp, perf_samp = train_estimator_and_evaluate_testsets(pos_,\n",
    "                                                                                     neg_,\n",
    "                                                                                     sampled_pos, \n",
    "                                                                                     sampled_neg, \n",
    "                                                                                     pos_test_global_,\n",
    "                                                                                     neg_test_global_)\n",
    "        originals.append(perf_orig)\n",
    "        originals_samples.append(perf_orig_samp)\n",
    "        samples.append(perf_samp)\n",
    "    \n",
    "    r1.append(originals)\n",
    "    r2.append(originals_samples)\n",
    "    r3.append(samples)\n",
    "    \n",
    "    print 'Time elapsed for perc: %.2f : %.1f sec'%(percentage,(time()-start))\n"
   ]
  },
  {
   "cell_type": "code",
   "execution_count": 5,
   "metadata": {
    "collapsed": false
   },
   "outputs": [
    {
     "name": "stdout",
     "output_type": "stream",
     "text": [
      "[[0.82965038314176243, 0.82409961685823752, 0.8234770114942529, 0.82820402298850582, 0.8289152298850575], [0.86123084291187735, 0.86011733716475092, 0.86569204980842918, 0.8660895593869733, 0.86519636015325663], [0.87269636015325658, 0.87099137931034487, 0.86878352490421451, 0.86487068965517233, 0.87086206896551732], [0.87267241379310334, 0.87546695402298846, 0.87522749042145598, 0.87564894636015322, 0.87292863984674329]] [[0.81580220306513407, 0.82734434865900375, 0.81875718390804597, 0.82790469348659002, 0.81231561302681998], [0.86107040229885046, 0.86306752873563219, 0.86688457854406131, 0.86361590038314184, 0.86389367816091944], [0.87529932950191569, 0.87127155172413795, 0.87011254789272041, 0.86885536398467433, 0.86808189655172419], [0.87287835249042145, 0.87114224137931029, 0.87301005747126437, 0.8686590038314177, 0.87713122605363991]] [[0.61053400383141754, 0.5977203065134099, 0.5800909961685824, 0.60808069923371644, 0.57457614942528734], [0.62790589080459769, 0.56114583333333334, 0.63124760536398461, 0.57495689655172422, 0.59282806513409958], [0.60203903256704971, 0.60065373563218394, 0.596352969348659, 0.61178041187739463, 0.57438338122605359], [0.61038314176245212, 0.59901340996168584, 0.6026975574712643, 0.57764846743295017, 0.57663433908045969]]\n"
     ]
    },
    {
     "data": {
      "image/png": "[encoded data removed]",
      "text/plain": [
       "<matplotlib.figure.Figure at 0x7fe0ee9ae910>"
      ]
     },
     "metadata": {},
     "output_type": "display_data"
    }
   ],
   "source": [
    "# draw \n",
    "\n",
    "# all the info is there to draw THAT\n",
    "print r1,r2,r3\n",
    "\n",
    "import matplotlib.pyplot as plt\n",
    "\n",
    "plt.figure(figsize=(12,5))\n",
    "plt.grid()\n",
    "plt.plot(originals_samples, color='r', marker='o', markersize=6, markeredgecolor='r', markerfacecolor='w', label='original+sample')\n",
    "plt.plot(originals, color='b', marker='o', markersize=6, markeredgecolor='b', markerfacecolor='w', label='original')\n",
    "plt.plot(samples, color='g', marker='o', markersize=6, markeredgecolor='g', markerfacecolor='w', label='sample')\n",
    "plt.legend(loc='lower right')\n",
    "plt.savefig('plot_predictive_performance_of_samples.pdf')"
   ]
  },
  {
   "cell_type": "code",
   "execution_count": 6,
   "metadata": {
    "collapsed": false
   },
   "outputs": [
    {
     "data": {
      "image/png": "[encoded data removed]",
      "text/plain": [
       "<matplotlib.figure.Figure at 0x4470990>"
      ]
     },
     "metadata": {},
     "output_type": "display_data"
    }
   ],
   "source": [
    "from graphlearn.utils.draw import draw_learning_curve\n",
    "draw_learning_curve(data_A=r1,data_B=r2,x=percentages,measure='decisive_quality')"
   ]
  },
  {
   "cell_type": "code",
   "execution_count": 9,
   "metadata": {
    "collapsed": true
   },
   "outputs": [],
   "source": [
    "# looks weired oOo"
   ]
  },
  {
   "cell_type": "code",
   "execution_count": null,
   "metadata": {
    "collapsed": true
   },
   "outputs": [],
   "source": []
  }
 ],
 "metadata": {
  "kernelspec": {
   "display_name": "Python 2",
   "language": "python",
   "name": "python2"
  },
  "language_info": {
   "codemirror_mode": {
    "name": "ipython",
    "version": 2
   },
   "file_extension": ".py",
   "mimetype": "text/x-python",
   "name": "python",
   "nbconvert_exporter": "python",
   "pygments_lexer": "ipython2",
   "version": "2.7.5"
  }
 },
 "nbformat": 4,
 "nbformat_minor": 0
}
