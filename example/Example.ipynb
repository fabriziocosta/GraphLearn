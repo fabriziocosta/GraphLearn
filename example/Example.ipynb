{
 "cells": [
  {
   "cell_type": "code",
   "execution_count": null,
   "metadata": {
    "collapsed": false
   },
   "outputs": [],
   "source": [
    "#here we test all the components."
   ]
  },
  {
   "cell_type": "code",
   "execution_count": null,
   "metadata": {
    "collapsed": false
   },
   "outputs": [],
   "source": [
    "\n",
    "'''\n",
    "first we test the core/interface extractor, since it is most essential\n",
    "'''\n",
    "import sys\n",
    "sys.path.append('..')\n",
    "%matplotlib inline\n",
    "from eden.converter.graph.gspan import gspan_to_eden\n",
    "import graphlearn.utils.draw as myutils\n",
    "import graphlearn.utils.myeden as myed\n",
    "import eden.graph as eg\n",
    "import graphlearn.graphlearn as gl\n",
    "\n",
    "\n",
    "#get a graph\n",
    "gr = gspan_to_eden( 'bursi.pos.gspan' )\n",
    "g=gr.next()\n",
    "\n",
    "\n",
    "#lets see..\n",
    "a=gl.extract_core_and_interface(1,g,radius_list=[2,3,4],thickness_list=[2],vectorizer=myed.GraphLearnVectorizer())\n",
    "ng=myutils.cip_to_graph(a) \n",
    "myutils.draw_many_graphs(ng)\n",
    "\n"
   ]
  },
  {
   "cell_type": "code",
   "execution_count": null,
   "metadata": {
    "collapsed": false
   },
   "outputs": [],
   "source": [
    "'''\n",
    "demonstrating more extract core\n",
    "'''\n",
    "%matplotlib inline\n",
    "import sys\n",
    "sys.path.append('..')\n",
    "from eden.converter.graph.gspan import gspan_to_eden\n",
    "import graphlearn.utils.draw as myutils\n",
    "import graphlearn.utils.myeden as myed\n",
    "import eden.graph as eg\n",
    "import graphlearn.graphlearn as gl\n",
    "\n",
    "\n",
    "#get 5 grtaphs...\n",
    "gr = gspan_to_eden( 'bursi.pos.gspan' )\n",
    "for x in range (5):\n",
    "    g=gr.next()\n",
    "    # for each, pick 5 cores and extract cips \n",
    "    nice_graphs=[]\n",
    "    for n in range(5):\n",
    "        node=n\n",
    "        a=gl.extract_core_and_interface(node,g,radius_list=[3],thickness_list=[1],vectorizer=myed.GraphLearnVectorizer())\n",
    "        # draw cip on the original graph and save in nice_graphs\n",
    "        nice_graphs+=myutils.cip_to_graph(a, graphs=[g,g]) \n",
    "        \n",
    "    # draw nice_graphs\n",
    "    myutils.draw_many_graphs(nice_graphs)"
   ]
  },
  {
   "cell_type": "code",
   "execution_count": null,
   "metadata": {
    "collapsed": false,
    "scrolled": false
   },
   "outputs": [],
   "source": [
    "%%time\n",
    "'''\n",
    "second is reading a grammar and training an estimator\n",
    "'''\n",
    "import sys\n",
    "sys.path.append('..')\n",
    "import os \n",
    "os.nice(20)\n",
    "%matplotlib inline\n",
    "import graphlearn.utils.draw as myutils\n",
    "import graphlearn.graphlearn as gl\n",
    "from eden.converter.graph.gspan import gspan_to_eden\n",
    "import itertools\n",
    "gr = gspan_to_eden( 'bursi.pos.gspan' )\n",
    "\n",
    "\n",
    "# we just learn a grammar from 50 graphs..  \n",
    "gr = itertools.islice(gr,50)\n",
    "sampler=gl.GraphLearnSampler()\n",
    "#sampler=sampler.load('tmp/demo.ge')\n",
    "sampler.fit(gr,n_jobs=-1)\n",
    "\n",
    "# we look at the estimator and  draw 5 interfaces with their associated cores\n",
    "#print sampler.estimator\n",
    "#sampler.save('tmp/demo2.ge')\n",
    "myutils.draw_grammar(sampler.local_substitutable_graph_grammar.grammar,5)\n",
    "\n",
    "\n",
    "\n",
    "# here we look at some stats.\n",
    "myutils.draw_grammar_stats(sampler.local_substitutable_graph_grammar.grammar)"
   ]
  },
  {
   "cell_type": "code",
   "execution_count": null,
   "metadata": {
    "collapsed": false
   },
   "outputs": [],
   "source": []
  },
  {
   "cell_type": "code",
   "execution_count": null,
   "metadata": {
    "collapsed": false,
    "scrolled": false
   },
   "outputs": [],
   "source": [
    "%%time\n",
    "'''\n",
    "now lets see if we can improve graphs\n",
    "'''\n",
    "import sys\n",
    "sys.path.append('..')\n",
    "import os\n",
    "os.nice(19)\n",
    "%matplotlib inline\n",
    "import graphlearn.utils.draw as myutils\n",
    "import graphlearn.graphlearn as gl\n",
    "from eden.converter.graph.gspan import gspan_to_eden\n",
    "import itertools\n",
    "import matplotlib.pyplot as plt\n",
    "\n",
    "\n",
    "steps=100\n",
    "\n",
    "sampler=gl.GraphLearnSampler()\n",
    "sampler.load('tmp/demo.ge')\n",
    "print \"loading done\"\n",
    "graphs = gspan_to_eden( 'bursi.pos.gspan' )\n",
    "graphs = itertools.islice(graphs,9)\n",
    "graphs = sampler.sample(graphs,\n",
    "                        same_radius=False,\n",
    "                        same_core_size=False,\n",
    "                        sampling_interval=int(steps/3)+1,\n",
    "                        batch_size=1,\n",
    "                        n_steps=steps,\n",
    "                        n_jobs=1,\n",
    "                        annealing_factor=0.9)\n",
    "\n",
    "history=[]\n",
    "\n",
    "for  i, (result,info) in enumerate(graphs):\n",
    "    history.append(info['score_history'])\n",
    "    myutils.draw_many_graphs(info['graphs'])\n",
    "    \n",
    "    \n",
    "t = range(steps+1) \n",
    "for h in history[:3]:\n",
    "    plt.plot(t, h)\n",
    "plt.show()\n",
    "t = range(steps+1) \n",
    "for h in history[3:6]:\n",
    "    plt.plot(t, h)\n",
    "plt.show()\n",
    "t = range(steps+1) \n",
    "for h in history[6:]:\n",
    "    plt.plot(t, h)\n",
    "plt.show()\n",
    "\n",
    "\n"
   ]
  },
  {
   "cell_type": "code",
   "execution_count": null,
   "metadata": {
    "collapsed": false,
    "scrolled": false
   },
   "outputs": [],
   "source": [
    "%%time\n",
    "'''\n",
    "GOOD STUFF  lets test the clusterator\n",
    "'''\n",
    "import sys\n",
    "sys.path.append('..')\n",
    "import os\n",
    "os.nice(19)\n",
    "%matplotlib inline\n",
    "\n",
    "import graphlearn.utils.draw as myutils\n",
    "import graphlearn.cluster as cl\n",
    "from eden.converter.graph.gspan import gspan_to_eden\n",
    "import itertools\n",
    "import matplotlib.pyplot as plt\n",
    "\n",
    "\n",
    "steps=100\n",
    "\n",
    "sampler=cl.cluster()\n",
    "\n",
    "cluster.fit(gspan_to_eden( 'bursi.pos.gspan' ))\n",
    "cluster.save('tmp/cluster.ge')\n",
    "\n",
    "#sampler.load('tmp/cluster.ge')\n",
    "\n",
    "\n",
    "\n",
    "graphs = gspan_to_eden( 'bursi.pos.gspan' )\n",
    "graphs = itertools.islice(graphs,9)\n",
    "graphs = sampler.sample(graphs,\n",
    "                        sampling_interval=int(steps/3)+1,\n",
    "                        batch_size=1,\n",
    "                        n_steps=steps,\n",
    "                        n_jobs=1,\n",
    "                        )\n",
    "\n",
    "history=[]\n",
    "for  i, (result,info) in enumerate(graphs):\n",
    "    history.append(info['score_history'])\n",
    "    myutils.draw_many_graphs(info['graphs'])\n",
    "\n",
    "t = range(steps+1) \n",
    "for h in history[:3]:\n",
    "    plt.plot(t, h)\n",
    "plt.show()\n",
    "t = range(steps+1) \n",
    "for h in history[3:6]:\n",
    "    plt.plot(t, h)\n",
    "plt.show()\n",
    "t = range(steps+1) \n",
    "for h in history[6:]:\n",
    "    plt.plot(t, h)\n",
    "plt.show()\n"
   ]
  },
  {
   "cell_type": "code",
   "execution_count": 1,
   "metadata": {
    "collapsed": false,
    "scrolled": false
   },
   "outputs": [
    {
     "name": "stderr",
     "output_type": "stream",
     "text": [
      "select_cip_for_substitution failed because no suiting interface was found, extract failed 20 times \n",
      "INFO:log:select_cip_for_substitution failed because no suiting interface was found, extract failed 20 times \n"
     ]
    },
    {
     "name": "stdout",
     "output_type": "stream",
     "text": [
      "[matrix([[ 0.24947209]]), matrix([[ 0.24000473]]), matrix([[ 0.23665173]]), matrix([[ 0.23665173]]), matrix([[ 0.23035206]]), matrix([[ 0.23416178]]), matrix([[ 0.23416178]]), matrix([[ 0.24850923]]), matrix([[ 0.25660977]]), matrix([[ 0.25660977]]), matrix([[ 0.27089674]]), matrix([[ 0.26526284]]), matrix([[ 0.26237907]]), matrix([[ 0.22190735]]), matrix([[ 0.22190735]]), matrix([[ 0.21807447]]), matrix([[ 0.22064249]]), matrix([[ 0.24896996]]), matrix([[ 0.25658013]]), matrix([[ 0.25335308]]), matrix([[ 0.23860362]]), matrix([[ 0.24543454]]), matrix([[ 0.24543454]]), matrix([[ 0.24543454]]), matrix([[ 0.24543454]]), matrix([[ 0.24386458]]), matrix([[ 0.23646057]]), matrix([[ 0.26615102]]), matrix([[ 0.26615102]]), matrix([[ 0.30022004]]), matrix([[ 0.31393095]]), matrix([[ 0.31591964]]), matrix([[ 0.31591964]]), matrix([[ 0.31591964]]), matrix([[ 0.31639622]]), matrix([[ 0.31208075]]), matrix([[ 0.32540667]]), matrix([[ 0.28905152]]), matrix([[ 0.28905152]]), matrix([[ 0.28905152]]), matrix([[ 0.38888826]]), matrix([[ 0.38888826]]), matrix([[ 0.42400898]]), matrix([[ 0.42400898]]), matrix([[ 0.41071216]]), matrix([[ 0.30563354]]), matrix([[ 0.30563354]]), matrix([[ 0.30563354]]), matrix([[ 0.30563354]]), matrix([[ 0.2869693]]), matrix([[ 0.2869693]]), matrix([[ 0.2869693]]), matrix([[ 0.30460564]]), matrix([[ 0.30460564]]), matrix([[ 0.29418494]]), matrix([[ 0.32403083]]), matrix([[ 0.32403083]]), matrix([[ 0.3262354]]), matrix([[ 0.3262354]]), matrix([[ 0.3262354]]), matrix([[ 0.33153388]]), matrix([[ 0.33153388]]), matrix([[ 0.45501655]]), matrix([[ 0.45501655]]), matrix([[ 0.45501655]]), matrix([[ 0.45501655]]), matrix([[ 0.3665801]]), matrix([[ 0.3665801]]), matrix([[ 0.43268724]]), matrix([[ 0.43268724]]), matrix([[ 0.43268724]]), matrix([[ 0.43268724]]), matrix([[ 0.43268724]]), matrix([[ 0.43268724]]), matrix([[ 0.43268724]]), matrix([[ 0.43268724]]), matrix([[ 0.43268724]]), matrix([[ 0.43268724]]), matrix([[ 0.43268724]]), matrix([[ 0.43268724]]), matrix([[ 0.43268724]]), matrix([[ 0.43268724]]), matrix([[ 0.43408357]]), matrix([[ 0.42672347]]), matrix([[ 0.42672347]]), matrix([[ 0.42672347]]), matrix([[ 0.42672347]]), matrix([[ 0.42672347]]), matrix([[ 0.42672347]]), matrix([[ 0.42672347]]), matrix([[ 0.42672347]]), matrix([[ 0.42672347]]), matrix([[ 0.42672347]]), matrix([[ 0.42672347]]), matrix([[ 0.42672347]]), matrix([[ 0.42672347]]), matrix([[ 0.42672347]]), matrix([[ 0.42672347]]), matrix([[ 0.42672347]]), matrix([[ 0.46998722]]), matrix([[ 0.46998722]])]\n",
      "CPU times: user 45.2 s, sys: 1.21 s, total: 46.4 s\n",
      "Wall time: 59.6 s\n"
     ]
    }
   ],
   "source": [
    "%%time\n",
    "'''\n",
    "GOOD STUFF  lets test the clusterator\n",
    "'''\n",
    "import sys\n",
    "sys.path.append('..')\n",
    "import os\n",
    "os.nice(19)\n",
    "%matplotlib inline\n",
    "\n",
    "import graphlearn.utils.draw as myutils\n",
    "import graphlearn.cluster as cl\n",
    "from eden.converter.graph.gspan import gspan_to_eden\n",
    "import itertools\n",
    "import matplotlib.pyplot as plt\n",
    "\n",
    "\n",
    "steps=100\n",
    "\n",
    "sampler=cl.cluster()\n",
    "\n",
    "#sampler.fit(gspan_to_eden( 'bursi.pos.gspan' ))\n",
    "#sampler.save('tmp/cluster.ge')\n",
    "\n",
    "sampler.load('tmp/cluster.ge')\n",
    "\n",
    "graphs = gspan_to_eden( 'bursi.pos.gspan' )\n",
    "graphs = itertools.islice(graphs,9)\n",
    "graphs = sampler.sample(graphs,\n",
    "                        sampling_interval=int(steps/3)+1,\n",
    "                        batch_size=1,\n",
    "                        n_steps=steps,\n",
    "                        n_jobs=1,\n",
    "                        )\n",
    "\n",
    "history=[]\n",
    "for  i, (result,info) in enumerate(graphs):\n",
    "    history.append(info['score_history'])\n",
    "    #myutils.draw_many_graphs(info['graphs'])\n",
    "\n",
    "\n",
    "print history[0]\n",
    "'''\n",
    "t = range(steps+1) \n",
    "for h in history[:3]:\n",
    "    plt.plot(t, h)\n",
    "plt.show()\n",
    "t = range(steps+1) \n",
    "for h in history[3:6]:\n",
    "    plt.plot(t, h)\n",
    "plt.show()\n",
    "t = range(steps+1) \n",
    "for h in history[6:]:\n",
    "    plt.plot(t, h)\n",
    "plt.show()\n",
    "'''"
   ]
  },
  {
   "cell_type": "code",
   "execution_count": 17,
   "metadata": {
    "collapsed": false
   },
   "outputs": [
    {
     "name": "stdout",
     "output_type": "stream",
     "text": [
      "['A', 'A1', 'H', 'I', 'T', '__abs__', '__add__', '__and__', '__array__', '__array_finalize__', '__array_interface__', '__array_prepare__', '__array_priority__', '__array_struct__', '__array_wrap__', '__class__', '__contains__', '__copy__', '__deepcopy__', '__delattr__', '__delitem__', '__delslice__', '__dict__', '__div__', '__divmod__', '__doc__', '__eq__', '__float__', '__floordiv__', '__format__', '__ge__', '__getattribute__', '__getitem__', '__getslice__', '__gt__', '__hash__', '__hex__', '__iadd__', '__iand__', '__idiv__', '__ifloordiv__', '__ilshift__', '__imod__', '__imul__', '__index__', '__init__', '__int__', '__invert__', '__ior__', '__ipow__', '__irshift__', '__isub__', '__iter__', '__itruediv__', '__ixor__', '__le__', '__len__', '__long__', '__lshift__', '__lt__', '__mod__', '__module__', '__mul__', '__ne__', '__neg__', '__new__', '__nonzero__', '__oct__', '__or__', '__pos__', '__pow__', '__radd__', '__rand__', '__rdiv__', '__rdivmod__', '__reduce__', '__reduce_ex__', '__repr__', '__rfloordiv__', '__rlshift__', '__rmod__', '__rmul__', '__ror__', '__rpow__', '__rrshift__', '__rshift__', '__rsub__', '__rtruediv__', '__rxor__', '__setattr__', '__setitem__', '__setslice__', '__setstate__', '__sizeof__', '__str__', '__sub__', '__subclasshook__', '__truediv__', '__xor__', '_align', '_collapse', '_getitem', 'all', 'any', 'argmax', 'argmin', 'argpartition', 'argsort', 'astype', 'base', 'byteswap', 'choose', 'clip', 'compress', 'conj', 'conjugate', 'copy', 'ctypes', 'cumprod', 'cumsum', 'data', 'diagonal', 'dot', 'dtype', 'dump', 'dumps', 'fill', 'flags', 'flat', 'flatten', 'getA', 'getA1', 'getH', 'getI', 'getT', 'getfield', 'imag', 'item', 'itemset', 'itemsize', 'max', 'mean', 'min', 'nbytes', 'ndim', 'newbyteorder', 'nonzero', 'partition', 'prod', 'ptp', 'put', 'ravel', 'real', 'repeat', 'reshape', 'resize', 'round', 'searchsorted', 'setfield', 'setflags', 'shape', 'size', 'sort', 'squeeze', 'std', 'strides', 'sum', 'swapaxes', 'take', 'tobytes', 'tofile', 'tolist', 'tostring', 'trace', 'transpose', 'var', 'view']\n"
     ]
    },
    {
     "data": {
      "text/plain": [
       "0.24947208554612943"
      ]
     },
     "execution_count": 17,
     "metadata": {},
     "output_type": "execute_result"
    }
   ],
   "source": [
    "print dir(history[0][0])\n",
    "history[0][0].sum()"
   ]
  },
  {
   "cell_type": "markdown",
   "metadata": {
    "collapsed": false
   },
   "source": [
    "# HERE BE DRAGONS\n"
   ]
  },
  {
   "cell_type": "code",
   "execution_count": 3,
   "metadata": {
    "collapsed": false
   },
   "outputs": [
    {
     "data": {
      "text/plain": [
       "0"
      ]
     },
     "execution_count": 3,
     "metadata": {},
     "output_type": "execute_result"
    }
   ],
   "source": [
    "'''\n",
    "inform me when done !\n",
    "'''\n",
    "import os\n",
    "os.system(\"( speaker-test -t sine -f 2000 )& pid=$! ; sleep 1.0s ; kill -9 $pid\")"
   ]
  },
  {
   "cell_type": "code",
   "execution_count": null,
   "metadata": {
    "collapsed": false
   },
   "outputs": [],
   "source": [
    "'''\n",
    "HERE WE SEE WHY I USE SHUFFLE INSTEAD OF RANDOMCHOICE::: in the select_cips_from_grammar function...\n",
    "-> pick at random as long as list of used indeces not as long as list?\n",
    "-> leave it at the shuffeling?\n",
    "'''\n",
    "import random\n",
    "%%time\n",
    "x= range(1000000,0,-1)\n",
    "for e in xrange(100):\n",
    "    i=x.index(random.choice(x)) \n",
    "    x.remove(i)\n"
   ]
  },
  {
   "cell_type": "code",
   "execution_count": null,
   "metadata": {
    "collapsed": false
   },
   "outputs": [],
   "source": [
    "%%time\n",
    "x= range(1000000,0,-1)\n",
    "random.shuffle(x)\n",
    "for e in xrange(100):\n",
    "    i=x.pop() \n"
   ]
  },
  {
   "cell_type": "code",
   "execution_count": null,
   "metadata": {
    "collapsed": false
   },
   "outputs": [],
   "source": [
    "from matplotlib import pyplot\n",
    "\n",
    "a = [    pow(10,i) for i in range(10)    ]\n",
    "\n",
    "pyplot.subplot(2,1,1)\n",
    "pyplot.plot(a, color='blue', lw=2)\n",
    "pyplot.yscale('log')\n",
    "pyplot.show()"
   ]
  },
  {
   "cell_type": "code",
   "execution_count": null,
   "metadata": {
    "collapsed": false
   },
   "outputs": [],
   "source": [
    "4 / 5"
   ]
  },
  {
   "cell_type": "code",
   "execution_count": null,
   "metadata": {
    "collapsed": false
   },
   "outputs": [],
   "source": [
    "import itertools\n",
    "\n",
    "\n",
    "def grouper(iterable, n, fillvalue=None):\n",
    "    args = [iter(iterable)] * n\n",
    "    return itertools.izip_longest(fillvalue=fillvalue, *args)\n",
    "\n",
    "s=[(1,2,3),(1,2,3),(1,2,3),(1,2,3),(1,2,3),(1,2,3),(1,2,3),(1,2,3)]\n",
    "[batch for batch in grouper(s,3)]\n",
    "\n",
    "\n"
   ]
  },
  {
   "cell_type": "code",
   "execution_count": null,
   "metadata": {
    "collapsed": true
   },
   "outputs": [],
   "source": [
    "import dill\n",
    "#z = dill.dumps(sampler.local_substitutable_graph_grammar)\n",
    "for k,v in sampler.__dict__.iteritems():\n",
    "    print k\n",
    "    print len(dill.dumps(v))"
   ]
  }
 ],
 "metadata": {
  "kernelspec": {
   "display_name": "Python 2",
   "language": "python",
   "name": "python2"
  },
  "language_info": {
   "codemirror_mode": {
    "name": "ipython",
    "version": 2
   },
   "file_extension": ".py",
   "mimetype": "text/x-python",
   "name": "python",
   "nbconvert_exporter": "python",
   "pygments_lexer": "ipython2",
   "version": "2.7.6"
  }
 },
 "nbformat": 4,
 "nbformat_minor": 0
}
