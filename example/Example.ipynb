{
 "cells": [
  {
   "cell_type": "code",
   "execution_count": null,
   "metadata": {
    "collapsed": false
   },
   "outputs": [],
   "source": [
    "#here we test all the components."
   ]
  },
  {
   "cell_type": "code",
   "execution_count": null,
   "metadata": {
    "collapsed": false
   },
   "outputs": [],
   "source": [
    "\n",
    "'''\n",
    "first we test the core/interface extractor, since it is most essential\n",
    "'''\n",
    "import sys\n",
    "sys.path.append('..')\n",
    "%matplotlib inline\n",
    "from eden.converter.graph.gspan import gspan_to_eden\n",
    "import graphlearn.utils.draw as myutils\n",
    "import graphlearn.utils.myeden as myed\n",
    "import eden.graph as eg\n",
    "import graphlearn.graphlearn as gl\n",
    "\n",
    "\n",
    "#get a graph\n",
    "gr = gspan_to_eden( 'bursi.pos.gspan' )\n",
    "g=gr.next()\n",
    "\n",
    "\n",
    "#lets see..\n",
    "a=gl.extract_core_and_interface(1,g,radius_list=[0,1,2,3,4],thickness_list=[1,2],vectorizer=myed.GraphLearnVectorizer())\n",
    "ng=myutils.cip_to_graph(a) \n",
    "myutils.draw_many_graphs(ng)\n",
    "\n"
   ]
  },
  {
   "cell_type": "code",
   "execution_count": null,
   "metadata": {
    "collapsed": false,
    "scrolled": false
   },
   "outputs": [],
   "source": [
    "'''\n",
    "demonstrating more extract core\n",
    "'''\n",
    "%matplotlib inline\n",
    "import sys\n",
    "sys.path.append('..')\n",
    "from eden.converter.graph.gspan import gspan_to_eden\n",
    "import graphlearn.utils.draw as myutils\n",
    "import graphlearn.utils.myeden as myed\n",
    "import eden.graph as eg\n",
    "import graphlearn.graphlearn as gl\n",
    "\n",
    "\n",
    "#get 5 grtaphs...\n",
    "gr = gspan_to_eden( 'bursi.pos.gspan' )\n",
    "for x in range (2):\n",
    "    g=gr.next()\n",
    "    # for each, pick 5 cores and extract cips \n",
    "    nice_graphs=[]\n",
    "    for n in range(2):\n",
    "        node=n\n",
    "        a=gl.extract_core_and_interface(node,g,radius_list=[0,1],thickness_list=[2,4],vectorizer=myed.GraphLearnVectorizer())\n",
    "        # draw cip on the original graph and save in nice_graphs\n",
    "        nice_graphs+=myutils.cip_to_graph(a, graphs=[g,g]) \n",
    "        \n",
    "    # draw nice_graphs\n",
    "    myutils.draw_many_graphs(nice_graphs)"
   ]
  },
  {
   "cell_type": "code",
   "execution_count": null,
   "metadata": {
    "collapsed": false,
    "scrolled": false
   },
   "outputs": [],
   "source": [
    "%%time\n",
    "'''\n",
    "second is reading a grammar and training an estimator\n",
    "'''\n",
    "import sys\n",
    "sys.path.append('..')\n",
    "import os \n",
    "os.nice(20)\n",
    "%matplotlib inline\n",
    "import graphlearn.utils.draw as myutils\n",
    "import graphlearn.graphlearn as gl\n",
    "from eden.converter.graph.gspan import gspan_to_eden\n",
    "import itertools\n",
    "gr = gspan_to_eden( 'bursi.pos.gspan' )\n",
    "\n",
    "\n",
    "# we just learn a grammar from 50 graphs..  \n",
    "gr = itertools.islice(gr,2000)\n",
    "sampler=gl.GraphLearnSampler(radius_list=[0, 2, 4],thickness_list=[2, 4])\n",
    "#sampler=sampler.load('tmp/demo.ge')\n",
    "sampler.fit(gr,n_jobs=-1)\n",
    "\n",
    "# we look at the estimator and  draw 5 interfaces with their associated cores\n",
    "#print sampler.estimator\n",
    "sampler.save('tmp/demo.ge')\n",
    "myutils.draw_grammar(sampler.local_substitutable_graph_grammar.grammar,5)\n",
    "\n",
    "\n",
    "\n",
    "# here we look at some stats.\n",
    "myutils.draw_grammar_stats(sampler.local_substitutable_graph_grammar.grammar)"
   ]
  },
  {
   "cell_type": "code",
   "execution_count": null,
   "metadata": {
    "collapsed": false,
    "scrolled": false
   },
   "outputs": [],
   "source": [
    "%%time\n",
    "'''\n",
    "now lets see if we can improve graphs\n",
    "'''\n",
    "import sys\n",
    "sys.path.append('..')\n",
    "import os\n",
    "os.nice(19)\n",
    "%matplotlib inline\n",
    "import graphlearn.utils.draw as myutils\n",
    "import graphlearn.graphlearn as gl\n",
    "from eden.converter.graph.gspan import gspan_to_eden\n",
    "import itertools\n",
    "import matplotlib.pyplot as plt\n",
    "\n",
    "\n",
    "steps=500\n",
    "\n",
    "sampler=gl.GraphLearnSampler()\n",
    "sampler.load('tmp/demo.ge')\n",
    "print \"loading done\"\n",
    "graphs = gspan_to_eden( 'bursi.pos.gspan' )\n",
    "graphs = itertools.islice(graphs,30,40)\n",
    "graphs = sampler.sample(graphs,\n",
    "                        same_radius=False,\n",
    "                        same_core_size=True,\n",
    "                        sampling_interval=int(steps/3)+1,\n",
    "                        batch_size=1,\n",
    "                        n_steps=steps,\n",
    "                        n_jobs=-1,\n",
    "                        annealing_factor=1.5)\n",
    "\n",
    "history=[]\n",
    "\n",
    "for  i, (result,info) in enumerate(graphs):\n",
    "    history.append(info['score_history'])\n",
    "    myutils.draw_many_graphs(info['graphs'])\n",
    "    \n",
    "    \n",
    "t = range(steps+1) \n",
    "for h in history[:3]:\n",
    "    plt.plot(t, h)\n",
    "plt.show()\n",
    "t = range(steps+1) \n",
    "for h in history[3:6]:\n",
    "    plt.plot(t, h)\n",
    "plt.show()\n",
    "t = range(steps+1) \n",
    "for h in history[6:]:\n",
    "    plt.plot(t, h)\n",
    "plt.show()"
   ]
  },
  {
   "cell_type": "code",
   "execution_count": null,
   "metadata": {
    "collapsed": false,
    "scrolled": false
   },
   "outputs": [],
   "source": [
    "%%time\n",
    "'''\n",
    "GOOD STUFF  lets test the clusterator\n",
    "'''\n",
    "import sys\n",
    "sys.path.append('..')\n",
    "import os\n",
    "os.nice(19)\n",
    "%matplotlib inline\n",
    "\n",
    "import graphlearn.utils.draw as myutils\n",
    "import graphlearn.cluster as cl\n",
    "from eden.converter.graph.gspan import gspan_to_eden\n",
    "import itertools\n",
    "import matplotlib.pyplot as plt\n",
    "\n",
    "\n",
    "\n",
    "\n",
    "steps=500\n",
    "\n",
    "sampler=cl.cluster()\n",
    "\n",
    "#sampler.fit(gspan_to_eden( 'bursi.pos.gspan' ),  n_jobs=1)\n",
    "#sampler.save('tmp/cluster.ge')\n",
    "#print 'saved'\n",
    "sampler.load('tmp/cluster.ge')\n",
    "\n",
    "\n",
    "\n",
    "graphs = gspan_to_eden( 'bursi.pos.gspan' )\n",
    "#graphs = itertools.islice(graphs,9)\n",
    "graphs = sampler.sample(graphs,\n",
    "                        sampling_interval=int(steps/3)+1,\n",
    "                        batch_size=1,\n",
    "                        n_steps=steps,\n",
    "                        n_jobs=1,\n",
    "                        select_cip_max_tries = 100,\n",
    "                        annealing_factor=2.0,\n",
    "                        doXgraphs= 9\n",
    "                        )\n",
    "\n",
    "\n",
    "history=[]\n",
    "for  i, (result,info) in enumerate(graphs):\n",
    "    history.append(info['score_history'])\n",
    "    print info['notes']\n",
    "    myutils.draw_many_graphs(info['graphs'])\n",
    "\n",
    "\n",
    "\n",
    "t = range(steps+1) \n",
    "for h in history[:3]:\n",
    "    plt.plot(t, h)\n",
    "plt.show()\n",
    "t = range(steps+1) \n",
    "for h in history[3:6]:\n",
    "    plt.plot(t, h)\n",
    "plt.show()\n",
    "t = range(steps+1) \n",
    "for h in history[6:]:\n",
    "    plt.plot(t, h)\n",
    "plt.show()\n",
    "\n"
   ]
  },
  {
   "cell_type": "code",
   "execution_count": null,
   "metadata": {
    "collapsed": false
   },
   "outputs": [],
   "source": [
    "\n"
   ]
  },
  {
   "cell_type": "code",
   "execution_count": null,
   "metadata": {
    "collapsed": false
   },
   "outputs": [],
   "source": [
    "print dir(history[0][0])\n",
    "history.sum()"
   ]
  },
  {
   "cell_type": "markdown",
   "metadata": {
    "collapsed": false
   },
   "source": [
    "# HERE BE NO DRAGONS\n"
   ]
  },
  {
   "cell_type": "code",
   "execution_count": null,
   "metadata": {
    "collapsed": false
   },
   "outputs": [],
   "source": [
    "'''\n",
    "inform me when done !\n",
    "'''\n",
    "import os\n",
    "os.system(\"( speaker-test -t sine -f 2000 )& pid=$! ; sleep 5.0s ; kill -9 $pid\")"
   ]
  },
  {
   "cell_type": "code",
   "execution_count": null,
   "metadata": {
    "collapsed": false,
    "scrolled": true
   },
   "outputs": [],
   "source": [
    "'''TESTING HASH THINGS THERE ARE COLLISIONS'''\n",
    "import networkx as nx\n",
    "import sys\n",
    "sys.path.append('..')\n",
    "import os\n",
    "os.nice(19)\n",
    "%matplotlib inline\n",
    "\n",
    "import graphlearn.utils.draw as dr\n",
    "\n",
    "import graphlearn.utils.myeden as myed\n",
    "import graphlearn.graphtools as gt\n",
    "\n",
    "vectorizer=myed.GraphLearnVectorizer()\n",
    "\n",
    "\n",
    "def get_graph(nodelabels):\n",
    "    g= nx.Graph()\n",
    "    for e in nodelabels:\n",
    "        nodes=len(g)\n",
    "        #add nodes\n",
    "        g.add_nodes_from(range(nodes,nodes+len(e)))\n",
    "        #add edges\n",
    "        for edid in range(nodes,nodes+len(e)-1):\n",
    "            g.add_edge(edid,edid+1)\n",
    "        #add labels\n",
    "        for i,name in enumerate(e):\n",
    "            g.node[nodes+i]['label']=name\n",
    "            \n",
    "    vectorizer._label_preprocessing(g)\n",
    "    return g\n",
    "        \n",
    "        \n",
    "g= get_graph (['C1N1','1C1C'])\n",
    "f= get_graph (['1C2','C2','C2','O'])\n",
    "dr.display(g,vertex_label='hlabel')\n",
    "dr.display(f,vertex_label='hlabel')\n",
    "\n",
    "print gt.calc_interface_hash(g, 2**20-1)\n",
    "print gt.calc_interface_hash(f, 2**20-1)\n",
    "        \n",
    "        \n",
    "\n",
    "\n",
    "\n",
    "\n",
    "\n"
   ]
  }
 ],
 "metadata": {
  "kernelspec": {
   "display_name": "Python 2",
   "language": "python",
   "name": "python2"
  },
  "language_info": {
   "codemirror_mode": {
    "name": "ipython",
    "version": 2
   },
   "file_extension": ".py",
   "mimetype": "text/x-python",
   "name": "python",
   "nbconvert_exporter": "python",
   "pygments_lexer": "ipython2",
   "version": "2.7.6"
  }
 },
 "nbformat": 4,
 "nbformat_minor": 0
}
