{
 "cells": [
  {
   "cell_type": "code",
   "execution_count": null,
   "metadata": {
    "collapsed": false
   },
   "outputs": [],
   "source": [
    "#here we test all the components."
   ]
  },
  {
   "cell_type": "code",
   "execution_count": null,
   "metadata": {
    "collapsed": false
   },
   "outputs": [],
   "source": [
    "\n",
    "'''\n",
    "first we test the core/interface extractor, since it is most essential\n",
    "'''\n",
    "import sys\n",
    "sys.path.append('..')\n",
    "%matplotlib inline\n",
    "from eden.converter.graph.gspan import gspan_to_eden\n",
    "import graphlearn.utils.draw as myutils\n",
    "import graphlearn.utils.myeden as myed\n",
    "import eden.graph as eg\n",
    "import graphlearn.graphlearn as gl\n",
    "\n",
    "\n",
    "#get a graph\n",
    "gr = gspan_to_eden( 'bursi.pos.gspan' )\n",
    "g=gr.next()\n",
    "\n",
    "\n",
    "#lets see..\n",
    "a=gl.extract_core_and_interface(1,g,radius_list=[2,3,4],thickness_list=[2],vectorizer=myed.GraphLearnVectorizer())\n",
    "ng=myutils.cip_to_graph(a) \n",
    "myutils.draw_many_graphs(ng)\n",
    "\n"
   ]
  },
  {
   "cell_type": "code",
   "execution_count": null,
   "metadata": {
    "collapsed": false
   },
   "outputs": [],
   "source": [
    "'''\n",
    "demonstrating more extract core\n",
    "'''\n",
    "%matplotlib inline\n",
    "import sys\n",
    "sys.path.append('..')\n",
    "from eden.converter.graph.gspan import gspan_to_eden\n",
    "import graphlearn.utils.draw as myutils\n",
    "import graphlearn.utils.myeden as myed\n",
    "import eden.graph as eg\n",
    "import graphlearn.graphlearn as gl\n",
    "\n",
    "\n",
    "#get 5 grtaphs...\n",
    "gr = gspan_to_eden( 'bursi.pos.gspan' )\n",
    "for x in range (5):\n",
    "    g=gr.next()\n",
    "    # for each, pick 5 cores and extract cips \n",
    "    nice_graphs=[]\n",
    "    for n in range(5):\n",
    "        node=n\n",
    "        a=gl.extract_core_and_interface(node,g,radius_list=[3],thickness_list=[1],vectorizer=myed.GraphLearnVectorizer())\n",
    "        # draw cip on the original graph and save in nice_graphs\n",
    "        nice_graphs+=myutils.cip_to_graph(a, graphs=[g,g]) \n",
    "        \n",
    "    # draw nice_graphs\n",
    "    myutils.draw_many_graphs(nice_graphs)"
   ]
  },
  {
   "cell_type": "code",
   "execution_count": null,
   "metadata": {
    "collapsed": false,
    "scrolled": false
   },
   "outputs": [],
   "source": [
    "%%time\n",
    "'''\n",
    "second is reading a grammar and training an estimator\n",
    "'''\n",
    "import sys\n",
    "sys.path.append('..')\n",
    "import os \n",
    "os.nice(20)\n",
    "%matplotlib inline\n",
    "import graphlearn.utils.draw as myutils\n",
    "import graphlearn.graphlearn as gl\n",
    "from eden.converter.graph.gspan import gspan_to_eden\n",
    "import itertools\n",
    "gr = gspan_to_eden( 'bursi.pos.gspan' )\n",
    "\n",
    "\n",
    "# we just learn a grammar from 50 graphs..  \n",
    "gr = itertools.islice(gr,50)\n",
    "sampler=gl.GraphLearnSampler()\n",
    "#sampler=sampler.load('tmp/demo.ge')\n",
    "sampler.fit(gr,n_jobs=-1)\n",
    "\n",
    "# we look at the estimator and  draw 5 interfaces with their associated cores\n",
    "#print sampler.estimator\n",
    "#sampler.save('tmp/demo2.ge')\n",
    "myutils.draw_grammar(sampler.local_substitutable_graph_grammar.grammar,5)\n",
    "\n",
    "\n",
    "\n",
    "# here we look at some stats.\n",
    "myutils.draw_grammar_stats(sampler.local_substitutable_graph_grammar.grammar)"
   ]
  },
  {
   "cell_type": "code",
   "execution_count": null,
   "metadata": {
    "collapsed": false
   },
   "outputs": [],
   "source": []
  },
  {
   "cell_type": "code",
   "execution_count": null,
   "metadata": {
    "collapsed": false,
    "scrolled": false
   },
   "outputs": [],
   "source": [
    "%%time\n",
    "'''\n",
    "now lets see if we can improve graphs\n",
    "'''\n",
    "import sys\n",
    "sys.path.append('..')\n",
    "import os\n",
    "os.nice(19)\n",
    "%matplotlib inline\n",
    "import graphlearn.utils.draw as myutils\n",
    "import graphlearn.graphlearn as gl\n",
    "from eden.converter.graph.gspan import gspan_to_eden\n",
    "import itertools\n",
    "import matplotlib.pyplot as plt\n",
    "\n",
    "\n",
    "steps=100\n",
    "\n",
    "sampler=gl.GraphLearnSampler()\n",
    "sampler.load('tmp/demo.ge')\n",
    "print \"loading done\"\n",
    "graphs = gspan_to_eden( 'bursi.pos.gspan' )\n",
    "graphs = itertools.islice(graphs,9)\n",
    "graphs = sampler.sample(graphs,\n",
    "                        same_radius=False,\n",
    "                        same_core_size=False,\n",
    "                        sampling_interval=int(steps/3)+1,\n",
    "                        batch_size=1,\n",
    "                        n_steps=steps,\n",
    "                        n_jobs=1,\n",
    "                        annealing_factor=0.9)\n",
    "\n",
    "history=[]\n",
    "\n",
    "for  i, (result,info) in enumerate(graphs):\n",
    "    history.append(info['score_history'])\n",
    "    myutils.draw_many_graphs(info['graphs'])\n",
    "    \n",
    "    \n",
    "t = range(steps+1) \n",
    "for h in history[:3]:\n",
    "    plt.plot(t, h)\n",
    "plt.show()\n",
    "t = range(steps+1) \n",
    "for h in history[3:6]:\n",
    "    plt.plot(t, h)\n",
    "plt.show()\n",
    "t = range(steps+1) \n",
    "for h in history[6:]:\n",
    "    plt.plot(t, h)\n",
    "plt.show()\n",
    "\n",
    "\n"
   ]
  },
  {
   "cell_type": "code",
   "execution_count": null,
   "metadata": {
    "collapsed": false,
    "scrolled": false
   },
   "outputs": [],
   "source": [
    "%%time\n",
    "'''\n",
    "GOOD STUFF  lets test the clusterator\n",
    "'''\n",
    "import sys\n",
    "sys.path.append('..')\n",
    "import os\n",
    "os.nice(19)\n",
    "%matplotlib inline\n",
    "\n",
    "import graphlearn.utils.draw as myutils\n",
    "import graphlearn.cluster as cl\n",
    "from eden.converter.graph.gspan import gspan_to_eden\n",
    "import itertools\n",
    "import matplotlib.pyplot as plt\n",
    "\n",
    "\n",
    "steps=100\n",
    "\n",
    "sampler=cl.cluster()\n",
    "\n",
    "cluster.fit(gspan_to_eden( 'bursi.pos.gspan' ))\n",
    "cluster.save('tmp/cluster.ge')\n",
    "\n",
    "#sampler.load('tmp/cluster.ge')\n",
    "\n",
    "\n",
    "\n",
    "graphs = gspan_to_eden( 'bursi.pos.gspan' )\n",
    "graphs = itertools.islice(graphs,9)\n",
    "graphs = sampler.sample(graphs,\n",
    "                        sampling_interval=int(steps/3)+1,\n",
    "                        batch_size=1,\n",
    "                        n_steps=steps,\n",
    "                        n_jobs=1,\n",
    "                        )\n",
    "\n",
    "history=[]\n",
    "for  i, (result,info) in enumerate(graphs):\n",
    "    history.append(info['score_history'])\n",
    "    myutils.draw_many_graphs(info['graphs'])\n",
    "\n",
    "t = range(steps+1) \n",
    "for h in history[:3]:\n",
    "    plt.plot(t, h)\n",
    "plt.show()\n",
    "t = range(steps+1) \n",
    "for h in history[3:6]:\n",
    "    plt.plot(t, h)\n",
    "plt.show()\n",
    "t = range(steps+1) \n",
    "for h in history[6:]:\n",
    "    plt.plot(t, h)\n",
    "plt.show()\n"
   ]
  },
  {
   "cell_type": "markdown",
   "metadata": {
    "collapsed": false
   },
   "source": [
    "# HERE BE DRAGONS\n"
   ]
  },
  {
   "cell_type": "code",
   "execution_count": null,
   "metadata": {
    "collapsed": false
   },
   "outputs": [],
   "source": [
    "'''\n",
    "inform me when done !\n",
    "'''\n",
    "import os\n",
    "os.system(\"( speaker-test -t sine -f 2000 )& pid=$! ; sleep 1.0s ; kill -9 $pid\")"
   ]
  },
  {
   "cell_type": "code",
   "execution_count": null,
   "metadata": {
    "collapsed": false
   },
   "outputs": [],
   "source": [
    "'''\n",
    "HERE WE SEE WHY I USE SHUFFLE INSTEAD OF RANDOMCHOICE::: in the select_cips_from_grammar function...\n",
    "-> pick at random as long as list of used indeces not as long as list?\n",
    "-> leave it at the shuffeling?\n",
    "'''\n",
    "import random\n",
    "%%time\n",
    "x= range(1000000,0,-1)\n",
    "for e in xrange(100):\n",
    "    i=x.index(random.choice(x)) \n",
    "    x.remove(i)\n"
   ]
  },
  {
   "cell_type": "code",
   "execution_count": null,
   "metadata": {
    "collapsed": false
   },
   "outputs": [],
   "source": [
    "%%time\n",
    "x= range(1000000,0,-1)\n",
    "random.shuffle(x)\n",
    "for e in xrange(100):\n",
    "    i=x.pop() \n"
   ]
  },
  {
   "cell_type": "code",
   "execution_count": null,
   "metadata": {
    "collapsed": false
   },
   "outputs": [],
   "source": [
    "from matplotlib import pyplot\n",
    "\n",
    "a = [    pow(10,i) for i in range(10)    ]\n",
    "\n",
    "pyplot.subplot(2,1,1)\n",
    "pyplot.plot(a, color='blue', lw=2)\n",
    "pyplot.yscale('log')\n",
    "pyplot.show()"
   ]
  },
  {
   "cell_type": "code",
   "execution_count": null,
   "metadata": {
    "collapsed": false
   },
   "outputs": [],
   "source": [
    "4 / 5"
   ]
  },
  {
   "cell_type": "code",
   "execution_count": null,
   "metadata": {
    "collapsed": false
   },
   "outputs": [],
   "source": [
    "import itertools\n",
    "\n",
    "\n",
    "def grouper(iterable, n, fillvalue=None):\n",
    "    args = [iter(iterable)] * n\n",
    "    return itertools.izip_longest(fillvalue=fillvalue, *args)\n",
    "\n",
    "s=[(1,2,3),(1,2,3),(1,2,3),(1,2,3),(1,2,3),(1,2,3),(1,2,3),(1,2,3)]\n",
    "[batch for batch in grouper(s,3)]\n",
    "\n",
    "\n"
   ]
  },
  {
   "cell_type": "code",
   "execution_count": null,
   "metadata": {
    "collapsed": true
   },
   "outputs": [],
   "source": [
    "import dill\n",
    "#z = dill.dumps(sampler.local_substitutable_graph_grammar)\n",
    "for k,v in sampler.__dict__.iteritems():\n",
    "    print k\n",
    "    print len(dill.dumps(v))"
   ]
  }
 ],
 "metadata": {
  "kernelspec": {
   "display_name": "Python 2",
   "language": "python",
   "name": "python2"
  },
  "language_info": {
   "codemirror_mode": {
    "name": "ipython",
    "version": 2
   },
   "file_extension": ".py",
   "mimetype": "text/x-python",
   "name": "python",
   "nbconvert_exporter": "python",
   "pygments_lexer": "ipython2",
   "version": "2.7.6"
  }
 },
 "nbformat": 4,
 "nbformat_minor": 0
}
