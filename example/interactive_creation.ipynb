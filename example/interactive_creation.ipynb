{
 "cells": [
  {
   "cell_type": "code",
   "execution_count": 1,
   "metadata": {
    "collapsed": false
   },
   "outputs": [],
   "source": [
    "%load_ext autoreload\n",
    "%autoreload 2"
   ]
  },
  {
   "cell_type": "code",
   "execution_count": null,
   "metadata": {
    "collapsed": true
   },
   "outputs": [],
   "source": [
    "from eden.util import configure_logging\n",
    "import logging\n",
    "configure_logging(logging.getLogger(),verbosity=1)"
   ]
  },
  {
   "cell_type": "code",
   "execution_count": null,
   "metadata": {
    "collapsed": false
   },
   "outputs": [],
   "source": [
    "%%time\n",
    "'''\n",
    "FIRST WE TRAIN A GRAPHSAMPLER\n",
    "'''\n",
    "import sys\n",
    "sys.path.append('..')\n",
    "import os \n",
    "os.nice(20)\n",
    "%matplotlib inline\n",
    "\n",
    "import graphlearn.utils.draw as myutils\n",
    "import graphlearn.graphlearn as gl\n",
    "from eden.converter.graph.gspan import gspan_to_eden\n",
    "import itertools\n",
    "\n",
    "# setting things up...\n",
    "training_graphs = gspan_to_eden( 'bursi.pos.gspan' )\n",
    "training_size=200\n",
    "training_graphs = itertools.islice(training_graphs,training_size)\n",
    "sampler=gl.GraphLearnSampler()#radius_list=[1,2],thickness_list=[1,2])\n",
    "\n",
    "#fitting sampler\n",
    "sampler.fit(training_graphs,n_jobs=-1, min_cip_count=3, min_interface_count=3)\n",
    "sampler.save('tmp/sampler_200.ge')\n",
    "\n",
    "#loading sampler\n",
    "sampler.load('tmp/sampler_200.ge')\n"
   ]
  },
  {
   "cell_type": "code",
   "execution_count": null,
   "metadata": {
    "collapsed": false
   },
   "outputs": [],
   "source": [
    "'''\n",
    "ok,lets set all the options just to make sure we didnt miss any\n",
    "'''\n",
    "sampler.same_radius = False\n",
    "sampler.similarity = -1\n",
    "sampler.sampling_interval = 9999\n",
    "sampler.n_steps = 100\n",
    "sampler.n_jobs = 1\n",
    "sampler.same_core_size = False\n",
    "sampler.accept_annealing_factor = 1\n",
    "sampler.accept_static_penalty = 1\n",
    "sampler.select_cip_max_tries = 100\n",
    "sampler.burnout = 0\n",
    "sampler.batch_size = 1\n",
    "sampler.probabilistic_core_choice = True\n",
    "sampler.generatormode = False\n",
    "sampler.keep_duplicates = True\n",
    "sampler.local_substitutable_graph_grammar.preprocessing(n_jobs=1, \n",
    "                                                        same_radius=sampler.same_radius, \n",
    "                                                        same_core_size=sampler.same_core_size,\n",
    "                                                        probabilistic_core_choice=sampler.probabilistic_core_choice)"
   ]
  },
  {
   "cell_type": "code",
   "execution_count": null,
   "metadata": {
    "collapsed": false,
    "scrolled": true
   },
   "outputs": [],
   "source": [
    "'''\n",
    "easy mode\n",
    "'''\n",
    "from graphlearn import graphtools\n",
    "import networkx as nx\n",
    "\n",
    "\n",
    "def get_new_graphs(gr):\n",
    "    res=[]\n",
    "    graphtools.graph_clean(gr)\n",
    "    for i in range(8):\n",
    "        gr2=nx.Graph(gr)\n",
    "        cip = sampler.select_original_cip(gr2)\n",
    "        newcip = sampler._select_cips(cip).next()\n",
    "        newgr=graphtools.core_substitution(gr2, cip.graph, newcip.graph)\n",
    "        res.append(newgr)\n",
    "    return res\n",
    "\n",
    "\n",
    "from graphlearn.utils.draw import draw_graph_set_graphlearn\n",
    "gr = gspan_to_eden( 'bursi.pos.gspan' )\n",
    "CURRENT = gr.next()\n",
    "CURRENT = sampler.vectorizer._edge_to_vertex_transform(CURRENT)\n",
    "\n",
    "while True:\n",
    "    # generate 8 graphs\n",
    "    g=get_new_graphs(CURRENT)\n",
    "    \n",
    "    # put old ine in middle\n",
    "    graphtools.graph_clean(CURRENT)\n",
    "    g=g[:4]+[CURRENT]+g[4:]\n",
    "    \n",
    "    # draw them \n",
    "    draw_graph_set_graphlearn(g,n_graphs_per_line=3, node_size=200)\n",
    "    \n",
    "    #pick one\n",
    "    x=raw_input()\n",
    "    CURRENT=g[int(x)]"
   ]
  },
  {
   "cell_type": "code",
   "execution_count": null,
   "metadata": {
    "collapsed": false,
    "scrolled": true
   },
   "outputs": [],
   "source": [
    "%%time\n",
    "'''\n",
    "maximum control mode\n",
    "'''\n",
    "from graphlearn import graphtools\n",
    "import networkx as nx\n",
    "from eden.util import display\n",
    "from eden.modifier.graph.vertex_attributes import colorize \n",
    "\n",
    "def extract(x,graph):\n",
    "    return graphtools.extract_core_and_interface(x, graph, [2], [2], \n",
    "            vectorizer=sampler.vectorizer,\n",
    "            hash_bitmask=sampler.hash_bitmask, filter=sampler.node_entity_check)\n",
    "\n",
    "def getids(graph):\n",
    "    res=[]\n",
    "    for n in graph.nodes():\n",
    "        if 'edge' in graph.node[n]:\n",
    "            continue\n",
    "        cip=extract(n,graph)\n",
    "        if not cip:\n",
    "            continue\n",
    "        if cip[0].interface_hash in sampler.local_substitutable_graph_grammar.grammar:\n",
    "            res.append(n)\n",
    "    return res\n",
    "            \n",
    "    \n",
    "def get_new_graphs(gr,cores,oldcip):\n",
    "    res=[]\n",
    "    graphtools.graph_clean(gr)\n",
    "    news= [ cip.graph for cip in cores.itervalues() ]\n",
    "    for i,core in enumerate(news):\n",
    "        newgr=graphtools.core_substitution(gr,oldcip.graph,core)\n",
    "        newgr.graph['info2']=str(i)\n",
    "        res.append(newgr)\n",
    "    return res\n",
    "\n",
    "def set_id_label(graph):\n",
    "    # not sure if this should be fixed in eden..\n",
    "    # i suspect that eden sets an ID and then assumes that nobody will ever mess with it..\n",
    "    # surely, nobody has the intent of replacing parts of the graph... or building a wall for that matter.. \n",
    "    for n,d in graph.nodes(data=True):\n",
    "        d['ID']=str(n)\n",
    "    \n",
    "\n",
    "from graphlearn.utils.draw import draw_graph_set_graphlearn\n",
    "gr = gspan_to_eden( 'bursi.pos.gspan' )\n",
    "CURRENT = gr.next()\n",
    "CURRENT = sampler.vectorizer._edge_to_vertex_transform(CURRENT)\n",
    "\n",
    "    \n",
    "while True:\n",
    "    \n",
    "    # draw graph and tell user which cores are ok to pick: \n",
    "    ids = getids(CURRENT)\n",
    "    set_id_label(CURRENT)\n",
    "    C=nx.Graph(CURRENT)\n",
    "    C=sampler.vectorizer._revert_edge_to_vertex_transform(CURRENT)\n",
    "    \n",
    "    for n in ids:\n",
    "        C.node[n]['color_level']=.5\n",
    "    \n",
    "    display.draw_graph(C, size=10, secondary_vertex_label='ID',\n",
    "                   colormap='Paired', invert_colormap=False,node_border=0.5, vertex_color='color_level',\n",
    "                   vertex_alpha=0.5, node_size=650)\n",
    "    x=raw_input()\n",
    "    x=int(x)\n",
    "    \n",
    "    \n",
    "\n",
    "    \n",
    "    #ok we have a node, lets get a cip\n",
    "    cip =extract(x, CURRENT)\n",
    "    cip=cip[0]\n",
    "    \n",
    "    # lets get all the hits in the grammar\n",
    "    corez=sampler.local_substitutable_graph_grammar.grammar[cip.interface_hash]\n",
    "    \n",
    "    # let the user choose from some options we get from get_new_graphs:\n",
    "    g=get_new_graphs(CURRENT,corez,cip)\n",
    "    draw_graph_set_graphlearn(g,n_graphs_per_line = 5,title_key='info2')\n",
    "    x=raw_input()\n",
    "    \n",
    "    CURRENT=g[int(x)]\n",
    "    #CURRENT=graphtools.core_substitution(CURRENT, cip.graph, g[int(x)])\n",
    "    \n",
    "    \n",
    "    \n"
   ]
  },
  {
   "cell_type": "code",
   "execution_count": 12,
   "metadata": {
    "collapsed": false
   },
   "outputs": [
    {
     "ename": "ValueError",
     "evalue": "[<networkx.classes.graph.Graph object at 0x7f49900314d0>, <networkx.classes.graph.Graph object at 0x7f49900314d0>, <networkx.classes.graph.Graph object at 0x7f49900314d0>, <networkx.classes.graph.Graph object at 0x7f49900314d0>, <networkx.classes.graph.Graph object at 0x7f49900314d0>, <networkx.classes.graph.Graph object at 0x7f49900314d0>, <networkx.classes.graph.Graph object at 0x7f49900314d0>, <networkx.classes.graph.Graph object at 0x7f49900314d0>, <networkx.classes.graph.Graph object at 0x7f49900314d0>] cannot be transformed to a Widget",
     "output_type": "error",
     "traceback": [
      "\u001b[1;31m---------------------------------------------------------------------------\u001b[0m",
      "\u001b[1;31mValueError\u001b[0m                                Traceback (most recent call last)",
      "\u001b[1;32m<ipython-input-12-70e4f98e5e48>\u001b[0m in \u001b[0;36m<module>\u001b[1;34m()\u001b[0m\n\u001b[0;32m     32\u001b[0m \u001b[1;32mfrom\u001b[0m \u001b[0mIPython\u001b[0m\u001b[1;33m.\u001b[0m\u001b[0mhtml\u001b[0m\u001b[1;33m.\u001b[0m\u001b[0mwidgets\u001b[0m \u001b[1;32mimport\u001b[0m \u001b[0minteract\u001b[0m\u001b[1;33m\u001b[0m\u001b[0m\n\u001b[0;32m     33\u001b[0m interact(get_new_graphs, \n\u001b[1;32m---> 34\u001b[1;33m                choice=(0,9),res=res)\n\u001b[0m\u001b[0;32m     35\u001b[0m \u001b[1;33m\u001b[0m\u001b[0m\n\u001b[0;32m     36\u001b[0m \u001b[1;33m\u001b[0m\u001b[0m\n",
      "\u001b[1;32m/home/ikea/.local/lib/python2.7/site-packages/IPython/html/widgets/interaction.pyc\u001b[0m in \u001b[0;36minteract\u001b[1;34m(__interact_f, **kwargs)\u001b[0m\n\u001b[0;32m    308\u001b[0m         \u001b[1;31m#        ...\u001b[0m\u001b[1;33m\u001b[0m\u001b[1;33m\u001b[0m\u001b[0m\n\u001b[0;32m    309\u001b[0m         \u001b[0mf\u001b[0m \u001b[1;33m=\u001b[0m \u001b[0m__interact_f\u001b[0m\u001b[1;33m\u001b[0m\u001b[0m\n\u001b[1;32m--> 310\u001b[1;33m         \u001b[0mw\u001b[0m \u001b[1;33m=\u001b[0m \u001b[0minteractive\u001b[0m\u001b[1;33m(\u001b[0m\u001b[0mf\u001b[0m\u001b[1;33m,\u001b[0m \u001b[1;33m**\u001b[0m\u001b[0mkwargs\u001b[0m\u001b[1;33m)\u001b[0m\u001b[1;33m\u001b[0m\u001b[0m\n\u001b[0m\u001b[0;32m    311\u001b[0m         \u001b[1;32mtry\u001b[0m\u001b[1;33m:\u001b[0m\u001b[1;33m\u001b[0m\u001b[0m\n\u001b[0;32m    312\u001b[0m             \u001b[0mf\u001b[0m\u001b[1;33m.\u001b[0m\u001b[0mwidget\u001b[0m \u001b[1;33m=\u001b[0m \u001b[0mw\u001b[0m\u001b[1;33m\u001b[0m\u001b[0m\n",
      "\u001b[1;32m/home/ikea/.local/lib/python2.7/site-packages/IPython/html/widgets/interaction.pyc\u001b[0m in \u001b[0;36minteractive\u001b[1;34m(__interact_f, **kwargs)\u001b[0m\n\u001b[0;32m    194\u001b[0m     \u001b[0mgetcallargs\u001b[0m\u001b[1;33m(\u001b[0m\u001b[0mf\u001b[0m\u001b[1;33m,\u001b[0m \u001b[1;33m**\u001b[0m\u001b[1;33m{\u001b[0m\u001b[0mn\u001b[0m\u001b[1;33m:\u001b[0m\u001b[0mv\u001b[0m \u001b[1;32mfor\u001b[0m \u001b[0mn\u001b[0m\u001b[1;33m,\u001b[0m\u001b[0mv\u001b[0m\u001b[1;33m,\u001b[0m\u001b[0m_\u001b[0m \u001b[1;32min\u001b[0m \u001b[0mnew_kwargs\u001b[0m\u001b[1;33m}\u001b[0m\u001b[1;33m)\u001b[0m\u001b[1;33m\u001b[0m\u001b[0m\n\u001b[0;32m    195\u001b[0m     \u001b[1;31m# Now build the widgets from the abbreviations.\u001b[0m\u001b[1;33m\u001b[0m\u001b[1;33m\u001b[0m\u001b[0m\n\u001b[1;32m--> 196\u001b[1;33m     \u001b[0mkwargs_widgets\u001b[0m\u001b[1;33m.\u001b[0m\u001b[0mextend\u001b[0m\u001b[1;33m(\u001b[0m\u001b[0m_widgets_from_abbreviations\u001b[0m\u001b[1;33m(\u001b[0m\u001b[0mnew_kwargs\u001b[0m\u001b[1;33m)\u001b[0m\u001b[1;33m)\u001b[0m\u001b[1;33m\u001b[0m\u001b[0m\n\u001b[0m\u001b[0;32m    197\u001b[0m \u001b[1;33m\u001b[0m\u001b[0m\n\u001b[0;32m    198\u001b[0m     \u001b[1;31m# This has to be done as an assignment, not using container.children.append,\u001b[0m\u001b[1;33m\u001b[0m\u001b[1;33m\u001b[0m\u001b[0m\n",
      "\u001b[1;32m/home/ikea/.local/lib/python2.7/site-packages/IPython/html/widgets/interaction.pyc\u001b[0m in \u001b[0;36m_widgets_from_abbreviations\u001b[1;34m(seq)\u001b[0m\n\u001b[0;32m    153\u001b[0m     \u001b[0mresult\u001b[0m \u001b[1;33m=\u001b[0m \u001b[1;33m[\u001b[0m\u001b[1;33m]\u001b[0m\u001b[1;33m\u001b[0m\u001b[0m\n\u001b[0;32m    154\u001b[0m     \u001b[1;32mfor\u001b[0m \u001b[0mname\u001b[0m\u001b[1;33m,\u001b[0m \u001b[0mabbrev\u001b[0m\u001b[1;33m,\u001b[0m \u001b[0mdefault\u001b[0m \u001b[1;32min\u001b[0m \u001b[0mseq\u001b[0m\u001b[1;33m:\u001b[0m\u001b[1;33m\u001b[0m\u001b[0m\n\u001b[1;32m--> 155\u001b[1;33m         \u001b[0mwidget\u001b[0m \u001b[1;33m=\u001b[0m \u001b[0m_widget_from_abbrev\u001b[0m\u001b[1;33m(\u001b[0m\u001b[0mabbrev\u001b[0m\u001b[1;33m,\u001b[0m \u001b[0mdefault\u001b[0m\u001b[1;33m)\u001b[0m\u001b[1;33m\u001b[0m\u001b[0m\n\u001b[0m\u001b[0;32m    156\u001b[0m         \u001b[1;32mif\u001b[0m \u001b[1;32mnot\u001b[0m \u001b[0mwidget\u001b[0m\u001b[1;33m.\u001b[0m\u001b[0mdescription\u001b[0m\u001b[1;33m:\u001b[0m\u001b[1;33m\u001b[0m\u001b[0m\n\u001b[0;32m    157\u001b[0m             \u001b[0mwidget\u001b[0m\u001b[1;33m.\u001b[0m\u001b[0mdescription\u001b[0m \u001b[1;33m=\u001b[0m \u001b[0mname\u001b[0m\u001b[1;33m\u001b[0m\u001b[0m\n",
      "\u001b[1;32m/home/ikea/.local/lib/python2.7/site-packages/IPython/html/widgets/interaction.pyc\u001b[0m in \u001b[0;36m_widget_from_abbrev\u001b[1;34m(abbrev, default)\u001b[0m\n\u001b[0;32m    113\u001b[0m             \u001b[1;32mpass\u001b[0m\u001b[1;33m\u001b[0m\u001b[0m\n\u001b[0;32m    114\u001b[0m     \u001b[1;32mif\u001b[0m \u001b[0mwidget\u001b[0m \u001b[1;32mis\u001b[0m \u001b[0mNone\u001b[0m\u001b[1;33m:\u001b[0m\u001b[1;33m\u001b[0m\u001b[0m\n\u001b[1;32m--> 115\u001b[1;33m         \u001b[1;32mraise\u001b[0m \u001b[0mValueError\u001b[0m\u001b[1;33m(\u001b[0m\u001b[1;34m\"%r cannot be transformed to a Widget\"\u001b[0m \u001b[1;33m%\u001b[0m \u001b[1;33m(\u001b[0m\u001b[0mabbrev\u001b[0m\u001b[1;33m,\u001b[0m\u001b[1;33m)\u001b[0m\u001b[1;33m)\u001b[0m\u001b[1;33m\u001b[0m\u001b[0m\n\u001b[0m\u001b[0;32m    116\u001b[0m     \u001b[1;32mreturn\u001b[0m \u001b[0mwidget\u001b[0m\u001b[1;33m\u001b[0m\u001b[0m\n\u001b[0;32m    117\u001b[0m \u001b[1;33m\u001b[0m\u001b[0m\n",
      "\u001b[1;31mValueError\u001b[0m: [<networkx.classes.graph.Graph object at 0x7f49900314d0>, <networkx.classes.graph.Graph object at 0x7f49900314d0>, <networkx.classes.graph.Graph object at 0x7f49900314d0>, <networkx.classes.graph.Graph object at 0x7f49900314d0>, <networkx.classes.graph.Graph object at 0x7f49900314d0>, <networkx.classes.graph.Graph object at 0x7f49900314d0>, <networkx.classes.graph.Graph object at 0x7f49900314d0>, <networkx.classes.graph.Graph object at 0x7f49900314d0>, <networkx.classes.graph.Graph object at 0x7f49900314d0>] cannot be transformed to a Widget"
     ]
    }
   ],
   "source": [
    "'''\n",
    "easy mode, WIDGET VERSION\n",
    "'''\n",
    "from graphlearn import graphtools\n",
    "import networkx as nx\n",
    "\n",
    "\n",
    "from graphlearn.utils.draw import draw_graph_set_graphlearn\n",
    "gr = gspan_to_eden( 'bursi.pos.gspan' )\n",
    "CURRENT = gr.next()\n",
    "gr = sampler.vectorizer._edge_to_vertex_transform(CURRENT)\n",
    "\n",
    "res=[gr for i in range(9)]\n",
    "\n",
    "def get_new_graphs(choice,res):\n",
    "    gr=res[choice]\n",
    "    res=[]\n",
    "    graphtools.graph_clean(gr)\n",
    "    for i in range(8):\n",
    "        gr2=nx.Graph(gr)\n",
    "        cip = sampler.select_original_cip(gr2)\n",
    "        newcip = sampler._select_cips(cip).next()\n",
    "        newgr=graphtools.core_substitution(gr2, cip.graph, newcip.graph)\n",
    "        res.append(newgr)\n",
    "\n",
    "    graphtools.graph_clean(CURRENT)\n",
    "    res=res[:4]+[gr]+res[4:]       \n",
    "    draw_graph_set_graphlearn(res,n_graphs_per_line = 3)    \n",
    "    \n",
    "\n",
    "\n",
    "from IPython.html.widgets import interact\n",
    "interact(get_new_graphs, \n",
    "               choice=(0,9),res=res)\n",
    "\n",
    "\n",
    "    \n"
   ]
  },
  {
   "cell_type": "code",
   "execution_count": 17,
   "metadata": {
    "collapsed": false
   },
   "outputs": [
    {
     "ename": "UnboundLocalError",
     "evalue": "local variable 'res' referenced before assignment",
     "output_type": "error",
     "traceback": [
      "\u001b[1;31m---------------------------------------------------------------------------\u001b[0m",
      "\u001b[1;31mUnboundLocalError\u001b[0m                         Traceback (most recent call last)",
      "\u001b[1;32m<ipython-input-17-8d1395df62ce>\u001b[0m in \u001b[0;36mget_new_graphs\u001b[1;34m(a)\u001b[0m\n\u001b[0;32m     15\u001b[0m \u001b[1;32mdef\u001b[0m \u001b[0mget_new_graphs\u001b[0m\u001b[1;33m(\u001b[0m\u001b[0ma\u001b[0m\u001b[1;33m)\u001b[0m\u001b[1;33m:\u001b[0m\u001b[1;33m\u001b[0m\u001b[0m\n\u001b[0;32m     16\u001b[0m     \u001b[0mchoice\u001b[0m\u001b[1;33m=\u001b[0m \u001b[0mrandom\u001b[0m\u001b[1;33m.\u001b[0m\u001b[0mrandint\u001b[0m\u001b[1;33m(\u001b[0m\u001b[1;36m0\u001b[0m\u001b[1;33m,\u001b[0m\u001b[1;36m9\u001b[0m\u001b[1;33m)\u001b[0m\u001b[1;33m\u001b[0m\u001b[0m\n\u001b[1;32m---> 17\u001b[1;33m     \u001b[0mgr\u001b[0m\u001b[1;33m=\u001b[0m\u001b[0mres\u001b[0m\u001b[1;33m[\u001b[0m\u001b[0mchoice\u001b[0m\u001b[1;33m]\u001b[0m\u001b[1;33m\u001b[0m\u001b[0m\n\u001b[0m\u001b[0;32m     18\u001b[0m     \u001b[0mres\u001b[0m\u001b[1;33m=\u001b[0m\u001b[1;33m[\u001b[0m\u001b[1;33m]\u001b[0m\u001b[1;33m\u001b[0m\u001b[0m\n\u001b[0;32m     19\u001b[0m     \u001b[0mgraphtools\u001b[0m\u001b[1;33m.\u001b[0m\u001b[0mgraph_clean\u001b[0m\u001b[1;33m(\u001b[0m\u001b[0mgr\u001b[0m\u001b[1;33m)\u001b[0m\u001b[1;33m\u001b[0m\u001b[0m\n",
      "\u001b[1;31mUnboundLocalError\u001b[0m: local variable 'res' referenced before assignment"
     ]
    }
   ],
   "source": [
    "'''\n",
    "we failed miserably.. lets try something else\n",
    "'''\n",
    "from graphlearn import graphtools\n",
    "import networkx as nx\n",
    "\n",
    "import random\n",
    "from graphlearn.utils.draw import draw_graph_set_graphlearn\n",
    "gr = gspan_to_eden( 'bursi.pos.gspan' )\n",
    "CURRENT = gr.next()\n",
    "gr = sampler.vectorizer._edge_to_vertex_transform(CURRENT)\n",
    "\n",
    "res=[gr for i in range(9)]\n",
    "\n",
    "def get_new_graphs(a):\n",
    "    choice= random.randint(0,9)\n",
    "    gr=res[choice]\n",
    "    res=[]\n",
    "    graphtools.graph_clean(gr)\n",
    "    for i in range(8):\n",
    "        gr2=nx.Graph(gr)\n",
    "        cip = sampler.select_original_cip(gr2)\n",
    "        newcip = sampler._select_cips(cip).next()\n",
    "        newgr=graphtools.core_substitution(gr2, cip.graph, newcip.graph)\n",
    "        res.append(newgr)\n",
    "\n",
    "    graphtools.graph_clean(CURRENT)\n",
    "    res=res[:4]+[gr]+res[4:]       \n",
    "    draw_graph_set_graphlearn(res,n_graphs_per_line = 3)    \n",
    "    \n",
    "\n",
    "\n",
    "from IPython.html.widgets import interact\n",
    "from IPython.html import widgets\n",
    "from IPython.display import display\n",
    "button = widgets.ButtonWidget(description=\"Click Me!\")\n",
    "display(button)\n",
    "\n",
    "\n",
    "\n",
    "button.on_click(get_new_graphs)\n",
    "    "
   ]
  },
  {
   "cell_type": "code",
   "execution_count": null,
   "metadata": {
    "collapsed": true
   },
   "outputs": [],
   "source": []
  },
  {
   "cell_type": "code",
   "execution_count": null,
   "metadata": {
    "collapsed": true
   },
   "outputs": [],
   "source": []
  },
  {
   "cell_type": "code",
   "execution_count": null,
   "metadata": {
    "collapsed": true
   },
   "outputs": [],
   "source": []
  },
  {
   "cell_type": "code",
   "execution_count": null,
   "metadata": {
    "collapsed": true
   },
   "outputs": [],
   "source": []
  }
 ],
 "metadata": {
  "kernelspec": {
   "display_name": "Python 2",
   "language": "python",
   "name": "python2"
  },
  "language_info": {
   "codemirror_mode": {
    "name": "ipython",
    "version": 2
   },
   "file_extension": ".py",
   "mimetype": "text/x-python",
   "name": "python",
   "nbconvert_exporter": "python",
   "pygments_lexer": "ipython2",
   "version": "2.7.10"
  }
 },
 "nbformat": 4,
 "nbformat_minor": 0
}
