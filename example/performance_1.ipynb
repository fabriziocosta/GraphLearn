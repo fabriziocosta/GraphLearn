{
 "cells": [
  {
   "cell_type": "code",
   "execution_count": 1,
   "metadata": {
    "collapsed": false
   },
   "outputs": [],
   "source": [
    "from logging import getLogger \n",
    "from eden.util import configure_logging\n",
    "configure_logging(getLogger('root'),verbosity=1)"
   ]
  },
  {
   "cell_type": "code",
   "execution_count": 2,
   "metadata": {
    "collapsed": false
   },
   "outputs": [
    {
     "name": "stdout",
     "output_type": "stream",
     "text": [
      "CPU times: user 2 µs, sys: 1 µs, total: 3 µs\n",
      "Wall time: 5.01 µs\n",
      "estimator ok\n"
     ]
    }
   ],
   "source": [
    "%time\n",
    "'''\n",
    "first we test the core/interface extractor, since it is most essential\n",
    "'''\n",
    "import sys\n",
    "sys.path.append('..')\n",
    "%matplotlib inline\n",
    "# output workaround, sometimes necessary\n",
    "#import matplotlib\n",
    "#matplotlib.use('Agg')\n",
    "from eden.converter.graph.gspan import gspan_to_eden\n",
    "from graphlearn.graphlearn import GraphLearnSampler\n",
    "from eden.graph import Vectorizer\n",
    "import matplotlib.pyplot as plt\n",
    "import itertools\n",
    "from graphlearn.utils import myeden\n",
    "from eden.util import fit_estimator as eden_fit_estimator\n",
    "from eden.util import selection_iterator as picker\n",
    "from sklearn.linear_model import SGDClassifier\n",
    "import random\n",
    "\n",
    "\n",
    "# a vectorizer\n",
    "vectorizer = Vectorizer( complexity=2 )\n",
    "\n",
    "# select 1st element in an iterator\n",
    "def unpack(graphs):\n",
    "    for graphlist in graphs:\n",
    "        yield graphlist[0]\n",
    "\n",
    "\n",
    "def make_estimator(pos,neg):\n",
    "    pos = vectorizer.transform( pos )\n",
    "    neg = vectorizer.transform( neg )\n",
    "    esti = eden_fit_estimator(SGDClassifier(), positive_data_matrix=pos,\n",
    "                                        negative_data_matrix=neg)\n",
    "    return esti\n",
    "\n",
    "\n",
    "\n",
    "# positive set contains 2401 elements, of which we use 30% to test of we cen improve them ,\n",
    "# the rest is used for the oracle\n",
    "lenpo=int(2401*.3)\n",
    "\n",
    "\n",
    "# we select those 30% randomly:\n",
    "splitset= range(2014)\n",
    "random.shuffle(splitset)\n",
    "sample=splitset[:lenpo]\n",
    "oracle=splitset[lenpo:]\n",
    "\n",
    "\n",
    "# we create an oracle\n",
    "estimator=make_estimator(picker(gspan_to_eden('bursi.pos.gspan'),oracle),gspan_to_eden('bursi.neg.gspan'))\n",
    "print 'estimator ok'\n"
   ]
  },
  {
   "cell_type": "code",
   "execution_count": 3,
   "metadata": {
    "collapsed": false,
    "scrolled": false
   },
   "outputs": [
    {
     "name": "stdout",
     "output_type": "stream",
     "text": [
      "0.10 #:72 sec:24.5 sample_score:-0.557 original_score:0.523\n",
      "0.20 #:144 sec:39.9 sample_score:-0.568 original_score:0.641\n",
      "0.40 #:288 sec:71.9 sample_score:-0.569 original_score:0.645\n"
     ]
    },
    {
     "name": "stderr",
     "output_type": "stream",
     "text": [
      "/Library/Python/2.7/site-packages/sklearn/calibration.py:398: RuntimeWarning: overflow encountered in exp\n",
      "  E = np.exp(AB[0] * F + AB[1])\n",
      "/Library/Python/2.7/site-packages/sklearn/calibration.py:408: RuntimeWarning: overflow encountered in exp\n",
      "  E = np.exp(AB[0] * F + AB[1])\n",
      "/Library/Python/2.7/site-packages/sklearn/calibration.py:410: RuntimeWarning: invalid value encountered in multiply\n",
      "  TEP_minus_T1P = P * (T * E - T1)\n"
     ]
    },
    {
     "name": "stdout",
     "output_type": "stream",
     "text": [
      "0.60 #:432 sec:104.6 sample_score:-0.573 original_score:0.688\n",
      "0.80 #:576 sec:141.8 sample_score:-0.570 original_score:0.689\n",
      "CPU times: user 3min 51s, sys: 20.7 s, total: 4min 12s\n",
      "Wall time: 6min 22s\n"
     ]
    }
   ],
   "source": [
    "%%time\n",
    "import numpy as np\n",
    "from time import time\n",
    "\n",
    "# ok we create an iterator over the graphs we want to work with... \n",
    "graphs_pos= picker( gspan_to_eden('bursi.pos.gspan') , sample)\n",
    "\n",
    "# save results here:\n",
    "original_score=[]\n",
    "sample_score=[]\n",
    "\n",
    "# we want to use an increasing part of the test set.. \n",
    "percentages=[ 0.01, 0.05, 0.12, 0.25, 0.5 ,1 ]\n",
    "percentages=[ 0.1, 0.2, 0.4, 0.6, 0.8 ]\n",
    "\n",
    "sampler = GraphLearnSampler(radius_list=[0, 1, 2],thickness_list=[2, 4], complexity=2)\n",
    "\n",
    "for percentage in percentages:  \n",
    "    start=time()\n",
    "    # we work with n_graphs many graphs\n",
    "    n_graphs = int(lenpo*percentage)\n",
    "\n",
    "    # make copy of graphiterator\n",
    "    # select count random elements\n",
    "    # triplicate  the count long iterator\n",
    "    graphs_pos, graphs_pos_ = itertools.tee(graphs_pos)\n",
    "    ids=range(n_graphs)\n",
    "    random.shuffle(ids)\n",
    "    graphs_pos_ = picker(graphs_pos_, ids )\n",
    "    graphs_pos_,graphs_pos__,graphs_pos___ = itertools.tee(graphs_pos_,3)\n",
    "\n",
    "    # do sampling\n",
    "    sampler.fit(graphs_pos__,n_jobs=-1)\n",
    "\n",
    "    n_steps=2\n",
    "    sampling_interval=1\n",
    "    samples = sampler.sample( graphs_pos_,\n",
    "                        same_radius=False,\n",
    "                        same_core_size=True,\n",
    "                        sampling_interval=sampling_interval,\n",
    "                        select_cip_max_tries=200,\n",
    "                        batch_size=int(n_graphs/4)+1,\n",
    "                        n_steps=n_steps,\n",
    "                        n_jobs=-1,\n",
    "                        annealing_factor=1.5)\n",
    "    \n",
    "    #calculate the score of the sample\n",
    "    avg_sample = np.mean( [estimator.decision_function(e) for e in vectorizer.transform(unpack(samples)) ] )\n",
    "    #calculate score of the originals\n",
    "    avg_original = np.mean( [estimator.decision_function(e) for e in vectorizer.transform(graphs_pos___)] )\n",
    "    sample_score.append(avg_sample)\n",
    "    original_score.append(avg_original)\n",
    "    \n",
    "    duration=time()-start\n",
    "    print '%.2f #:%d sec:%.1f sample_score:%.3f original_score:%.3f'%(percentage,n_graphs,duration, avg_sample, avg_original)"
   ]
  },
  {
   "cell_type": "code",
   "execution_count": 4,
   "metadata": {
    "collapsed": false
   },
   "outputs": [
    {
     "name": "stdout",
     "output_type": "stream",
     "text": [
      "[0.52312393341882324, 0.64051515875264853, 0.64471752959677797, 0.6881695012055894, 0.68899851656513522]\n",
      "[-0.55732327433335227, -0.56808320761660713, -0.56912621941221941, -0.57257699214784219, -0.56976473152207352]\n"
     ]
    },
    {
     "data": {
      "image/png": "[encoded data removed]",
      "text/plain": [
       "<matplotlib.figure.Figure at 0x109c29610>"
      ]
     },
     "metadata": {},
     "output_type": "display_data"
    }
   ],
   "source": [
    "# originals are blue\n",
    "# improved ones are green\n",
    "print original_score\n",
    "print sample_score\n",
    "plt.figure(figsize=(13, 5))\n",
    "margin=0.1\n",
    "plt.xlabel('Training size')\n",
    "plt.ylabel('Avg SVM score')\n",
    "plt.xlim(0,max(percentages)+margin) \n",
    "plt.ylim(min(min(original_score),min(sample_score))-margin,max(max(original_score),max(sample_score))+margin) \n",
    "plt.plot(percentages, original_score ,'bs', percentages,original_score ,'k')\n",
    "plt.plot(percentages, sample_score ,'g^', percentages, sample_score ,'k')\n",
    "plt.grid()\n",
    "plt.savefig('sample_score.pdf')"
   ]
  }
 ],
 "metadata": {
  "kernelspec": {
   "display_name": "Python 2",
   "language": "python",
   "name": "python2"
  },
  "language_info": {
   "codemirror_mode": {
    "name": "ipython",
    "version": 2
   },
   "file_extension": ".py",
   "mimetype": "text/x-python",
   "name": "python",
   "nbconvert_exporter": "python",
   "pygments_lexer": "ipython2",
   "version": "2.7.6"
  }
 },
 "nbformat": 4,
 "nbformat_minor": 0
}
