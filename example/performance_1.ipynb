{
 "cells": [
  {
   "cell_type": "code",
   "execution_count": null,
   "metadata": {
    "collapsed": false
   },
   "outputs": [],
   "source": [
    "%time\n",
    "'''\n",
    "first we test the core/interface extractor, since it is most essential\n",
    "'''\n",
    "import sys\n",
    "sys.path.append('..')\n",
    "%matplotlib inline\n",
    "# output workaround, sometimes necessary\n",
    "#import matplotlib\n",
    "#matplotlib.use('Agg')\n",
    "from eden.converter.graph.gspan import gspan_to_eden\n",
    "from graphlearn.graphlearn import GraphLearnSampler\n",
    "from eden.graph import Vectorizer\n",
    "import matplotlib.pyplot as plt\n",
    "import itertools\n",
    "from eden.util import fit, random_bipartition_iter\n",
    "from sklearn.linear_model import SGDClassifier\n",
    "import random\n",
    "\n",
    "\n",
    "# a vectorizer\n",
    "vectorizer = Vectorizer( complexity=3 )\n",
    "\n",
    "# select 1st element in an iterator\n",
    "def unpack(graphs):\n",
    "    for graphlist in graphs:\n",
    "        yield graphlist[0]\n",
    "\n",
    "\n",
    "# positive set contains 2401 elements, of which we use 30% to test of we cen improve them ,\n",
    "# the rest is used for the oracle\n",
    "lenpo=int(2401*.3)\n",
    "\n",
    "\n",
    "sampler,oracle = random_bipartition_iter(gspan_to_eden('bursi.pos.gspan'),.3)\n",
    "\n",
    "# we create an oracle\n",
    "estimator=fit(oracle,gspan_to_eden('bursi.neg.gspan'),vectorizer)\n",
    "print 'estimator ok'\n"
   ]
  },
  {
   "cell_type": "code",
   "execution_count": 5,
   "metadata": {
    "collapsed": false
   },
   "outputs": [
    {
     "name": "stdout",
     "output_type": "stream",
     "text": [
      "estimator ok\n"
     ]
    },
    {
     "name": "stderr",
     "output_type": "stream",
     "text": [
      "select_cip_for_substitution failed because no suiting interface was found, extract failed 100 times \n",
      "INFO:log:select_cip_for_substitution failed because no suiting interface was found, extract failed 100 times \n",
      "DEBUG:log:Traceback (most recent call last):\n",
      "  File \"../graphlearn/graphlearn.py\", line 177, in _sample\n",
      "    candidate_graph = self.propose(graph)\n",
      "  File \"../graphlearn/graphlearn.py\", line 282, in propose\n",
      "    graph =  self.propose_single_cip(graph)\n",
      "  File \"../graphlearn/graphlearn.py\", line 296, in propose_single_cip\n",
      "    selected_cip = self.select_cip_for_substitution(graph)\n",
      "  File \"../graphlearn/graphlearn.py\", line 375, in select_cip_for_substitution\n",
      "    raise Exception('select_cip_for_substitution failed because no suiting interface was found, extract failed %d times ' % (failcount))\n",
      "Exception: select_cip_for_substitution failed because no suiting interface was found, extract failed 100 times \n",
      "\n",
      "select_cip_for_substitution failed because no suiting interface was found, extract failed 100 times \n",
      "INFO:log:select_cip_for_substitution failed because no suiting interface was found, extract failed 100 times \n",
      "DEBUG:log:Traceback (most recent call last):\n",
      "  File \"../graphlearn/graphlearn.py\", line 177, in _sample\n",
      "    candidate_graph = self.propose(graph)\n",
      "  File \"../graphlearn/graphlearn.py\", line 282, in propose\n",
      "    graph =  self.propose_single_cip(graph)\n",
      "  File \"../graphlearn/graphlearn.py\", line 296, in propose_single_cip\n",
      "    selected_cip = self.select_cip_for_substitution(graph)\n",
      "  File \"../graphlearn/graphlearn.py\", line 375, in select_cip_for_substitution\n",
      "    raise Exception('select_cip_for_substitution failed because no suiting interface was found, extract failed %d times ' % (failcount))\n",
      "Exception: select_cip_for_substitution failed because no suiting interface was found, extract failed 100 times \n",
      "\n",
      "select_cip_for_substitution failed because no suiting interface was found, extract failed 100 times \n",
      "INFO:log:select_cip_for_substitution failed because no suiting interface was found, extract failed 100 times \n",
      "DEBUG:log:Traceback (most recent call last):\n",
      "  File \"../graphlearn/graphlearn.py\", line 177, in _sample\n",
      "    candidate_graph = self.propose(graph)\n",
      "  File \"../graphlearn/graphlearn.py\", line 282, in propose\n",
      "    graph =  self.propose_single_cip(graph)\n",
      "  File \"../graphlearn/graphlearn.py\", line 296, in propose_single_cip\n",
      "    selected_cip = self.select_cip_for_substitution(graph)\n",
      "  File \"../graphlearn/graphlearn.py\", line 375, in select_cip_for_substitution\n",
      "    raise Exception('select_cip_for_substitution failed because no suiting interface was found, extract failed %d times ' % (failcount))\n",
      "Exception: select_cip_for_substitution failed because no suiting interface was found, extract failed 100 times \n",
      "\n",
      "select_cip_for_substitution failed because no suiting interface was found, extract failed 100 times \n",
      "INFO:log:select_cip_for_substitution failed because no suiting interface was found, extract failed 100 times \n",
      "DEBUG:log:Traceback (most recent call last):\n",
      "  File \"../graphlearn/graphlearn.py\", line 177, in _sample\n",
      "    candidate_graph = self.propose(graph)\n",
      "  File \"../graphlearn/graphlearn.py\", line 282, in propose\n",
      "    graph =  self.propose_single_cip(graph)\n",
      "  File \"../graphlearn/graphlearn.py\", line 296, in propose_single_cip\n",
      "    selected_cip = self.select_cip_for_substitution(graph)\n",
      "  File \"../graphlearn/graphlearn.py\", line 375, in select_cip_for_substitution\n",
      "    raise Exception('select_cip_for_substitution failed because no suiting interface was found, extract failed %d times ' % (failcount))\n",
      "Exception: select_cip_for_substitution failed because no suiting interface was found, extract failed 100 times \n",
      "\n",
      "select_cip_for_substitution failed because no suiting interface was found, extract failed 100 times \n",
      "INFO:log:select_cip_for_substitution failed because no suiting interface was found, extract failed 100 times \n",
      "DEBUG:log:Traceback (most recent call last):\n",
      "  File \"../graphlearn/graphlearn.py\", line 177, in _sample\n",
      "    candidate_graph = self.propose(graph)\n",
      "  File \"../graphlearn/graphlearn.py\", line 282, in propose\n",
      "    graph =  self.propose_single_cip(graph)\n",
      "  File \"../graphlearn/graphlearn.py\", line 296, in propose_single_cip\n",
      "    selected_cip = self.select_cip_for_substitution(graph)\n",
      "  File \"../graphlearn/graphlearn.py\", line 375, in select_cip_for_substitution\n",
      "    raise Exception('select_cip_for_substitution failed because no suiting interface was found, extract failed %d times ' % (failcount))\n",
      "Exception: select_cip_for_substitution failed because no suiting interface was found, extract failed 100 times \n",
      "\n",
      "select_cip_for_substitution failed because no suiting interface was found, extract failed 100 times \n",
      "INFO:log:select_cip_for_substitution failed because no suiting interface was found, extract failed 100 times \n",
      "DEBUG:log:Traceback (most recent call last):\n",
      "  File \"../graphlearn/graphlearn.py\", line 177, in _sample\n",
      "    candidate_graph = self.propose(graph)\n",
      "  File \"../graphlearn/graphlearn.py\", line 282, in propose\n",
      "    graph =  self.propose_single_cip(graph)\n",
      "  File \"../graphlearn/graphlearn.py\", line 296, in propose_single_cip\n",
      "    selected_cip = self.select_cip_for_substitution(graph)\n",
      "  File \"../graphlearn/graphlearn.py\", line 375, in select_cip_for_substitution\n",
      "    raise Exception('select_cip_for_substitution failed because no suiting interface was found, extract failed %d times ' % (failcount))\n",
      "Exception: select_cip_for_substitution failed because no suiting interface was found, extract failed 100 times \n",
      "\n",
      "select_cip_for_substitution failed because no suiting interface was found, extract failed 100 times \n",
      "INFO:log:select_cip_for_substitution failed because no suiting interface was found, extract failed 100 times \n",
      "DEBUG:log:Traceback (most recent call last):\n",
      "  File \"../graphlearn/graphlearn.py\", line 177, in _sample\n",
      "    candidate_graph = self.propose(graph)\n",
      "  File \"../graphlearn/graphlearn.py\", line 282, in propose\n",
      "    graph =  self.propose_single_cip(graph)\n",
      "  File \"../graphlearn/graphlearn.py\", line 296, in propose_single_cip\n",
      "    selected_cip = self.select_cip_for_substitution(graph)\n",
      "  File \"../graphlearn/graphlearn.py\", line 375, in select_cip_for_substitution\n",
      "    raise Exception('select_cip_for_substitution failed because no suiting interface was found, extract failed %d times ' % (failcount))\n",
      "Exception: select_cip_for_substitution failed because no suiting interface was found, extract failed 100 times \n",
      "\n"
     ]
    },
    {
     "name": "stdout",
     "output_type": "stream",
     "text": [
      "[array([ 0.63033253])]\n",
      "[array([ 0.36363988])]\n",
      "CPU times: user 5min 4s, sys: 10.5 s, total: 5min 14s\n",
      "Wall time: 10min 46s\n"
     ]
    },
    {
     "data": {
      "image/png": "[encoded data removed]",
      "text/plain": [
       "<matplotlib.figure.Figure at 0x7fceb3fc2810>"
      ]
     },
     "metadata": {},
     "output_type": "display_data"
    }
   ],
   "source": [
    "\n",
    "\n",
    "# ok we create an iterator over the graphs we want to work with... \n",
    "graphs_pos= sampler\n",
    "\n",
    "\n",
    "# save results here:\n",
    "originals=[]\n",
    "improved=[]\n",
    "\n",
    "# we want to use an increasing part of the test set.. \n",
    "percentages=[.01, .05, .12, .25, .5 ,1 ]\n",
    "percentages=[.1]\n",
    "\n",
    "sampler = GraphLearnSampler()\n",
    "\n",
    "for perc in percentages:\n",
    "    \n",
    "    # we work with count many graphs\n",
    "    count = int(lenpo*perc)\n",
    "    # make copy of graphiterator\n",
    "    # select count random elements\n",
    "    # triplicate  the count long iterator\n",
    "    graphs_pos, graphs_pos_ = itertools.tee(graphs_pos)\n",
    "  \n",
    "    # i pic only perc many for this run\n",
    "    graphs_pos_,trash = random_bipartition_iter(graphs_pos_, perc )\n",
    "    \n",
    "    graphs_pos_,graphs_pos__,graphs_pos___ = itertools.tee(graphs_pos_,3)\n",
    "\n",
    "\n",
    "    # do sampling\n",
    "    sampler.fit(graphs_pos__,n_jobs=4)\n",
    "\n",
    "    improved_graphs = sampler.sample( graphs_pos_,\n",
    "                        same_radius=False,\n",
    "                        same_core_size=False,\n",
    "                        sampling_interval=9999,\n",
    "                        select_cip_max_tries=100,\n",
    "                        batch_size=int(count/4)+1,\n",
    "                        n_steps=100,\n",
    "                        n_jobs=1,\n",
    "                        annealing_factor=0.9)\n",
    "\n",
    "    \n",
    "    \n",
    "    #calculate the score of the improved versions\n",
    "    #calculate score of the originals\n",
    "    avg_imp=sum( [estimator.decision_function(e) for e in vectorizer.transform(unpack(improved_graphs)) ] )/count\n",
    "    avg_ori=sum( [estimator.decision_function(e) for e in vectorizer.transform(graphs_pos___)] )/count\n",
    "    improved.append(avg_imp)\n",
    "    originals.append(avg_ori)\n",
    "\n",
    "\n",
    "t = range(len(percentages))\n",
    "# originals are blue\n",
    "# improved ones are green\n",
    "\n",
    "print originals\n",
    "print improved\n",
    "plt.plot(t,originals ,'bs')\n",
    "plt.plot(t, improved ,'g^')\n",
    "plt.savefig('zomg.png')\n",
    "\n",
    "\n",
    "\n"
   ]
  },
  {
   "cell_type": "code",
   "execution_count": 4,
   "metadata": {
    "collapsed": false
   },
   "outputs": [
    {
     "data": {
      "text/plain": [
       "0"
      ]
     },
     "execution_count": 4,
     "metadata": {},
     "output_type": "execute_result"
    }
   ],
   "source": [
    "'''\n",
    "inform me when done !\n",
    "'''\n",
    "import os\n",
    "os.system(\"( speaker-test -t sine -f 2000 )& pid=$! ; sleep 5.0s ; kill -9 $pid\")"
   ]
  },
  {
   "cell_type": "code",
   "execution_count": 10,
   "metadata": {
    "collapsed": false
   },
   "outputs": [
    {
     "name": "stdout",
     "output_type": "stream",
     "text": [
      "6\n",
      "0\n"
     ]
    }
   ],
   "source": [
    "def zomg():\n",
    "    for z in range(4):\n",
    "        yield z\n",
    "        \n",
    "import itertools\n",
    "\n",
    "def usor(z):\n",
    "    z,z1=itertools.tee(z)\n",
    "    s=0\n",
    "    for e in z:\n",
    "        s+=e\n",
    "    print s\n",
    "    \n",
    "z=zomg()\n",
    "usor(z)\n",
    "usor(z)\n"
   ]
  },
  {
   "cell_type": "code",
   "execution_count": null,
   "metadata": {
    "collapsed": true
   },
   "outputs": [],
   "source": []
  }
 ],
 "metadata": {
  "kernelspec": {
   "display_name": "Python 2",
   "language": "python",
   "name": "python2"
  },
  "language_info": {
   "codemirror_mode": {
    "name": "ipython",
    "version": 2
   },
   "file_extension": ".py",
   "mimetype": "text/x-python",
   "name": "python",
   "nbconvert_exporter": "python",
   "pygments_lexer": "ipython2",
   "version": "2.7.6"
  }
 },
 "nbformat": 4,
 "nbformat_minor": 0
}
