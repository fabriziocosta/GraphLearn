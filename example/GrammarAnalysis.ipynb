{
 "cells": [
  {
   "cell_type": "code",
   "execution_count": null,
   "metadata": {
    "collapsed": false
   },
   "outputs": [],
   "source": [
    "%load_ext autoreload\n",
    "%autoreload 2\n",
    "%matplotlib inline\n",
    "from eden.util import configure_logging\n",
    "import logging\n",
    "configure_logging(logging.getLogger(),verbosity=1)"
   ]
  },
  {
   "cell_type": "code",
   "execution_count": null,
   "metadata": {
    "collapsed": false
   },
   "outputs": [],
   "source": [
    "# get data\n",
    "from eden.converter.graph.gspan import gspan_to_eden\n",
    "from itertools import islice\n",
    "def get_graphs(dataset_fname, size=100):\n",
    "    return  islice(gspan_to_eden(dataset_fname),size)\n",
    "\n",
    "#dataset_names = !cat NCI60/names\n",
    "#dataset = dataset_names[3]\n",
    "#dataset_fname = 'NCI60/' + dataset + '_orig_pos.gspan'\n",
    "#print 'Working with dataset: %s' % dataset \n",
    "\n",
    "dataset_fname = 'bursi.pos.gspan'"
   ]
  },
  {
   "cell_type": "code",
   "execution_count": null,
   "metadata": {
    "collapsed": false,
    "scrolled": false
   },
   "outputs": [],
   "source": [
    "'''\n",
    "first we test the core/interface extractor, since it is most essential\n",
    "'''\n",
    "from graphlearn.utils.draw import  cip_to_drawable_graph, graphlearn_draw\n",
    "from graphlearn.graphtools import extract_core_and_interface\n",
    "\n",
    "from eden.graph import Vectorizer\n",
    "vectorizer=Vectorizer()\n",
    "\n",
    "#get a graph\n",
    "graphs = get_graphs(dataset_fname)\n",
    "graph = next(graphs)\n",
    "\n",
    "graphlearn_draw(graph, size=8, font_size=8, secondary_vertex_label='ID',\n",
    "        colormap='Paired', invert_colormap=False,node_border=0.5, vertex_color='_labels_',\n",
    "        vertex_alpha=0.7, node_size=900)\n",
    "\n",
    "radius_list=[0,2]\n",
    "thickness_list=[2,4]\n",
    "cip=extract_core_and_interface(1,graph,radius_list=radius_list,thickness_list=thickness_list,vectorizer=vectorizer)\n",
    "graph=cip_to_drawable_graph(cip)\n",
    "\n",
    "graphlearn_draw(graph,\n",
    "                          n_graphs_per_line=7, size=5, \n",
    "                          colormap='Paired', invert_colormap=False,node_border=1,\n",
    "                          vertex_alpha=0.6, edge_alpha=0.2, node_size=450)"
   ]
  },
  {
   "cell_type": "code",
   "execution_count": null,
   "metadata": {
    "collapsed": false,
    "scrolled": false
   },
   "outputs": [],
   "source": [
    "'''\n",
    "demonstrating more extract core\n",
    "'''\n",
    "from eden.converter.graph.gspan import gspan_to_eden\n",
    "from graphlearn.utils.draw import graphlearn_draw, cip_to_drawable_graph\n",
    "from graphlearn.graphtools import extract_core_and_interface\n",
    "from eden.graph import Vectorizer\n",
    "\n",
    "graphs = get_graphs(dataset_fname, size=5)\n",
    "for graph in graphs:\n",
    "    graphs_list=[]\n",
    "    for node in range(1,4):\n",
    "        cips = extract_core_and_interface(node,graph,radius_list=[2],thickness_list=[1],vectorizer=Vectorizer())\n",
    "        # draw cip on the original graph and save in nice_graphs\n",
    "        cip_graphs = cip_to_drawable_graph(cips)\n",
    "        for g,c in zip(cip_graphs,cips):\n",
    "            g.graph['info'] = str(c.interface_hash)\n",
    "        graphs_list += cip_graphs\n",
    "    # draw marked graphs\n",
    "    graphlearn_draw(graphs_list, contract=False,\n",
    "                              n_graphs_per_line=5, size=7, colormap='Paired', invert_colormap=False,node_border=1,\n",
    "                              vertex_alpha=0.6, edge_alpha=0.2, node_size=450)"
   ]
  },
  {
   "cell_type": "code",
   "execution_count": null,
   "metadata": {
    "collapsed": false
   },
   "outputs": [],
   "source": [
    "%%time\n",
    "'''\n",
    "induce a grammar and train an estimator\n",
    "'''\n",
    "from graphlearn.graphlearn import GraphLearnSampler\n",
    "training_graphs = get_graphs(dataset_fname, size=200)\n",
    "sampler=GraphLearnSampler(radius_list=[0,1],thickness_list=[2],\n",
    "                          min_cip_count=2, min_interface_count=2)\n",
    "sampler.fit(training_graphs,n_jobs=-1,batch_size=10)\n",
    "\n",
    "print('graph grammar stats:')\n",
    "interface_counts, core_counts, cip_counts = sampler.grammar().size()\n",
    "print('#interfaces: %d   #cores: %d   #core-interface-pairs: %d' % (interface_counts, core_counts, cip_counts))"
   ]
  },
  {
   "cell_type": "code",
   "execution_count": null,
   "metadata": {
    "collapsed": false,
    "scrolled": false
   },
   "outputs": [],
   "source": [
    "#draw production rules\n",
    "from graphlearn.utils.draw import draw_grammar\n",
    "draw_grammar(sampler.grammar().productions, contract=True,\n",
    "             n_productions=6,n_graphs_per_line=7, \n",
    "             size=3, colormap='Paired', node_border=1, vertex_alpha=0.7, edge_alpha=0.2, node_size=350)"
   ]
  },
  {
   "cell_type": "code",
   "execution_count": null,
   "metadata": {
    "collapsed": false,
    "scrolled": false
   },
   "outputs": [],
   "source": [
    "#grammar statistics\n",
    "from graphlearn.utils.draw import draw_grammar_stats\n",
    "draw_grammar_stats(sampler.grammar().productions, size=(10,5))"
   ]
  },
  {
   "cell_type": "code",
   "execution_count": null,
   "metadata": {
    "collapsed": false
   },
   "outputs": [],
   "source": [
    "'''\n",
    "Demonstrating the filter function\n",
    "'''\n",
    "#get a graph\n",
    "graphs = get_graphs(dataset_fname, size=1)\n",
    "graph = next(graphs)\n",
    "from eden.util import display\n",
    "print 'We work on this graph'\n",
    "display.draw_graph(graph, size=10, secondary_vertex_label='ID',\n",
    "                   colormap='Paired', invert_colormap=False,node_border=0.5, vertex_color='_labels_',\n",
    "                   vertex_alpha=0.5, node_size=650)\n",
    "\n",
    "from graphlearn.utils.draw import cip_to_drawable_graph, graphlearn_draw\n",
    "def mark_and_draw(cip):\n",
    "    graph=cip_to_drawable_graph(cip)\n",
    "    graphlearn_draw(graph, n_graphs_per_line=7, size=5,\n",
    "                              colormap='Paired', invert_colormap=False,node_border=1,\n",
    "                              vertex_alpha=0.6, edge_alpha=0.2, node_size=450)\n",
    "    \n",
    "radius_list=[0,1,2]\n",
    "thickness_list=[1,2]\n",
    "graph.node[1]['no_root']=True\n",
    "#lets see.. without filter:\n",
    "from graphlearn.graphtools import extract_core_and_interface, filter\n",
    "cip=extract_core_and_interface(1,graph,radius_list=radius_list,thickness_list=thickness_list,vectorizer=vectorizer)\n",
    "print 'no filter'\n",
    "mark_and_draw(cip)\n",
    "\n",
    "\n",
    "# lets do the same but with the filter\n",
    "cip=extract_core_and_interface(1,graph,filter=filter,radius_list=radius_list,thickness_list=thickness_list,vectorizer=vectorizer)\n",
    "print 'with filter: nothing should appear,,,'\n",
    "mark_and_draw(cip)\n",
    "\n",
    "# filter is ignoring unfiltered things:\n",
    "cip=extract_core_and_interface(2,graph,filter=filter,radius_list=radius_list,thickness_list=thickness_list,vectorizer=vectorizer)\n",
    "print 'with filter but we chose node 2 as root'\n",
    "mark_and_draw(cip)\n",
    "\n",
    "# no core attribute\n",
    "graph.node[1][\"not_in_core\"]=True\n",
    "graph.node[1].pop('no_root')\n",
    "cip=extract_core_and_interface(2,graph,filter=filter,radius_list=radius_list,thickness_list=thickness_list,vectorizer=vectorizer)\n",
    "print 'with filter but node \"1\" cant be part of a core, we gave 0 and 2 as radius list and only radius 2 will show up'\n",
    "mark_and_draw(cip)"
   ]
  },
  {
   "cell_type": "markdown",
   "metadata": {},
   "source": [
    "."
   ]
  }
 ],
 "metadata": {
  "kernelspec": {
   "display_name": "Python 2",
   "language": "python",
   "name": "python2"
  },
  "language_info": {
   "codemirror_mode": {
    "name": "ipython",
    "version": 2
   },
   "file_extension": ".py",
   "mimetype": "text/x-python",
   "name": "python",
   "nbconvert_exporter": "python",
   "pygments_lexer": "ipython2",
   "version": "2.7.9"
  }
 },
 "nbformat": 4,
 "nbformat_minor": 0
}
