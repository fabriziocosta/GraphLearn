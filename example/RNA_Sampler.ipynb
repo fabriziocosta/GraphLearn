{
 "cells": [
  {
   "cell_type": "code",
   "execution_count": null,
   "metadata": {
    "collapsed": false
   },
   "outputs": [],
   "source": [
    "%load_ext autoreload\n",
    "%autoreload 2"
   ]
  },
  {
   "cell_type": "code",
   "execution_count": null,
   "metadata": {
    "collapsed": false
   },
   "outputs": [],
   "source": [
    "from eden.util import configure_logging\n",
    "import logging\n",
    "configure_logging(logging.getLogger(),verbosity=2)\n",
    "%matplotlib inline\n",
    "!pwd\n",
    "import random\n",
    "random.seed(31337)"
   ]
  },
  {
   "cell_type": "code",
   "execution_count": null,
   "metadata": {
    "collapsed": false
   },
   "outputs": [],
   "source": [
    "'''\n",
    "somehow we need to get RNA data...\n",
    "'''\n",
    "from eden.converter.fasta import fasta_to_sequence\n",
    "from eden.converter.rna.rnafold import rnafold_to_eden\n",
    "import graphlearn.abstract_graphs.rnasampler as rspl\n",
    "from eden.graph import Vectorizer\n",
    "def rfam_uri(family_id):\n",
    "    return 'http://rfam.xfam.org/family/%s/alignment?acc=%s&format=fastau&download=0'%(family_id,family_id)\n",
    "\n",
    "def rfam_uri(family_id):\n",
    "    return '%s.fa'%(family_id)\n",
    "\n",
    "\n",
    "def get_graphs(rfam_id = 'RF00005'):\n",
    "    seqs = fasta_to_sequence(rfam_uri(rfam_id))\n",
    "    graphs = rnafold_to_eden(seqs, shape_type=5, energy_range=30, max_num=3)\n",
    "    return graphs\n",
    "\n",
    "\n",
    "vectorizer=Vectorizer()\n",
    "\n",
    "def get_directed_graphs(rfam_id = 'RF00005'):\n",
    "    for g in get_graphs(rfam_id):\n",
    "        g=vectorizer._edge_to_vertex_transform(g)\n",
    "        yield rspl.expanded_rna_graph_to_digraph(g)\n",
    "\n"
   ]
  },
  {
   "cell_type": "code",
   "execution_count": null,
   "metadata": {
    "collapsed": false
   },
   "outputs": [],
   "source": [
    "\n",
    "graphs=get_directed_graphs()\n",
    "\n"
   ]
  },
  {
   "cell_type": "code",
   "execution_count": null,
   "metadata": {
    "collapsed": false,
    "scrolled": false
   },
   "outputs": [],
   "source": [
    "g=graphs.next()\n",
    "from graphlearn.utils import draw\n",
    "\n",
    "# note: show direction doesnt work?\n",
    "draw.draw_center(g,root_node=0,radius=99,show_direction=True,contract=False, size = 10,vertex_label='id')\n",
    "\n",
    "\n",
    "import graphlearn.abstract_graphs.rnasampler as rspl\n",
    "g= rspl.direct_abstractor(g,4)\n",
    "\n",
    "from graphlearn.utils import draw\n",
    "for n,d in g.nodes(data=True):\n",
    "    d['contr']= str(d.get('contracted', ''))                    \n",
    "draw.graphlearn_draw(g, size = 10,vertex_label = 'contr')\n",
    "\n"
   ]
  },
  {
   "cell_type": "code",
   "execution_count": null,
   "metadata": {
    "collapsed": false
   },
   "outputs": [],
   "source": [
    "'''\n",
    "1. MAKE SURE THAT WE CAN EXTRACT DIRECTED CIPS\n",
    "'''\n",
    "%matplotlib inline\n",
    "from eden.converter.graph.gspan import gspan_to_eden\n",
    "from graphlearn import graphtools as gt\n",
    "import graphlearn.utils.draw as myutils\n",
    "import eden.graph as eg\n",
    "import graphlearn.graphlearn as gl\n",
    "import numpy as np\n",
    "#from eden.util.display import graphlearn_draw\n",
    "\n",
    "#get a graph\n",
    "graphs = get_directed_graphs()\n",
    "graph=graphs.next()\n",
    "\n",
    "\n",
    "def mark_and_draw(cip):\n",
    "    graph=myutils.cip_to_drawable_graph(cip)\n",
    "    myutils.draw_graph_set_graphlearn(graph, \n",
    "                           n_graphs_per_line=7, size=5, \n",
    "                           colormap='Paired', invert_colormap=False,node_border=1,\n",
    "                           vertex_alpha=0.6, edge_alpha=0.2, node_size=450)\n",
    "    \n",
    "radius_list=[0,2]\n",
    "thickness_list=[2,4]\n",
    "cip=gl.extract_core_and_interface(1,graph,radius_list=radius_list,thickness_list=thickness_list)\n",
    "#mark_and_draw(cip)\n",
    "myutils.graphlearn_draw(  cip[0].graph, contract=False)\n",
    "myutils.graphlearn_draw(cip[0].graph,edge_label=None)"
   ]
  },
  {
   "cell_type": "code",
   "execution_count": null,
   "metadata": {
    "collapsed": false,
    "scrolled": false
   },
   "outputs": [],
   "source": [
    "%%time\n",
    "'''\n",
    "getting the grammar is the same as in the UberSampler so there is nothing interesting here..\n",
    "if you need to debug do so in the UberSampler\n",
    "'''\n",
    "import os \n",
    "os.nice(20)\n",
    "%matplotlib inline\n",
    "import graphlearn.utils.draw as myutils\n",
    "import graphlearn.abstract_graphs.rnasampler as rspl\n",
    "import itertools\n",
    "import graphlearn.localsubstitutablegraphgrammar as grammar\n",
    "\n",
    "\n",
    "# learn a grammar\n",
    "graphs = get_directed_graphs()\n",
    "graphs = itertools.islice(graphs,100)\n",
    "\n",
    "\n",
    "sampler=rspl.RNASampler(radius_list=[0,1],thickness_list=[1],base_thickness_list=[.5], min_cip_count=1, min_interface_count=2)\n",
    "sampler.fit(graphs,n_jobs=4,batch_size=1)\n",
    "sampler.save('tmp/rna_ubergrammar.ge')"
   ]
  },
  {
   "cell_type": "code",
   "execution_count": null,
   "metadata": {
    "collapsed": false,
    "scrolled": false
   },
   "outputs": [],
   "source": [
    "#draw production rules\n",
    "myutils.draw_grammar(sampler.lsgg.productions,n_productions=5,n_graphs_per_production=10,\n",
    "                     n_graphs_per_line=6, size=10, contract=False,\n",
    "                     colormap='Paired', invert_colormap=False,node_border=1,\n",
    "                     vertex_alpha=0.6, edge_alpha=0.5, node_size=250)\n",
    "\n",
    "    "
   ]
  },
  {
   "cell_type": "code",
   "execution_count": null,
   "metadata": {
    "collapsed": false,
    "scrolled": false
   },
   "outputs": [],
   "source": [
    "%%time\n",
    "'''\n",
    "RNA sampling\n",
    "'''\n",
    "import os\n",
    "os.nice(19)\n",
    "\n",
    "#import mpld3\n",
    "#mpld3.enable_notebook()\n",
    "import graphlearn.utils.draw as myutils\n",
    "import graphlearn.abstract_graphs.rnasampler as rspl\n",
    "from eden.converter.graph.gspan import gspan_to_eden\n",
    "import itertools\n",
    "import matplotlib.pyplot as plt\n",
    "import graphlearn.utils.draw as myutils\n",
    "import eden.graph as ge\n",
    "\n",
    "sampler=rspl.RNASampler()\n",
    "sampler.load('tmp/rna_ubergrammar.ge')\n",
    "graphs = get_graphs()\n",
    "\n",
    "id_start=15\n",
    "id_end=id_start+9\n",
    "graphs = itertools.islice(graphs,id_start,id_end)\n",
    "n_steps=50\n",
    "\n",
    "\n",
    "def rm_bonds(graphs):\n",
    "    for graph in graphs:\n",
    "        graph=graph.copy()\n",
    "        bonds= [ (a,b) for a,b,d in graph.edges(data=True) if d['label']== '=' ]\n",
    "        graph.remove_edges_from(bonds)\n",
    "        yield graph\n",
    "\n",
    "graphs = sampler.sample(graphs,\n",
    "                        n_samples=7,\n",
    "                        batch_size=1,\n",
    "                        n_steps=n_steps,\n",
    "                        n_jobs=1,\n",
    "                        quick_skip_orig_cip=True,\n",
    "                        probabilistic_core_choice=True,\n",
    "                        burnin=0,\n",
    "                        improving_threshold=0.5,\n",
    "                        select_cip_max_tries=200,\n",
    "                        keep_duplicates=True)\n",
    "\n",
    "from eden.modifier.graph.vertex_attributes import colorize   \n",
    "scores=[]\n",
    "ids=range(id_start,id_end)\n",
    "for i,graph in enumerate(graphs):\n",
    "    print 'Graph id: %d'%(ids[i])\n",
    "    scores.append(graph.graph['sampling_info']['score_history'])\n",
    "    path_graphs = graph.graph['sampling_info']['graphs_history']\n",
    "    \n",
    "    path_graphs = colorize(path_graphs,\n",
    "                           output_attribute = 'color_level', \n",
    "                           labels = ['A','U','G','C'])\n",
    "    path_graphs= list(path_graphs)\n",
    "    #myutils.draw_graph_set(rm_bonds(path_graphs), size=10)\n",
    "    myutils.graphlearn_draw(path_graphs,\n",
    "                           n_graphs_per_line=3, size=20, \n",
    "                           colormap='Paired', invert_colormap=False,node_border=0.5, vertex_color='color_level',\n",
    "                           vertex_alpha=0.5, edge_alpha=0.7, node_size=450,edge_label='label',\n",
    "                          headlinehook= myutils.get_score_of_graph\n",
    "                          )\n",
    "    "
   ]
  },
  {
   "cell_type": "code",
   "execution_count": null,
   "metadata": {
    "collapsed": false
   },
   "outputs": [],
   "source": [
    "%matplotlib inline\n",
    "from itertools import islice\n",
    "import numpy as np\n",
    "\n",
    "step=1\n",
    "num_graphs_per_plot=3\n",
    "num_plots=np.ceil([len(scores)/num_graphs_per_plot])\n",
    "for i in range(num_plots):\n",
    "    plt.figure(figsize=(10,5))\n",
    "    for j,score in enumerate(scores[i*num_graphs_per_plot:i*num_graphs_per_plot+num_graphs_per_plot]):\n",
    "        data = list(islice(score,None, None, step))\n",
    "        plt.plot(data, label='graph %d'%(j+i*num_graphs_per_plot+id_start))\n",
    "    plt.legend(loc='lower right')\n",
    "    plt.grid()\n",
    "    plt.ylim(-0.1,1.1)\n",
    "    plt.show()"
   ]
  },
  {
   "cell_type": "code",
   "execution_count": null,
   "metadata": {
    "collapsed": false
   },
   "outputs": [],
   "source": [
    "\n",
    "import networkx as nx\n",
    "import graphlearn.utils.draw as draw\n",
    "from eden.graph import Vectorizer\n",
    "\n",
    "v=Vectorizer()\n",
    "def getpathgraph(labels):\n",
    "    nlabels= len(labels)\n",
    "    G=nx.path_graph(nlabels)\n",
    "    for e in range(nlabels):\n",
    "        G.node[e]['label']=labels[e]\n",
    "    for e in range(nlabels-1):\n",
    "        G.edge[e][e+1]['label']='.'\n",
    "    return G\n",
    "\n",
    "g=getpathgraph(\"ABC\")\n",
    "\n",
    "g= v._edge_to_vertex_transform(g)\n",
    "\n",
    "draw.graphlearn_draw(g,contract=False,show_direction=True)\n",
    "\n",
    "g2=nx.DiGraph(g)\n",
    "#draw.display(g2,contract=False,vertex_label='id')\n",
    "\n",
    "for n,d in g2.nodes(data=True):\n",
    "    if 'edge' in d:\n",
    "        if d['label']=='.':\n",
    "            ns=g2.neighbors(n)\n",
    "            g2.remove_edge(ns[1],n)\n",
    "            g2.remove_edge(n,ns[0])\n",
    "          \n",
    "       \n",
    "#g2 = g2.to_undirected()\n",
    "draw.graphlearn_draw(g2,contract=False,vertex_label='id',show_direction=True)\n",
    "g2.edges()\n",
    "for n in g2.nodes():\n",
    "    print n,g2.neighbors(n)\n",
    "print isinstance(g2, nx.DiGraph) "
   ]
  },
  {
   "cell_type": "code",
   "execution_count": null,
   "metadata": {
    "collapsed": false
   },
   "outputs": [],
   "source": [
    "g2.edges(0,data=True)"
   ]
  },
  {
   "cell_type": "code",
   "execution_count": null,
   "metadata": {
    "collapsed": false
   },
   "outputs": [],
   "source": [
    "asd = g2.subgraph(range(2)).copy()"
   ]
  },
  {
   "cell_type": "code",
   "execution_count": null,
   "metadata": {
    "collapsed": false
   },
   "outputs": [],
   "source": []
  },
  {
   "cell_type": "code",
   "execution_count": null,
   "metadata": {
    "collapsed": false
   },
   "outputs": [],
   "source": [
    "class A(object):\n",
    "    def __init__(self,a=123):\n",
    "        self.a=a\n",
    "        \n",
    "        \n",
    "class B(A):\n",
    "    def __init__(self,b=122):\n",
    "        super(B,self).__init__(b)\n",
    "        \n",
    "        \n",
    "\n",
    "class C(A):\n",
    "    def __init__(self,c=121):\n",
    "        super(C,self).__init__(c)\n",
    "        \n",
    "        \n",
    "c=C()\n",
    "c.a\n",
    "        \n",
    "        \n",
    "        \n",
    "    \n",
    "    "
   ]
  },
  {
   "cell_type": "code",
   "execution_count": null,
   "metadata": {
    "collapsed": true
   },
   "outputs": [],
   "source": []
  }
 ],
 "metadata": {
  "kernelspec": {
   "display_name": "Python 2",
   "language": "python",
   "name": "python2"
  },
  "language_info": {
   "codemirror_mode": {
    "name": "ipython",
    "version": 2
   },
   "file_extension": ".py",
   "mimetype": "text/x-python",
   "name": "python",
   "nbconvert_exporter": "python",
   "pygments_lexer": "ipython2",
   "version": "2.7.9"
  }
 },
 "nbformat": 4,
 "nbformat_minor": 0
}
