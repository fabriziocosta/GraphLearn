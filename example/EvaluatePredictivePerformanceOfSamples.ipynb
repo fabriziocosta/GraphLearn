{
 "cells": [
  {
   "cell_type": "code",
   "execution_count": 1,
   "metadata": {
    "collapsed": false
   },
   "outputs": [],
   "source": [
    "%load_ext autoreload\n",
    "%autoreload 2"
   ]
  },
  {
   "cell_type": "code",
   "execution_count": 2,
   "metadata": {
    "collapsed": true
   },
   "outputs": [],
   "source": [
    "from eden.util import configure_logging\n",
    "import logging\n",
    "configure_logging(logging.getLogger(),verbosity=1)"
   ]
  },
  {
   "cell_type": "code",
   "execution_count": null,
   "metadata": {
    "collapsed": false
   },
   "outputs": [],
   "source": [
    "'''\n",
    "second performance test\n",
    "'''\n",
    "%time\n",
    "import sys\n",
    "sys.path.append('..')\n",
    "%matplotlib inline\n",
    "# you might need this:\n",
    "#import matplotlib\n",
    "#matplotlib.use('Agg')\n",
    "\n",
    "from eden.converter.graph.gspan import gspan_to_eden\n",
    "from graphlearn.graphlearn import GraphLearnSampler\n",
    "import itertools\n",
    "from eden.graph import Vectorizer\n",
    "import matplotlib.pyplot as plt\n",
    "\n",
    "from eden.util import fit_estimator,fit , random_bipartition_iter,estimate\n",
    "import random\n",
    "from eden.util import selection_iterator as picker\n",
    "from sklearn.linear_model import SGDClassifier\n",
    "\n",
    "vect=Vectorizer(complexity = 3)\n",
    "#2401 positives and 1936 negatives\n",
    "NUMPOS=2401\n",
    "NUMNEG=1936\n",
    "\n",
    "######################## testing ##############################\n",
    "\n",
    "def train_estimator_and_evaluate_testsets(pos_original,neg_original,pos_augmented,neg_augmented,test_pos,test_neg):\n",
    "\n",
    "    # create graph sets...orig augmented and sampled\n",
    "    pos_orig,pos_orig_ = itertools.tee(pos_original,2)\n",
    "    neg_orig,neg_orig_ = itertools.tee(neg_original,2)\n",
    "    \n",
    "    pos_augmented , pos_sampled = itertools.tee(pos_augmented)\n",
    "    neg_augmented , neg_sampled = itertools.tee(neg_augmented)\n",
    "    \n",
    "    pos_augmented = itertools.chain(pos_augmented,pos_orig_)\n",
    "    neg_augmented = itertools.chain(neg_augmented,neg_orig_)\n",
    "\n",
    "    res=[]\n",
    "    for desc,iterpos,iterneg in [('orignal',pos_orig, neg_orig),( 'original+sample',pos_augmented, neg_augmented),('sample',pos_sampled,neg_sampled)]:\n",
    "        print 'working on %s'%desc\n",
    "        test_pos,p=itertools.tee(test_pos)\n",
    "        test_neg,n=itertools.tee(test_neg)\n",
    "        res.append(estimate(p,n,fit(iterpos,iterneg,vect,n_jobs=-1),vect)[1])\n",
    "    return res\n",
    "\n",
    "\n",
    "\n",
    "\n",
    "def sample(graphs):\n",
    "    sampler =GraphLearnSampler(radius_list=[1,2],thickness_list=[1,2])\n",
    "    graphs, graphs_ = itertools.tee(graphs)\n",
    "    sampler.fit(graphs,n_jobs=-1, core_interface_pair_remove_threshold=3, interface_remove_threshold=3)\n",
    "    return sampler.sample(graphs_,\n",
    "                        same_radius=False,\n",
    "                        same_core_size=True,\n",
    "                        sampling_interval=9999,\n",
    "                        select_cip_max_tries=200,\n",
    "                        batch_size=30,\n",
    "                        n_steps=10,\n",
    "                        n_jobs=-1,\n",
    "                        annealing_factor=0.9)"
   ]
  },
  {
   "cell_type": "code",
   "execution_count": null,
   "metadata": {
    "collapsed": false
   },
   "outputs": [
    {
     "name": "stdout",
     "output_type": "stream",
     "text": [
      "CPU times: user 2 µs, sys: 1 µs, total: 3 µs\n",
      "Wall time: 5.01 µs\n"
     ]
    },
    {
     "name": "stderr",
     "output_type": "stream",
     "text": [
      "/Library/Python/2.7/site-packages/sklearn/calibration.py:398: RuntimeWarning: overflow encountered in exp\n",
      "  E = np.exp(AB[0] * F + AB[1])\n",
      "/Library/Python/2.7/site-packages/sklearn/calibration.py:408: RuntimeWarning: overflow encountered in exp\n",
      "  E = np.exp(AB[0] * F + AB[1])\n",
      "/Library/Python/2.7/site-packages/sklearn/calibration.py:410: RuntimeWarning: invalid value encountered in multiply\n",
      "  TEP_minus_T1P = P * (T * E - T1)\n"
     ]
    },
    {
     "name": "stdout",
     "output_type": "stream",
     "text": [
      "evaluating..\n",
      "Test set\n",
      "Instances: 3730 ; Features: 1048577 with an avg of 179 features per instance\n",
      "--------------------------------------------------------------------------------\n",
      "Test Estimate\n",
      "             precision    recall  f1-score   support\n",
      "\n",
      "         -1       0.74      0.77      0.75      1665\n",
      "          1       0.81      0.78      0.79      2065\n",
      "\n",
      "avg / total       0.78      0.78      0.78      3730\n",
      "\n",
      "APR: 0.882\n",
      "ROC: 0.857\n",
      "select_cip_for_substitution failed because no suiting interface was found, extract failed 100 times \n",
      "select_cip_for_substitution failed because no suiting interface was found, extract failed 100 times \n",
      "select_cip_for_substitution failed because no suiting interface was found, extract failed 100 times \n",
      "propose failed.. reason is that propose_single_cip failed.\n",
      "Test set\n",
      "Instances: 3730 ; Features: 1048577 with an avg of 179 features per instance\n",
      "--------------------------------------------------------------------------------\n",
      "Test Estimate\n",
      "             precision    recall  f1-score   support\n",
      "\n",
      "         -1       0.75      0.75      0.75      1665\n",
      "          1       0.80      0.80      0.80      2065\n",
      "\n",
      "avg / total       0.78      0.78      0.78      3730\n",
      "\n",
      "APR: 0.879\n",
      "ROC: 0.856\n",
      "Test set\n",
      "Instances: 3730 ; Features: 1048577 with an avg of 179 features per instance\n",
      "--------------------------------------------------------------------------------\n",
      "Test Estimate\n",
      "             precision    recall  f1-score   support\n",
      "\n",
      "         -1       0.00      0.00      0.00      1665\n",
      "          1       0.55      1.00      0.71      2065\n",
      "\n",
      "avg / total       0.31      0.55      0.39      3730\n",
      "\n",
      "APR: 0.549\n",
      "ROC: 0.477\n",
      "done:0.2\n",
      "********************************************************************************\n"
     ]
    },
    {
     "name": "stderr",
     "output_type": "stream",
     "text": [
      "/Library/Python/2.7/site-packages/sklearn/metrics/classification.py:958: UndefinedMetricWarning: Precision and F-score are ill-defined and being set to 0.0 in labels with no predicted samples.\n",
      "  'precision', 'predicted', average, warn_for)\n"
     ]
    },
    {
     "name": "stdout",
     "output_type": "stream",
     "text": [
      "evaluating..\n",
      "Test set\n",
      "Instances: 3123 ; Features: 1048577 with an avg of 180 features per instance\n",
      "--------------------------------------------------------------------------------\n",
      "Test Estimate\n",
      "             precision    recall  f1-score   support\n",
      "\n",
      "         -1       0.78      0.82      0.80      1394\n",
      "          1       0.85      0.81      0.83      1729\n",
      "\n",
      "avg / total       0.82      0.81      0.81      3123\n",
      "\n",
      "APR: 0.901\n",
      "ROC: 0.884\n"
     ]
    }
   ],
   "source": [
    "%time\n",
    "\n",
    "# initializing \n",
    "graphs_pos= gspan_to_eden('bursi.pos.gspan')\n",
    "graphs_neg= gspan_to_eden('bursi.neg.gspan')\n",
    "originals=[]\n",
    "improved=[]\n",
    "only_new=[]\n",
    "\n",
    "percentages=[.1, .2,.4,.6,.8,1]\n",
    "\n",
    "for perc in percentages:\n",
    "\n",
    "    ######### first we generate all the iterators ###########\n",
    "    # copy the mega set\n",
    "    graphs_pos, graphs_pos_ = itertools.tee(graphs_pos,2)\n",
    "    graphs_neg, graphs_neg_ = itertools.tee(graphs_neg,2)\n",
    "\n",
    "\n",
    "    # use shuffled list to create test and sample set\n",
    "    pos,pos_test = random_bipartition_iter(graphs_pos_,0.7*perc)\n",
    "    pos,pos_= itertools.tee(pos)\n",
    "    neg,neg_test = random_bipartition_iter(graphs_neg_,0.7*perc)\n",
    "    neg,neg_= itertools.tee(neg)\n",
    " \n",
    "    ############### then we sample #####################\n",
    "    sampled_neg= sample(neg)\n",
    "    sampled_pos= sample(pos)\n",
    "    \n",
    "    \n",
    "    ######### and last we evaluate ###########\n",
    "    print \"training perc:\"+str(perc)\n",
    "    print \"*\"*80\n",
    "    aug,ori,new=train_estimator_and_evaluate_testsets( pos_,neg_,sampled_pos, sampled_neg, pos_test,neg_test)\n",
    "    improved.append(aug)\n",
    "    originals.append(ori)\n",
    "    only_new.append(new)\n"
   ]
  },
  {
   "cell_type": "code",
   "execution_count": null,
   "metadata": {
    "collapsed": false
   },
   "outputs": [],
   "source": [
    "print 'original+sample:',improved\n",
    "print 'original:',originals\n",
    "print 'sample:',only_new\n",
    "\n",
    "# draw \n",
    "plt.plot(originals ,'bs')\n",
    "plt.plot(improved ,'r^')\n",
    "plt.plot(only_new ,'gs')\n",
    "plt.savefig('results.pdf')"
   ]
  }
 ],
 "metadata": {
  "kernelspec": {
   "display_name": "Python 2",
   "language": "python",
   "name": "python2"
  },
  "language_info": {
   "codemirror_mode": {
    "name": "ipython",
    "version": 2
   },
   "file_extension": ".py",
   "mimetype": "text/x-python",
   "name": "python",
   "nbconvert_exporter": "python",
   "pygments_lexer": "ipython2",
   "version": "2.7.6"
  }
 },
 "nbformat": 4,
 "nbformat_minor": 0
}
