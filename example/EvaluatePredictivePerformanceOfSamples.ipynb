{
 "cells": [
  {
   "cell_type": "code",
   "execution_count": 31,
   "metadata": {
    "collapsed": false
   },
   "outputs": [
    {
     "name": "stdout",
     "output_type": "stream",
     "text": [
      "The autoreload extension is already loaded. To reload it, use:\n",
      "  %reload_ext autoreload\n"
     ]
    }
   ],
   "source": [
    "%load_ext autoreload\n",
    "%autoreload 2"
   ]
  },
  {
   "cell_type": "code",
   "execution_count": 32,
   "metadata": {
    "collapsed": true
   },
   "outputs": [],
   "source": [
    "%matplotlib inline\n",
    "import matplotlib.pyplot as plt"
   ]
  },
  {
   "cell_type": "code",
   "execution_count": 33,
   "metadata": {
    "collapsed": true
   },
   "outputs": [],
   "source": [
    "from eden.util import configure_logging\n",
    "import logging\n",
    "configure_logging(logging.getLogger(),verbosity=1)"
   ]
  },
  {
   "cell_type": "code",
   "execution_count": 34,
   "metadata": {
    "collapsed": true
   },
   "outputs": [],
   "source": [
    "from itertools import tee, chain, islice\n",
    "import numpy as np\n",
    "import random\n",
    "from time import time"
   ]
  },
  {
   "cell_type": "code",
   "execution_count": 35,
   "metadata": {
    "collapsed": true
   },
   "outputs": [],
   "source": [
    "from eden.converter.graph.gspan import gspan_to_eden\n",
    "def get_graphs(dataset_fname, size=200):\n",
    "    return  islice(gspan_to_eden(dataset_fname),size)"
   ]
  },
  {
   "cell_type": "code",
   "execution_count": null,
   "metadata": {
    "collapsed": false
   },
   "outputs": [],
   "source": [
    "from graphlearn.graphlearn import GraphLearnSampler\n",
    "from eden.util import fit,estimate\n",
    "from eden.graph import Vectorizer\n",
    "\n",
    "\n",
    "def fit_and_evaluate(pos_original, neg_original,\n",
    "                     pos_augmented, neg_augmented,\n",
    "                     pos_test, neg_test):\n",
    "    # create graph sets...orig augmented and sampled\n",
    "    pos_orig,pos_orig_ = tee(pos_original)\n",
    "    neg_orig,neg_orig_ = tee(neg_original)\n",
    "    \n",
    "    pos_augmented , pos_sampled = tee(pos_augmented)\n",
    "    neg_augmented , neg_sampled = tee(neg_augmented)\n",
    "    \n",
    "    pos_augmented = chain(pos_augmented,pos_orig_)\n",
    "    neg_augmented = chain(neg_augmented,neg_orig_)\n",
    "\n",
    "    predictive_performances = []\n",
    "    for desc,pos_train,neg_train in [('original',pos_orig, neg_orig),( 'original+sample',pos_augmented, neg_augmented),('sample',pos_sampled,neg_sampled)]:\n",
    "        pos_train,pos_train_ = tee(pos_train)\n",
    "        neg_train,neg_train_ = tee(neg_train)\n",
    "        pos_size=sum(1 for x in pos_train_)\n",
    "        neg_size=sum(1 for x in neg_train_)\n",
    "        start=time()\n",
    "        print \"-\"*80\n",
    "        print 'working on %s'%(desc)\n",
    "        print 'training set sizes: #pos: %d #neg: %d'%(pos_size, neg_size)\n",
    "        pos_test,pos_test_ = tee(pos_test)\n",
    "        neg_test,neg_test_ = tee(neg_test)\n",
    "        local_estimator = fit(pos_train, neg_train, Vectorizer(2), n_jobs=-1, n_iter_search=1)\n",
    "        apr, roc = estimate(pos_test_, neg_test_, local_estimator, Vectorizer(2))\n",
    "        predictive_performances.append(roc)\n",
    "        print 'elapsed: %.1f sec'%(time()-start)\n",
    "    return predictive_performances\n",
    "\n",
    "\n",
    "def sample(graphs):\n",
    "    graphs, graphs_ = tee(graphs)\n",
    "    sampler=GraphLearnSampler(radius_list=[0,1,2],thickness_list=[2,3],\n",
    "                              min_cip_count=1, min_interface_count=1)\n",
    "    sampler.fit(graphs, n_jobs=1)\n",
    "    graphs = sampler.sample(graphs_,\n",
    "                            same_radius=False,\n",
    "                            same_core_size=True,\n",
    "                            n_samples=2, n_steps=4,\n",
    "                            n_jobs=-1,\n",
    "                            accept_annealing_factor=1.2,\n",
    "                            probabilistic_core_choice=True,\n",
    "                            generator_mode=True,\n",
    "                            select_cip_max_tries=200,\n",
    "                            keep_duplicates=True)\n",
    "    return graphs"
   ]
  },
  {
   "cell_type": "code",
   "execution_count": null,
   "metadata": {
    "collapsed": false,
    "scrolled": true
   },
   "outputs": [
    {
     "name": "stdout",
     "output_type": "stream",
     "text": [
      "CPU times: user 2 µs, sys: 0 ns, total: 2 µs\n",
      "Wall time: 5.01 µs\n",
      "================================================================================\n",
      "repetition: 0/10\n",
      "training percentage:0.2\n",
      "--------------------------------------------------------------------------------\n",
      "working on original\n",
      "training set sizes: #pos: 24 #neg: 24\n",
      "Test set\n",
      "Instances: 160 ; Features: 1048577 with an avg of 81 features per instance\n",
      "--------------------------------------------------------------------------------\n",
      "Test Estimate\n",
      "             precision    recall  f1-score   support\n",
      "\n",
      "         -1       0.56      0.62      0.59        80\n",
      "          1       0.57      0.50      0.53        80\n",
      "\n",
      "avg / total       0.56      0.56      0.56       160\n",
      "\n",
      "APR: 0.656\n",
      "ROC: 0.685\n",
      "elapsed: 2.3 sec\n",
      "--------------------------------------------------------------------------------\n",
      "working on original+sample\n",
      "training set sizes: #pos: 67 #neg: 66\n",
      "printing le errer\n",
      "grammar\n",
      "candidates\n",
      "Test set\n",
      "Instances: 160 ; Features: 1048577 with an avg of 81 features per instance\n",
      "--------------------------------------------------------------------------------\n",
      "Test Estimate\n",
      "             precision    recall  f1-score   support\n",
      "\n",
      "         -1       0.62      0.66      0.64        80\n",
      "          1       0.64      0.60      0.62        80\n",
      "\n",
      "avg / total       0.63      0.63      0.63       160\n",
      "\n",
      "APR: 0.677\n",
      "ROC: 0.678\n",
      "elapsed: 3.2 sec\n",
      "--------------------------------------------------------------------------------\n",
      "working on sample\n",
      "training set sizes: #pos: 43 #neg: 42\n",
      "Test set\n",
      "Instances: 160 ; Features: 1048577 with an avg of 81 features per instance\n",
      "--------------------------------------------------------------------------------\n",
      "Test Estimate\n",
      "             precision    recall  f1-score   support\n",
      "\n",
      "         -1       0.62      0.56      0.59        80\n",
      "          1       0.60      0.65      0.62        80\n",
      "\n",
      "avg / total       0.61      0.61      0.61       160\n",
      "\n",
      "APR: 0.646\n",
      "ROC: 0.635\n",
      "elapsed: 2.2 sec\n",
      "================================================================================\n",
      "repetition: 1/10\n",
      "training percentage:0.2\n",
      "--------------------------------------------------------------------------------\n",
      "working on original\n",
      "training set sizes: #pos: 24 #neg: 24\n",
      "Test set\n",
      "Instances: 160 ; Features: 1048577 with an avg of 81 features per instance\n",
      "--------------------------------------------------------------------------------\n",
      "Test Estimate\n",
      "             precision    recall  f1-score   support\n",
      "\n",
      "         -1       0.58      0.76      0.66        80\n",
      "          1       0.65      0.44      0.52        80\n",
      "\n",
      "avg / total       0.61      0.60      0.59       160\n",
      "\n",
      "APR: 0.686\n",
      "ROC: 0.723\n",
      "elapsed: 2.5 sec\n"
     ]
    }
   ],
   "source": [
    "%time\n",
    "\n",
    "# initializing \n",
    "graphs_pos = get_graphs('bursi.pos.gspan')\n",
    "graphs_neg = get_graphs('bursi.neg.gspan')\n",
    "\n",
    "# train/test split\n",
    "train_test_split = 0.6\n",
    "from eden.util import random_bipartition_iter\n",
    "pos_train_global,pos_test_global = random_bipartition_iter(graphs_pos,train_test_split)\n",
    "neg_train_global,neg_test_global = random_bipartition_iter(graphs_neg,train_test_split)\n",
    "\n",
    "percentages = [.2,.3,.4,.5,.6]\n",
    "n_repetitions = 10\n",
    "\n",
    "original_repetitions = []\n",
    "original_sample_repetitions = []\n",
    "sample_repetitions = []\n",
    "\n",
    "for percentage in percentages:\n",
    "    originals = []\n",
    "    originals_samples = []\n",
    "    samples = []\n",
    "    for repetition in range(n_repetitions):\n",
    "        pos_train_global,pos_train_global_ = tee(pos_train_global)\n",
    "        neg_train_global,neg_train_global_ = tee(neg_train_global)\n",
    "        pos_test_global,pos_test_global_ = tee(pos_test_global)\n",
    "        neg_test_global,neg_test_global_ = tee(neg_test_global)\n",
    "\n",
    "        # use shuffled list to create test and sample set\n",
    "        pos,pos_reminder = random_bipartition_iter(pos_train_global_,percentage)\n",
    "        pos,pos_ = tee(pos)\n",
    "        neg,neg_reminder = random_bipartition_iter(neg_train_global_,percentage)\n",
    "        neg,neg_ = tee(neg)\n",
    "\n",
    "        #sample independently from the 2 classes\n",
    "        sampled_pos = sample(pos)\n",
    "        sampled_neg = sample(neg)\n",
    "\n",
    "        #evaluate the predictive performance on held out test set\n",
    "        start=time()\n",
    "        print \"=\"*80\n",
    "        print 'repetition: %d/%d'%(repetition+1, n_repetitions)\n",
    "        print \"training percentage:\"+str(percentage)\n",
    "        perf_orig, perf_orig_samp, perf_samp = fit_and_evaluate(pos_,neg_,\n",
    "                                                                sampled_pos,sampled_neg,\n",
    "                                                                pos_test_global_,neg_test_global_)\n",
    "        originals.append(perf_orig)\n",
    "        originals_samples.append(perf_orig_samp)\n",
    "        samples.append(perf_samp)\n",
    "    \n",
    "    original_repetitions.append(originals)\n",
    "    original_sample_repetitions.append(originals_samples)\n",
    "    sample_repetitions.append(samples)\n",
    "    print 'Time elapsed for perc: %.2f : %.1f sec'%(percentage,(time()-start))\n"
   ]
  },
  {
   "cell_type": "code",
   "execution_count": null,
   "metadata": {
    "collapsed": false
   },
   "outputs": [],
   "source": [
    "os = np.mean(original_sample_repetitions, axis=1)\n",
    "o = np.mean(original_repetitions, axis=1)\n",
    "s = np.mean(sample_repetitions, axis=1)\n",
    "plt.figure(figsize=(12,5))\n",
    "plt.grid()\n",
    "plt.plot(os, color='g', marker='o', markersize=6, markeredgecolor='g', markerfacecolor='w', label='original+sample')\n",
    "plt.plot(o, color='r', marker='o', markersize=6, markeredgecolor='r', markerfacecolor='w', label='original')\n",
    "plt.plot(s, color='b', marker='o', markersize=6, markeredgecolor='b', markerfacecolor='w', label='sample')\n",
    "plt.legend(loc='lower right')\n",
    "plt.savefig('plot_predictive_performance_of_samples.pdf')"
   ]
  },
  {
   "cell_type": "code",
   "execution_count": null,
   "metadata": {
    "collapsed": false
   },
   "outputs": [],
   "source": [
    "from graphlearn.utils.draw import draw_learning_curve\n",
    "draw_learning_curve(data_first=original_repetitions,\n",
    "                    data_second=original_sample_repetitions,\n",
    "                    x_axis=percentages,\n",
    "                    measure='roc',\n",
    "                    delta=0.005,scaling=30)"
   ]
  }
 ],
 "metadata": {
  "kernelspec": {
   "display_name": "Python 2",
   "language": "python",
   "name": "python2"
  },
  "language_info": {
   "codemirror_mode": {
    "name": "ipython",
    "version": 2
   },
   "file_extension": ".py",
   "mimetype": "text/x-python",
   "name": "python",
   "nbconvert_exporter": "python",
   "pygments_lexer": "ipython2",
   "version": "2.7.10"
  }
 },
 "nbformat": 4,
 "nbformat_minor": 0
}
