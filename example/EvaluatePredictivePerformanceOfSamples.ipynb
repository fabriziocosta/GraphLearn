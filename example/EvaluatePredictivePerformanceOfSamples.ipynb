{
 "cells": [
  {
   "cell_type": "code",
   "execution_count": 1,
   "metadata": {
    "collapsed": false
   },
   "outputs": [],
   "source": [
    "%load_ext autoreload\n",
    "%autoreload 2"
   ]
  },
  {
   "cell_type": "code",
   "execution_count": 2,
   "metadata": {
    "collapsed": true
   },
   "outputs": [],
   "source": [
    "from eden.util import configure_logging\n",
    "import logging\n",
    "configure_logging(logging.getLogger(),verbosity=1)"
   ]
  },
  {
   "cell_type": "code",
   "execution_count": null,
   "metadata": {
    "collapsed": false
   },
   "outputs": [
    {
     "name": "stdout",
     "output_type": "stream",
     "text": [
      "CPU times: user 3 µs, sys: 1e+03 ns, total: 4 µs\n",
      "Wall time: 5.96 µs\n"
     ]
    }
   ],
   "source": [
    "'''\n",
    "second performance test\n",
    "'''\n",
    "%time\n",
    "import sys\n",
    "sys.path.append('..')\n",
    "%matplotlib inline\n",
    "# you might need this:\n",
    "#import matplotlib\n",
    "#matplotlib.use('Agg')\n",
    "\n",
    "from eden.converter.graph.gspan import gspan_to_eden\n",
    "from graphlearn.graphlearn import GraphLearnSampler\n",
    "import itertools\n",
    "from eden.graph import Vectorizer\n",
    "import matplotlib.pyplot as plt\n",
    "import numpy as np\n",
    "\n",
    "from eden.util import fit_estimator,fit , random_bipartition_iter,estimate\n",
    "import random\n",
    "from eden.util import selection_iterator as picker\n",
    "from sklearn.linear_model import SGDClassifier\n",
    "\n",
    "vectorizer = Vectorizer( complexity=2 )\n",
    "#2401 positives and 1936 negatives\n",
    "NUMPOS=2401\n",
    "NUMNEG=1936\n",
    "\n",
    "######################## testing ##############################\n",
    "from eden.util import iterator_size \n",
    "from time import time\n",
    "def train_estimator_and_evaluate_testsets(pos_original,neg_original,pos_augmented,neg_augmented,pos_test,neg_test):\n",
    "    # create graph sets...orig augmented and sampled\n",
    "    pos_orig,pos_orig_ = itertools.tee(pos_original)\n",
    "    neg_orig,neg_orig_ = itertools.tee(neg_original)\n",
    "    \n",
    "    pos_augmented , pos_sampled = itertools.tee(pos_augmented)\n",
    "    neg_augmented , neg_sampled = itertools.tee(neg_augmented)\n",
    "    \n",
    "    pos_augmented = itertools.chain(pos_augmented,pos_orig_)\n",
    "    neg_augmented = itertools.chain(neg_augmented,neg_orig_)\n",
    "\n",
    "    predictive_performances=[]\n",
    "    for desc,pos_train,neg_train in [('original',pos_orig, neg_orig),( 'original+sample',pos_augmented, neg_augmented),('sample',pos_sampled,neg_sampled)]:\n",
    "        pos_train,pos_train_=itertools.tee(pos_train)\n",
    "        neg_train,neg_train_=itertools.tee(neg_train)\n",
    "        pos_size=sum(1 for x in pos_train_)\n",
    "        neg_size=sum(1 for x in neg_train_)\n",
    "        start=time()\n",
    "        print \"-\"*80\n",
    "        print 'working on %s'%(desc)\n",
    "        print 'training set sizes: #pos: %d #neg: %d'%(pos_size, neg_size)\n",
    "        pos_test,pos_test_=itertools.tee(pos_test)\n",
    "        neg_test,neg_test_=itertools.tee(neg_test)\n",
    "        local_estimator = fit( pos_train,neg_train,vectorizer,n_jobs=-1, n_iter_search=1 )\n",
    "        apr, roc = estimate(pos_test_,neg_test_,local_estimator,vectorizer)\n",
    "        predictive_performances.append(roc)\n",
    "        print 'elapsed: %.1f sec'%(time()-start)\n",
    "    return predictive_performances\n",
    "\n",
    "\n",
    "def sample(graphs):\n",
    "    sampler = GraphLearnSampler(radius_list=[0,1,2],thickness_list=[1,2])\n",
    "    graphs, graphs_ = itertools.tee(graphs)\n",
    "    sampler.fit(graphs, n_jobs=1, core_interface_pair_remove_threshold=3, interface_remove_threshold=3)\n",
    "    n_steps=10\n",
    "    sampling_factor=2 #how many samples per seed\n",
    "    \n",
    "    sampling_interval=np.ceil([n_steps/sampling_factor])\n",
    "    graphs = sampler.sample(graphs_,\n",
    "                        same_radius=False,\n",
    "                        same_core_size=True,\n",
    "                        select_cip_max_tries=200,\n",
    "                        batch_size=30,\n",
    "                        n_steps=n_steps,\n",
    "                        sampling_interval=sampling_interval,\n",
    "                        n_jobs=1,\n",
    "                        annealing_factor=1.2,\n",
    "                        probabilistic_core_choice=True)\n",
    "    for graph in list(graphs):\n",
    "        path_graphs = graph.graph['sampling_info']['graphs_history']\n",
    "        for path_graph in path_graphs:\n",
    "            yield path_graph"
   ]
  },
  {
   "cell_type": "code",
   "execution_count": null,
   "metadata": {
    "collapsed": false,
    "scrolled": false
   },
   "outputs": [
    {
     "name": "stdout",
     "output_type": "stream",
     "text": [
      "CPU times: user 2 µs, sys: 0 ns, total: 2 µs\n",
      "Wall time: 4.05 µs\n",
      "================================================================================\n",
      "training percentage:0.1\n",
      "--------------------------------------------------------------------------------\n",
      "working on original\n",
      "training set sizes: #pos: 168 #neg: 135\n"
     ]
    }
   ],
   "source": [
    "%time\n",
    "from time import time\n",
    "from itertools import tee\n",
    "# initializing \n",
    "graphs_pos= gspan_to_eden('bursi.pos.gspan')\n",
    "graphs_neg= gspan_to_eden('bursi.neg.gspan')\n",
    "#take 70% train 30% test\n",
    "pos_train_global,pos_test_global = random_bipartition_iter(graphs_pos,0.7)\n",
    "neg_train_global,neg_test_global = random_bipartition_iter(graphs_neg,0.7)\n",
    "\n",
    "originals=[]\n",
    "originals_samples=[]\n",
    "samples=[]\n",
    "\n",
    "percentages=[.1,.2,.3,.4]\n",
    "for percentage in percentages:\n",
    "    pos_train_global,pos_train_global_ = tee(pos_train_global)\n",
    "    neg_train_global,neg_train_global_ = tee(neg_train_global)\n",
    "    pos_test_global,pos_test_global_ = tee(pos_test_global)\n",
    "    neg_test_global,neg_test_global_ = tee(neg_test_global)\n",
    "\n",
    "    # use shuffled list to create test and sample set\n",
    "    pos,pos_reminder = random_bipartition_iter(pos_train_global_,percentage)\n",
    "    pos,pos_ = tee(pos)\n",
    "    neg,neg_reminder = random_bipartition_iter(neg_train_global_,percentage)\n",
    "    neg,neg_ = tee(neg)\n",
    "     \n",
    "    #sample independently from the 2 classes\n",
    "    sampled_pos = sample(pos)\n",
    "    sampled_neg = sample(neg)\n",
    "    \n",
    "    #evaluate the predictive performance on held out test set\n",
    "    start=time()\n",
    "    print \"=\"*80\n",
    "    print \"training percentage:\"+str(percentage)\n",
    "    perf_orig, perf_orig_samp, perf_samp = train_estimator_and_evaluate_testsets(pos_,\n",
    "                                                                                 neg_,\n",
    "                                                                                 sampled_pos, \n",
    "                                                                                 sampled_neg, \n",
    "                                                                                 pos_test_global_,\n",
    "                                                                                 neg_test_global_)\n",
    "    originals.append(perf_orig)\n",
    "    originals_samples.append(perf_orig_samp)\n",
    "    samples.append(perf_samp)\n",
    "    print 'Time elapsed for perc: %.2f : %.1f sec'%(percentage,(time()-start))\n"
   ]
  },
  {
   "cell_type": "code",
   "execution_count": null,
   "metadata": {
    "collapsed": false
   },
   "outputs": [],
   "source": [
    "# draw \n",
    "import matplotlib.pyplot as plt\n",
    "plt.figure(figsize=(12,5))\n",
    "plt.grid()\n",
    "plt.plot(originals_samples, color='r', marker='o', markersize=6, markeredgecolor='r', markerfacecolor='w', label='original+sample')\n",
    "plt.plot(originals, color='b', marker='o', markersize=6, markeredgecolor='b', markerfacecolor='w', label='original')\n",
    "plt.plot(samples, color='g', marker='o', markersize=6, markeredgecolor='g', markerfacecolor='w', label='sample')\n",
    "plt.legend(loc='lower right')\n",
    "plt.savefig('plot_predictive_performance_of_samples.pdf')"
   ]
  }
 ],
 "metadata": {
  "kernelspec": {
   "display_name": "Python 2",
   "language": "python",
   "name": "python2"
  },
  "language_info": {
   "codemirror_mode": {
    "name": "ipython",
    "version": 2
   },
   "file_extension": ".py",
   "mimetype": "text/x-python",
   "name": "python",
   "nbconvert_exporter": "python",
   "pygments_lexer": "ipython2",
   "version": "2.7.6"
  }
 },
 "nbformat": 4,
 "nbformat_minor": 0
}
